{
  "cells": [
    {
      "attachments": {},
      "cell_type": "markdown",
      "metadata": {
        "id": "2ZTc5VXDfhbh"
      },
      "source": [
        "# Before your start:\n",
        "- Read the README.md file\n",
        "- Comment as much as you can and use the resources in the README.md file\n",
        "- Happy learning!"
      ]
    },
    {
      "cell_type": "code",
      "execution_count": 1426,
      "metadata": {
        "id": "i5noFtjbfhbs"
      },
      "outputs": [],
      "source": [
        "#Import your libraries\n",
        "\n",
        "import numpy as np\n",
        "import pandas as pd"
      ]
    },
    {
      "attachments": {},
      "cell_type": "markdown",
      "metadata": {
        "id": "14Y2pxPxfhbv"
      },
      "source": [
        "# Introduction\n",
        "\n",
        "In this lab, we will use two datasets. Both datasets contain variables that describe apps from the Google Play Store. We will use our knowledge in feature extraction to process these datasets and prepare them for the use of a ML algorithm."
      ]
    },
    {
      "attachments": {},
      "cell_type": "markdown",
      "metadata": {
        "id": "hwvi18ARfhbx"
      },
      "source": [
        "# Challenge 1 - Loading and Extracting Features from the First Dataset"
      ]
    },
    {
      "attachments": {},
      "cell_type": "markdown",
      "metadata": {
        "id": "xDmBR6W3fhby"
      },
      "source": [
        "#### In this challenge, our goals are: \n",
        "\n",
        "* Exploring the dataset.\n",
        "* Identify the columns with missing values.\n",
        "* Either replacing the missing values in each column or drop the columns.\n",
        "* Conver each column to the appropriate type."
      ]
    },
    {
      "attachments": {},
      "cell_type": "markdown",
      "metadata": {
        "id": "3C6aY7wzfhbz"
      },
      "source": [
        "#### The first dataset contains different information describing the apps. \n",
        "\n",
        "Load the dataset into the variable `google_play` in the cell below. The dataset is in the file `googleplaystore.csv`"
      ]
    },
    {
      "cell_type": "code",
      "execution_count": 1427,
      "metadata": {
        "id": "mdOKsqcwfhb0"
      },
      "outputs": [],
      "source": [
        "# Your code here:\n",
        "\n",
        "google_play = pd.read_csv('/Users/basakbuluttekin/IronHack_New/ironhack_labs/DAFT_0410/module_3/Lab_5_Feature-Extraction/data/googleplaystore.csv')"
      ]
    },
    {
      "attachments": {},
      "cell_type": "markdown",
      "metadata": {
        "id": "Gmuu6N0Vfhb2"
      },
      "source": [
        "#### Examine all variables and their types in the following cell"
      ]
    },
    {
      "cell_type": "code",
      "execution_count": 1428,
      "metadata": {
        "id": "2BsicbPUfhb3"
      },
      "outputs": [
        {
          "data": {
            "text/plain": [
              "App                object\n",
              "Category           object\n",
              "Rating            float64\n",
              "Reviews            object\n",
              "Size               object\n",
              "Installs           object\n",
              "Type               object\n",
              "Price              object\n",
              "Content Rating     object\n",
              "Genres             object\n",
              "Last Updated       object\n",
              "Current Ver        object\n",
              "Android Ver        object\n",
              "dtype: object"
            ]
          },
          "execution_count": 1428,
          "metadata": {},
          "output_type": "execute_result"
        }
      ],
      "source": [
        "google_play.dtypes"
      ]
    },
    {
      "attachments": {},
      "cell_type": "markdown",
      "metadata": {
        "id": "t6pMZohgfhb5"
      },
      "source": [
        "#### Since this dataset only contains one numeric column, let's skip the `describe()` function and look at the first 5 rows using the `head()` function"
      ]
    },
    {
      "cell_type": "code",
      "execution_count": 1429,
      "metadata": {
        "id": "bwaLYF25fhb6"
      },
      "outputs": [
        {
          "data": {
            "text/html": [
              "<div>\n",
              "<style scoped>\n",
              "    .dataframe tbody tr th:only-of-type {\n",
              "        vertical-align: middle;\n",
              "    }\n",
              "\n",
              "    .dataframe tbody tr th {\n",
              "        vertical-align: top;\n",
              "    }\n",
              "\n",
              "    .dataframe thead th {\n",
              "        text-align: right;\n",
              "    }\n",
              "</style>\n",
              "<table border=\"1\" class=\"dataframe\">\n",
              "  <thead>\n",
              "    <tr style=\"text-align: right;\">\n",
              "      <th></th>\n",
              "      <th>App</th>\n",
              "      <th>Category</th>\n",
              "      <th>Rating</th>\n",
              "      <th>Reviews</th>\n",
              "      <th>Size</th>\n",
              "      <th>Installs</th>\n",
              "      <th>Type</th>\n",
              "      <th>Price</th>\n",
              "      <th>Content Rating</th>\n",
              "      <th>Genres</th>\n",
              "      <th>Last Updated</th>\n",
              "      <th>Current Ver</th>\n",
              "      <th>Android Ver</th>\n",
              "    </tr>\n",
              "  </thead>\n",
              "  <tbody>\n",
              "    <tr>\n",
              "      <th>0</th>\n",
              "      <td>Photo Editor &amp; Candy Camera &amp; Grid &amp; ScrapBook</td>\n",
              "      <td>ART_AND_DESIGN</td>\n",
              "      <td>4.1</td>\n",
              "      <td>159</td>\n",
              "      <td>19M</td>\n",
              "      <td>10,000+</td>\n",
              "      <td>Free</td>\n",
              "      <td>0</td>\n",
              "      <td>Everyone</td>\n",
              "      <td>Art &amp; Design</td>\n",
              "      <td>January 7, 2018</td>\n",
              "      <td>1.0.0</td>\n",
              "      <td>4.0.3 and up</td>\n",
              "    </tr>\n",
              "    <tr>\n",
              "      <th>1</th>\n",
              "      <td>Coloring book moana</td>\n",
              "      <td>ART_AND_DESIGN</td>\n",
              "      <td>3.9</td>\n",
              "      <td>967</td>\n",
              "      <td>14M</td>\n",
              "      <td>500,000+</td>\n",
              "      <td>Free</td>\n",
              "      <td>0</td>\n",
              "      <td>Everyone</td>\n",
              "      <td>Art &amp; Design;Pretend Play</td>\n",
              "      <td>January 15, 2018</td>\n",
              "      <td>2.0.0</td>\n",
              "      <td>4.0.3 and up</td>\n",
              "    </tr>\n",
              "    <tr>\n",
              "      <th>2</th>\n",
              "      <td>U Launcher Lite – FREE Live Cool Themes, Hide ...</td>\n",
              "      <td>ART_AND_DESIGN</td>\n",
              "      <td>4.7</td>\n",
              "      <td>87510</td>\n",
              "      <td>8.7M</td>\n",
              "      <td>5,000,000+</td>\n",
              "      <td>Free</td>\n",
              "      <td>0</td>\n",
              "      <td>Everyone</td>\n",
              "      <td>Art &amp; Design</td>\n",
              "      <td>August 1, 2018</td>\n",
              "      <td>1.2.4</td>\n",
              "      <td>4.0.3 and up</td>\n",
              "    </tr>\n",
              "    <tr>\n",
              "      <th>3</th>\n",
              "      <td>Sketch - Draw &amp; Paint</td>\n",
              "      <td>ART_AND_DESIGN</td>\n",
              "      <td>4.5</td>\n",
              "      <td>215644</td>\n",
              "      <td>25M</td>\n",
              "      <td>50,000,000+</td>\n",
              "      <td>Free</td>\n",
              "      <td>0</td>\n",
              "      <td>Teen</td>\n",
              "      <td>Art &amp; Design</td>\n",
              "      <td>June 8, 2018</td>\n",
              "      <td>Varies with device</td>\n",
              "      <td>4.2 and up</td>\n",
              "    </tr>\n",
              "    <tr>\n",
              "      <th>4</th>\n",
              "      <td>Pixel Draw - Number Art Coloring Book</td>\n",
              "      <td>ART_AND_DESIGN</td>\n",
              "      <td>4.3</td>\n",
              "      <td>967</td>\n",
              "      <td>2.8M</td>\n",
              "      <td>100,000+</td>\n",
              "      <td>Free</td>\n",
              "      <td>0</td>\n",
              "      <td>Everyone</td>\n",
              "      <td>Art &amp; Design;Creativity</td>\n",
              "      <td>June 20, 2018</td>\n",
              "      <td>1.1</td>\n",
              "      <td>4.4 and up</td>\n",
              "    </tr>\n",
              "    <tr>\n",
              "      <th>...</th>\n",
              "      <td>...</td>\n",
              "      <td>...</td>\n",
              "      <td>...</td>\n",
              "      <td>...</td>\n",
              "      <td>...</td>\n",
              "      <td>...</td>\n",
              "      <td>...</td>\n",
              "      <td>...</td>\n",
              "      <td>...</td>\n",
              "      <td>...</td>\n",
              "      <td>...</td>\n",
              "      <td>...</td>\n",
              "      <td>...</td>\n",
              "    </tr>\n",
              "    <tr>\n",
              "      <th>10836</th>\n",
              "      <td>Sya9a Maroc - FR</td>\n",
              "      <td>FAMILY</td>\n",
              "      <td>4.5</td>\n",
              "      <td>38</td>\n",
              "      <td>53M</td>\n",
              "      <td>5,000+</td>\n",
              "      <td>Free</td>\n",
              "      <td>0</td>\n",
              "      <td>Everyone</td>\n",
              "      <td>Education</td>\n",
              "      <td>July 25, 2017</td>\n",
              "      <td>1.48</td>\n",
              "      <td>4.1 and up</td>\n",
              "    </tr>\n",
              "    <tr>\n",
              "      <th>10837</th>\n",
              "      <td>Fr. Mike Schmitz Audio Teachings</td>\n",
              "      <td>FAMILY</td>\n",
              "      <td>5.0</td>\n",
              "      <td>4</td>\n",
              "      <td>3.6M</td>\n",
              "      <td>100+</td>\n",
              "      <td>Free</td>\n",
              "      <td>0</td>\n",
              "      <td>Everyone</td>\n",
              "      <td>Education</td>\n",
              "      <td>July 6, 2018</td>\n",
              "      <td>1.0</td>\n",
              "      <td>4.1 and up</td>\n",
              "    </tr>\n",
              "    <tr>\n",
              "      <th>10838</th>\n",
              "      <td>Parkinson Exercices FR</td>\n",
              "      <td>MEDICAL</td>\n",
              "      <td>NaN</td>\n",
              "      <td>3</td>\n",
              "      <td>9.5M</td>\n",
              "      <td>1,000+</td>\n",
              "      <td>Free</td>\n",
              "      <td>0</td>\n",
              "      <td>Everyone</td>\n",
              "      <td>Medical</td>\n",
              "      <td>January 20, 2017</td>\n",
              "      <td>1.0</td>\n",
              "      <td>2.2 and up</td>\n",
              "    </tr>\n",
              "    <tr>\n",
              "      <th>10839</th>\n",
              "      <td>The SCP Foundation DB fr nn5n</td>\n",
              "      <td>BOOKS_AND_REFERENCE</td>\n",
              "      <td>4.5</td>\n",
              "      <td>114</td>\n",
              "      <td>Varies with device</td>\n",
              "      <td>1,000+</td>\n",
              "      <td>Free</td>\n",
              "      <td>0</td>\n",
              "      <td>Mature 17+</td>\n",
              "      <td>Books &amp; Reference</td>\n",
              "      <td>January 19, 2015</td>\n",
              "      <td>Varies with device</td>\n",
              "      <td>Varies with device</td>\n",
              "    </tr>\n",
              "    <tr>\n",
              "      <th>10840</th>\n",
              "      <td>iHoroscope - 2018 Daily Horoscope &amp; Astrology</td>\n",
              "      <td>LIFESTYLE</td>\n",
              "      <td>4.5</td>\n",
              "      <td>398307</td>\n",
              "      <td>19M</td>\n",
              "      <td>10,000,000+</td>\n",
              "      <td>Free</td>\n",
              "      <td>0</td>\n",
              "      <td>Everyone</td>\n",
              "      <td>Lifestyle</td>\n",
              "      <td>July 25, 2018</td>\n",
              "      <td>Varies with device</td>\n",
              "      <td>Varies with device</td>\n",
              "    </tr>\n",
              "  </tbody>\n",
              "</table>\n",
              "<p>10841 rows × 13 columns</p>\n",
              "</div>"
            ],
            "text/plain": [
              "                                                     App             Category   \n",
              "0         Photo Editor & Candy Camera & Grid & ScrapBook       ART_AND_DESIGN  \\\n",
              "1                                    Coloring book moana       ART_AND_DESIGN   \n",
              "2      U Launcher Lite – FREE Live Cool Themes, Hide ...       ART_AND_DESIGN   \n",
              "3                                  Sketch - Draw & Paint       ART_AND_DESIGN   \n",
              "4                  Pixel Draw - Number Art Coloring Book       ART_AND_DESIGN   \n",
              "...                                                  ...                  ...   \n",
              "10836                                   Sya9a Maroc - FR               FAMILY   \n",
              "10837                   Fr. Mike Schmitz Audio Teachings               FAMILY   \n",
              "10838                             Parkinson Exercices FR              MEDICAL   \n",
              "10839                      The SCP Foundation DB fr nn5n  BOOKS_AND_REFERENCE   \n",
              "10840      iHoroscope - 2018 Daily Horoscope & Astrology            LIFESTYLE   \n",
              "\n",
              "       Rating Reviews                Size     Installs  Type Price   \n",
              "0         4.1     159                 19M      10,000+  Free     0  \\\n",
              "1         3.9     967                 14M     500,000+  Free     0   \n",
              "2         4.7   87510                8.7M   5,000,000+  Free     0   \n",
              "3         4.5  215644                 25M  50,000,000+  Free     0   \n",
              "4         4.3     967                2.8M     100,000+  Free     0   \n",
              "...       ...     ...                 ...          ...   ...   ...   \n",
              "10836     4.5      38                 53M       5,000+  Free     0   \n",
              "10837     5.0       4                3.6M         100+  Free     0   \n",
              "10838     NaN       3                9.5M       1,000+  Free     0   \n",
              "10839     4.5     114  Varies with device       1,000+  Free     0   \n",
              "10840     4.5  398307                 19M  10,000,000+  Free     0   \n",
              "\n",
              "      Content Rating                     Genres      Last Updated   \n",
              "0           Everyone               Art & Design   January 7, 2018  \\\n",
              "1           Everyone  Art & Design;Pretend Play  January 15, 2018   \n",
              "2           Everyone               Art & Design    August 1, 2018   \n",
              "3               Teen               Art & Design      June 8, 2018   \n",
              "4           Everyone    Art & Design;Creativity     June 20, 2018   \n",
              "...              ...                        ...               ...   \n",
              "10836       Everyone                  Education     July 25, 2017   \n",
              "10837       Everyone                  Education      July 6, 2018   \n",
              "10838       Everyone                    Medical  January 20, 2017   \n",
              "10839     Mature 17+          Books & Reference  January 19, 2015   \n",
              "10840       Everyone                  Lifestyle     July 25, 2018   \n",
              "\n",
              "              Current Ver         Android Ver  \n",
              "0                   1.0.0        4.0.3 and up  \n",
              "1                   2.0.0        4.0.3 and up  \n",
              "2                   1.2.4        4.0.3 and up  \n",
              "3      Varies with device          4.2 and up  \n",
              "4                     1.1          4.4 and up  \n",
              "...                   ...                 ...  \n",
              "10836                1.48          4.1 and up  \n",
              "10837                 1.0          4.1 and up  \n",
              "10838                 1.0          2.2 and up  \n",
              "10839  Varies with device  Varies with device  \n",
              "10840  Varies with device  Varies with device  \n",
              "\n",
              "[10841 rows x 13 columns]"
            ]
          },
          "execution_count": 1429,
          "metadata": {},
          "output_type": "execute_result"
        }
      ],
      "source": [
        "google_play\n"
      ]
    },
    {
      "attachments": {},
      "cell_type": "markdown",
      "metadata": {
        "id": "cCzO2eA-fhb7"
      },
      "source": [
        "#### We can see that there are a few columns that could be coerced to numeric.\n",
        "\n",
        "Start with the reviews column. We can evaluate what value is causing this column to be of object type finding the non-numeric values in this column. To do this, we recall the `to_numeric()` function. With this function, we are able to coerce all non-numeric data to null. We can then use the `isnull()` function to subset our dataframe using the True/False column that this function generates.\n",
        "\n",
        "In the cell below, transform the Reviews column to numeric and assign this new column to the variable `Reviews_numeric`. Make sure to coerce the errors."
      ]
    },
    {
      "cell_type": "code",
      "execution_count": 1430,
      "metadata": {
        "id": "cInA2NE2fhb8"
      },
      "outputs": [],
      "source": [
        "google_play['Reviews_numeric'] = pd.to_numeric(google_play['Reviews'], errors = 'coerce')"
      ]
    },
    {
      "attachments": {},
      "cell_type": "markdown",
      "metadata": {
        "id": "j1W0fmqmfhb9"
      },
      "source": [
        "Next, create a column containing True/False values using the `isnull()` function. Assign this column to the `Reviews_isnull` variable."
      ]
    },
    {
      "cell_type": "code",
      "execution_count": 1431,
      "metadata": {
        "id": "LGX4U6Pyfhb-"
      },
      "outputs": [],
      "source": [
        "google_play['Reviews_isnull'] = google_play['Reviews_numeric'].isnull()\n"
      ]
    },
    {
      "attachments": {},
      "cell_type": "markdown",
      "metadata": {
        "id": "jHDPCdHVfhb-"
      },
      "source": [
        "Finally, subset the `google_play` with `Reviews_isnull`. This should give you all the rows that contain non-numeric characters.\n",
        "\n",
        "Your output should look like:\n",
        "\n",
        "![Reviews_bool.png](reviews-bool.png)"
      ]
    },
    {
      "cell_type": "code",
      "execution_count": 1432,
      "metadata": {
        "id": "O3MrHRVXfhb_"
      },
      "outputs": [
        {
          "data": {
            "text/html": [
              "<div>\n",
              "<style scoped>\n",
              "    .dataframe tbody tr th:only-of-type {\n",
              "        vertical-align: middle;\n",
              "    }\n",
              "\n",
              "    .dataframe tbody tr th {\n",
              "        vertical-align: top;\n",
              "    }\n",
              "\n",
              "    .dataframe thead th {\n",
              "        text-align: right;\n",
              "    }\n",
              "</style>\n",
              "<table border=\"1\" class=\"dataframe\">\n",
              "  <thead>\n",
              "    <tr style=\"text-align: right;\">\n",
              "      <th></th>\n",
              "      <th>App</th>\n",
              "      <th>Category</th>\n",
              "      <th>Rating</th>\n",
              "      <th>Reviews</th>\n",
              "      <th>Size</th>\n",
              "      <th>Installs</th>\n",
              "      <th>Type</th>\n",
              "      <th>Price</th>\n",
              "      <th>Content Rating</th>\n",
              "      <th>Genres</th>\n",
              "      <th>Last Updated</th>\n",
              "      <th>Current Ver</th>\n",
              "      <th>Android Ver</th>\n",
              "      <th>Reviews_numeric</th>\n",
              "      <th>Reviews_isnull</th>\n",
              "    </tr>\n",
              "  </thead>\n",
              "  <tbody>\n",
              "    <tr>\n",
              "      <th>10472</th>\n",
              "      <td>Life Made WI-Fi Touchscreen Photo Frame</td>\n",
              "      <td>1.9</td>\n",
              "      <td>19.0</td>\n",
              "      <td>3.0M</td>\n",
              "      <td>1,000+</td>\n",
              "      <td>Free</td>\n",
              "      <td>0</td>\n",
              "      <td>Everyone</td>\n",
              "      <td>NaN</td>\n",
              "      <td>February 11, 2018</td>\n",
              "      <td>1.0.19</td>\n",
              "      <td>4.0 and up</td>\n",
              "      <td>NaN</td>\n",
              "      <td>NaN</td>\n",
              "      <td>True</td>\n",
              "    </tr>\n",
              "  </tbody>\n",
              "</table>\n",
              "</div>"
            ],
            "text/plain": [
              "                                           App Category  Rating Reviews   \n",
              "10472  Life Made WI-Fi Touchscreen Photo Frame      1.9    19.0    3.0M  \\\n",
              "\n",
              "         Size Installs Type     Price Content Rating             Genres   \n",
              "10472  1,000+     Free    0  Everyone            NaN  February 11, 2018  \\\n",
              "\n",
              "      Last Updated Current Ver Android Ver  Reviews_numeric  Reviews_isnull  \n",
              "10472       1.0.19  4.0 and up         NaN              NaN            True  "
            ]
          },
          "execution_count": 1432,
          "metadata": {},
          "output_type": "execute_result"
        }
      ],
      "source": [
        "google_play[google_play['Reviews_isnull'] == True]\n"
      ]
    },
    {
      "attachments": {},
      "cell_type": "markdown",
      "metadata": {
        "id": "gDkJXhN9fhcA"
      },
      "source": [
        "#### We see that Google Play is using a shorthand for millions. \n",
        "\n",
        "Let's write a function to transform this data.\n",
        "\n",
        "Steps:\n",
        "\n",
        "1. Create a function that returns the correct numeric values of *Reviews*.\n",
        "1. Define a test string with `M` in the last character.\n",
        "1. Test your function with the test string. Make sure your function works correctly. If not, modify your functions and test again."
      ]
    },
    {
      "cell_type": "code",
      "execution_count": 1433,
      "metadata": {
        "id": "3DLRLUkYfhcA"
      },
      "outputs": [
        {
          "data": {
            "text/plain": [
              "True"
            ]
          },
          "execution_count": 1433,
          "metadata": {},
          "output_type": "execute_result"
        }
      ],
      "source": [
        "# Your code here\n",
        "\n",
        "def convert_string_to_numeric(s):\n",
        "    \"\"\"\n",
        "    Convert a string value to numeric. If the last character of the string is `M`, obtain the \n",
        "    numeric part of the string, multiply it with 1,000,000, then return the result. Otherwise, \n",
        "    convert the string to numeric value and return the result.\n",
        "    \n",
        "    Args:\n",
        "        s: The Reviews score in string format.\n",
        "\n",
        "    Returns:\n",
        "        The correct numeric value of the Reviews score.\n",
        "    \"\"\"\n",
        "    \n",
        "    if s.endswith('M'):\n",
        "            multiplier = 1000000\n",
        "            s = s[0:len(s)-1] # strip multiplier character\n",
        "            return float(float(s) * multiplier)\n",
        "    else:\n",
        "        return float(s)\n",
        "   \n",
        "\n",
        "test_string = '4.0M'\n",
        "\n",
        "convert_string_to_numeric(test_string) == 4000000"
      ]
    },
    {
      "attachments": {},
      "cell_type": "markdown",
      "metadata": {
        "id": "V5mvhSpafhcC"
      },
      "source": [
        "The last step is to apply the function to the `Reviews` column in the following cell:"
      ]
    },
    {
      "cell_type": "code",
      "execution_count": 1434,
      "metadata": {
        "id": "cbmli9LAfhcC"
      },
      "outputs": [],
      "source": [
        "google_play['Reviews'] = google_play['Reviews'].apply(convert_string_to_numeric)\n"
      ]
    },
    {
      "attachments": {},
      "cell_type": "markdown",
      "metadata": {
        "id": "jL-H212YfhcD"
      },
      "source": [
        "Check the non-numeric `Reviews` row again. It should have been fixed now and you should see:\n",
        "\n",
        "![Reviews_bool_fixed.png](reviews-bool-fixed.png)"
      ]
    },
    {
      "cell_type": "code",
      "execution_count": 1435,
      "metadata": {
        "id": "nYqLVVZpfhcD"
      },
      "outputs": [
        {
          "data": {
            "text/html": [
              "<div>\n",
              "<style scoped>\n",
              "    .dataframe tbody tr th:only-of-type {\n",
              "        vertical-align: middle;\n",
              "    }\n",
              "\n",
              "    .dataframe tbody tr th {\n",
              "        vertical-align: top;\n",
              "    }\n",
              "\n",
              "    .dataframe thead th {\n",
              "        text-align: right;\n",
              "    }\n",
              "</style>\n",
              "<table border=\"1\" class=\"dataframe\">\n",
              "  <thead>\n",
              "    <tr style=\"text-align: right;\">\n",
              "      <th></th>\n",
              "      <th>App</th>\n",
              "      <th>Category</th>\n",
              "      <th>Rating</th>\n",
              "      <th>Reviews</th>\n",
              "      <th>Size</th>\n",
              "      <th>Installs</th>\n",
              "      <th>Type</th>\n",
              "      <th>Price</th>\n",
              "      <th>Content Rating</th>\n",
              "      <th>Genres</th>\n",
              "      <th>Last Updated</th>\n",
              "      <th>Current Ver</th>\n",
              "      <th>Android Ver</th>\n",
              "      <th>Reviews_numeric</th>\n",
              "      <th>Reviews_isnull</th>\n",
              "    </tr>\n",
              "  </thead>\n",
              "  <tbody>\n",
              "    <tr>\n",
              "      <th>10472</th>\n",
              "      <td>Life Made WI-Fi Touchscreen Photo Frame</td>\n",
              "      <td>1.9</td>\n",
              "      <td>19.0</td>\n",
              "      <td>3000000.0</td>\n",
              "      <td>1,000+</td>\n",
              "      <td>Free</td>\n",
              "      <td>0</td>\n",
              "      <td>Everyone</td>\n",
              "      <td>NaN</td>\n",
              "      <td>February 11, 2018</td>\n",
              "      <td>1.0.19</td>\n",
              "      <td>4.0 and up</td>\n",
              "      <td>NaN</td>\n",
              "      <td>NaN</td>\n",
              "      <td>True</td>\n",
              "    </tr>\n",
              "  </tbody>\n",
              "</table>\n",
              "</div>"
            ],
            "text/plain": [
              "                                           App Category  Rating    Reviews   \n",
              "10472  Life Made WI-Fi Touchscreen Photo Frame      1.9    19.0  3000000.0  \\\n",
              "\n",
              "         Size Installs Type     Price Content Rating             Genres   \n",
              "10472  1,000+     Free    0  Everyone            NaN  February 11, 2018  \\\n",
              "\n",
              "      Last Updated Current Ver Android Ver  Reviews_numeric  Reviews_isnull  \n",
              "10472       1.0.19  4.0 and up         NaN              NaN            True  "
            ]
          },
          "execution_count": 1435,
          "metadata": {},
          "output_type": "execute_result"
        }
      ],
      "source": [
        "google_play[google_play['Reviews'] == 3000000]\n"
      ]
    },
    {
      "attachments": {},
      "cell_type": "markdown",
      "metadata": {
        "id": "MK3E33YAfhcE"
      },
      "source": [
        "Also check the variable types of `google_play`. The `Reviews` column should be a `float64` type now."
      ]
    },
    {
      "cell_type": "code",
      "execution_count": 1436,
      "metadata": {
        "id": "Y7Tw2lX8fhcF"
      },
      "outputs": [
        {
          "data": {
            "text/plain": [
              "App                 object\n",
              "Category            object\n",
              "Rating             float64\n",
              "Reviews            float64\n",
              "Size                object\n",
              "Installs            object\n",
              "Type                object\n",
              "Price               object\n",
              "Content Rating      object\n",
              "Genres              object\n",
              "Last Updated        object\n",
              "Current Ver         object\n",
              "Android Ver         object\n",
              "Reviews_numeric    float64\n",
              "Reviews_isnull        bool\n",
              "dtype: object"
            ]
          },
          "execution_count": 1436,
          "metadata": {},
          "output_type": "execute_result"
        }
      ],
      "source": [
        "google_play.dtypes\n"
      ]
    },
    {
      "attachments": {},
      "cell_type": "markdown",
      "metadata": {
        "id": "49TTLiq7fhcF"
      },
      "source": [
        "#### The next column we will look at is `Size`. We start by looking at all unique values in `Size`:\n",
        "\n",
        "*Hint: use `unique()` ([documentation](https://pandas.pydata.org/pandas-docs/stable/generated/pandas.Series.unique.html))*."
      ]
    },
    {
      "cell_type": "code",
      "execution_count": 1437,
      "metadata": {
        "id": "LOSnt7fMfhcF"
      },
      "outputs": [
        {
          "data": {
            "text/plain": [
              "array(['19M', '14M', '8.7M', '25M', '2.8M', '5.6M', '29M', '33M', '3.1M',\n",
              "       '28M', '12M', '20M', '21M', '37M', '2.7M', '5.5M', '17M', '39M',\n",
              "       '31M', '4.2M', '7.0M', '23M', '6.0M', '6.1M', '4.6M', '9.2M',\n",
              "       '5.2M', '11M', '24M', 'Varies with device', '9.4M', '15M', '10M',\n",
              "       '1.2M', '26M', '8.0M', '7.9M', '56M', '57M', '35M', '54M', '201k',\n",
              "       '3.6M', '5.7M', '8.6M', '2.4M', '27M', '2.5M', '16M', '3.4M',\n",
              "       '8.9M', '3.9M', '2.9M', '38M', '32M', '5.4M', '18M', '1.1M',\n",
              "       '2.2M', '4.5M', '9.8M', '52M', '9.0M', '6.7M', '30M', '2.6M',\n",
              "       '7.1M', '3.7M', '22M', '7.4M', '6.4M', '3.2M', '8.2M', '9.9M',\n",
              "       '4.9M', '9.5M', '5.0M', '5.9M', '13M', '73M', '6.8M', '3.5M',\n",
              "       '4.0M', '2.3M', '7.2M', '2.1M', '42M', '7.3M', '9.1M', '55M',\n",
              "       '23k', '6.5M', '1.5M', '7.5M', '51M', '41M', '48M', '8.5M', '46M',\n",
              "       '8.3M', '4.3M', '4.7M', '3.3M', '40M', '7.8M', '8.8M', '6.6M',\n",
              "       '5.1M', '61M', '66M', '79k', '8.4M', '118k', '44M', '695k', '1.6M',\n",
              "       '6.2M', '18k', '53M', '1.4M', '3.0M', '5.8M', '3.8M', '9.6M',\n",
              "       '45M', '63M', '49M', '77M', '4.4M', '4.8M', '70M', '6.9M', '9.3M',\n",
              "       '10.0M', '8.1M', '36M', '84M', '97M', '2.0M', '1.9M', '1.8M',\n",
              "       '5.3M', '47M', '556k', '526k', '76M', '7.6M', '59M', '9.7M', '78M',\n",
              "       '72M', '43M', '7.7M', '6.3M', '334k', '34M', '93M', '65M', '79M',\n",
              "       '100M', '58M', '50M', '68M', '64M', '67M', '60M', '94M', '232k',\n",
              "       '99M', '624k', '95M', '8.5k', '41k', '292k', '11k', '80M', '1.7M',\n",
              "       '74M', '62M', '69M', '75M', '98M', '85M', '82M', '96M', '87M',\n",
              "       '71M', '86M', '91M', '81M', '92M', '83M', '88M', '704k', '862k',\n",
              "       '899k', '378k', '266k', '375k', '1.3M', '975k', '980k', '4.1M',\n",
              "       '89M', '696k', '544k', '525k', '920k', '779k', '853k', '720k',\n",
              "       '713k', '772k', '318k', '58k', '241k', '196k', '857k', '51k',\n",
              "       '953k', '865k', '251k', '930k', '540k', '313k', '746k', '203k',\n",
              "       '26k', '314k', '239k', '371k', '220k', '730k', '756k', '91k',\n",
              "       '293k', '17k', '74k', '14k', '317k', '78k', '924k', '902k', '818k',\n",
              "       '81k', '939k', '169k', '45k', '475k', '965k', '90M', '545k', '61k',\n",
              "       '283k', '655k', '714k', '93k', '872k', '121k', '322k', '1.0M',\n",
              "       '976k', '172k', '238k', '549k', '206k', '954k', '444k', '717k',\n",
              "       '210k', '609k', '308k', '705k', '306k', '904k', '473k', '175k',\n",
              "       '350k', '383k', '454k', '421k', '70k', '812k', '442k', '842k',\n",
              "       '417k', '412k', '459k', '478k', '335k', '782k', '721k', '430k',\n",
              "       '429k', '192k', '200k', '460k', '728k', '496k', '816k', '414k',\n",
              "       '506k', '887k', '613k', '243k', '569k', '778k', '683k', '592k',\n",
              "       '319k', '186k', '840k', '647k', '191k', '373k', '437k', '598k',\n",
              "       '716k', '585k', '982k', '222k', '219k', '55k', '948k', '323k',\n",
              "       '691k', '511k', '951k', '963k', '25k', '554k', '351k', '27k',\n",
              "       '82k', '208k', '913k', '514k', '551k', '29k', '103k', '898k',\n",
              "       '743k', '116k', '153k', '209k', '353k', '499k', '173k', '597k',\n",
              "       '809k', '122k', '411k', '400k', '801k', '787k', '237k', '50k',\n",
              "       '643k', '986k', '97k', '516k', '837k', '780k', '961k', '269k',\n",
              "       '20k', '498k', '600k', '749k', '642k', '881k', '72k', '656k',\n",
              "       '601k', '221k', '228k', '108k', '940k', '176k', '33k', '663k',\n",
              "       '34k', '942k', '259k', '164k', '458k', '245k', '629k', '28k',\n",
              "       '288k', '775k', '785k', '636k', '916k', '994k', '309k', '485k',\n",
              "       '914k', '903k', '608k', '500k', '54k', '562k', '847k', '957k',\n",
              "       '688k', '811k', '270k', '48k', '329k', '523k', '921k', '874k',\n",
              "       '981k', '784k', '280k', '24k', '518k', '754k', '892k', '154k',\n",
              "       '860k', '364k', '387k', '626k', '161k', '879k', '39k', '970k',\n",
              "       '170k', '141k', '160k', '144k', '143k', '190k', '376k', '193k',\n",
              "       '246k', '73k', '658k', '992k', '253k', '420k', '404k', '1,000+',\n",
              "       '470k', '226k', '240k', '89k', '234k', '257k', '861k', '467k',\n",
              "       '157k', '44k', '676k', '67k', '552k', '885k', '1020k', '582k',\n",
              "       '619k'], dtype=object)"
            ]
          },
          "execution_count": 1437,
          "metadata": {},
          "output_type": "execute_result"
        }
      ],
      "source": [
        "google_play['Size'].unique()\n"
      ]
    },
    {
      "attachments": {},
      "cell_type": "markdown",
      "metadata": {
        "id": "TciEBCyXfhcG"
      },
      "source": [
        "You should have seen lots of unique values of the app sizes.\n",
        "\n",
        "#### While we can convert most of the `Size` values to numeric in the same way we converted the `Reviews` values, there is one value that is impossible to convert.\n",
        "\n",
        "What is that badass value? Enter it in the next cell and calculate the proportion of its occurence to the total number of records of `google_play`."
      ]
    },
    {
      "cell_type": "code",
      "execution_count": 1438,
      "metadata": {},
      "outputs": [
        {
          "data": {
            "text/plain": [
              "True"
            ]
          },
          "execution_count": 1438,
          "metadata": {},
          "output_type": "execute_result"
        }
      ],
      "source": [
        "# Your code here\n",
        "\n",
        "def convert_string_to_numeric2(s):\n",
        "    \"\"\"\n",
        "    Convert a string value to numeric. If the last character of the string is `M`, obtain the \n",
        "    numeric part of the string, multiply it with 1,000,000, then return the result. Otherwise, \n",
        "    convert the string to numeric value and return the result.\n",
        "    \n",
        "    Args:\n",
        "        s: The Reviews score in string format.\n",
        "\n",
        "    Returns:\n",
        "        The correct numeric value of the Reviews score.\n",
        "    \"\"\"\n",
        "    \n",
        "    if s.endswith('M'):\n",
        "            multiplier = 1000000\n",
        "            s = s[0:len(s)-1] # strip multiplier character\n",
        "            return float(float(s) * multiplier)\n",
        "    elif s.endswith('k'):\n",
        "            multiplier = 1000\n",
        "            s = s[0:len(s)-1] # strip multiplier character\n",
        "            return float(float(s) * multiplier)\n",
        "    else:\n",
        "        return s\n",
        "   \n",
        "\n",
        "test_string = '4.0M'\n",
        "\n",
        "convert_string_to_numeric2(test_string) == 4000000"
      ]
    },
    {
      "cell_type": "code",
      "execution_count": 1439,
      "metadata": {
        "id": "-BCYOWiYfhcG"
      },
      "outputs": [],
      "source": [
        "google_play['Size'] = google_play['Size'].apply(convert_string_to_numeric2)\n",
        "\n"
      ]
    },
    {
      "cell_type": "code",
      "execution_count": 1440,
      "metadata": {},
      "outputs": [
        {
          "data": {
            "text/plain": [
              "[19000000.0,\n",
              " 14000000.0,\n",
              " 8700000.0,\n",
              " 25000000.0,\n",
              " 2800000.0,\n",
              " 5600000.0,\n",
              " 29000000.0,\n",
              " 33000000.0,\n",
              " 3100000.0,\n",
              " 28000000.0,\n",
              " 12000000.0,\n",
              " 20000000.0,\n",
              " 21000000.0,\n",
              " 37000000.0,\n",
              " 2700000.0,\n",
              " 5500000.0,\n",
              " 17000000.0,\n",
              " 39000000.0,\n",
              " 31000000.0,\n",
              " 4200000.0,\n",
              " 7000000.0,\n",
              " 23000000.0,\n",
              " 6000000.0,\n",
              " 6100000.0,\n",
              " 4600000.0,\n",
              " 9200000.0,\n",
              " 5200000.0,\n",
              " 11000000.0,\n",
              " 24000000.0,\n",
              " 'Varies with device',\n",
              " 9400000.0,\n",
              " 15000000.0,\n",
              " 10000000.0,\n",
              " 1200000.0,\n",
              " 26000000.0,\n",
              " 8000000.0,\n",
              " 7900000.0,\n",
              " 56000000.0,\n",
              " 57000000.0,\n",
              " 35000000.0,\n",
              " 54000000.0,\n",
              " 201000.0,\n",
              " 3600000.0,\n",
              " 5700000.0,\n",
              " 8600000.0,\n",
              " 2400000.0,\n",
              " 27000000.0,\n",
              " 2500000.0,\n",
              " 16000000.0,\n",
              " 3400000.0,\n",
              " 8900000.0,\n",
              " 3900000.0,\n",
              " 2900000.0,\n",
              " 38000000.0,\n",
              " 32000000.0,\n",
              " 5400000.0,\n",
              " 18000000.0,\n",
              " 1100000.0,\n",
              " 2200000.0,\n",
              " 4500000.0,\n",
              " 9800000.0,\n",
              " 52000000.0,\n",
              " 9000000.0,\n",
              " 6700000.0,\n",
              " 30000000.0,\n",
              " 2600000.0,\n",
              " 7100000.0,\n",
              " 3700000.0,\n",
              " 22000000.0,\n",
              " 7400000.0,\n",
              " 6400000.0,\n",
              " 3200000.0,\n",
              " 8199999.999999999,\n",
              " 9900000.0,\n",
              " 4900000.0,\n",
              " 9500000.0,\n",
              " 5000000.0,\n",
              " 5900000.0,\n",
              " 13000000.0,\n",
              " 73000000.0,\n",
              " 6800000.0,\n",
              " 3500000.0,\n",
              " 4000000.0,\n",
              " 2300000.0,\n",
              " 7200000.0,\n",
              " 2100000.0,\n",
              " 42000000.0,\n",
              " 7300000.0,\n",
              " 9100000.0,\n",
              " 55000000.0,\n",
              " 23000.0,\n",
              " 6500000.0,\n",
              " 1500000.0,\n",
              " 7500000.0,\n",
              " 51000000.0,\n",
              " 41000000.0,\n",
              " 48000000.0,\n",
              " 8500000.0,\n",
              " 46000000.0,\n",
              " 8300000.000000001,\n",
              " 4300000.0,\n",
              " 4700000.0,\n",
              " 3300000.0,\n",
              " 40000000.0,\n",
              " 7800000.0,\n",
              " 8800000.0,\n",
              " 6600000.0,\n",
              " 5100000.0,\n",
              " 61000000.0,\n",
              " 66000000.0,\n",
              " 79000.0,\n",
              " 8400000.0,\n",
              " 118000.0,\n",
              " 44000000.0,\n",
              " 695000.0,\n",
              " 1600000.0,\n",
              " 6200000.0,\n",
              " 18000.0,\n",
              " 53000000.0,\n",
              " 1400000.0,\n",
              " 3000000.0,\n",
              " 5800000.0,\n",
              " 3800000.0,\n",
              " 9600000.0,\n",
              " 45000000.0,\n",
              " 63000000.0,\n",
              " 49000000.0,\n",
              " 77000000.0,\n",
              " 4400000.0,\n",
              " 4800000.0,\n",
              " 70000000.0,\n",
              " 6900000.0,\n",
              " 9300000.0,\n",
              " 8100000.0,\n",
              " 36000000.0,\n",
              " 84000000.0,\n",
              " 97000000.0,\n",
              " 2000000.0,\n",
              " 1900000.0,\n",
              " 1800000.0,\n",
              " 5300000.0,\n",
              " 47000000.0,\n",
              " 556000.0,\n",
              " 526000.0,\n",
              " 76000000.0,\n",
              " 7600000.0,\n",
              " 59000000.0,\n",
              " 9700000.0,\n",
              " 78000000.0,\n",
              " 72000000.0,\n",
              " 43000000.0,\n",
              " 7700000.0,\n",
              " 6300000.0,\n",
              " 334000.0,\n",
              " 34000000.0,\n",
              " 93000000.0,\n",
              " 65000000.0,\n",
              " 79000000.0,\n",
              " 100000000.0,\n",
              " 58000000.0,\n",
              " 50000000.0,\n",
              " 68000000.0,\n",
              " 64000000.0,\n",
              " 67000000.0,\n",
              " 60000000.0,\n",
              " 94000000.0,\n",
              " 232000.0,\n",
              " 99000000.0,\n",
              " 624000.0,\n",
              " 95000000.0,\n",
              " 8500.0,\n",
              " 41000.0,\n",
              " 292000.0,\n",
              " 11000.0,\n",
              " 80000000.0,\n",
              " 1700000.0,\n",
              " 74000000.0,\n",
              " 62000000.0,\n",
              " 69000000.0,\n",
              " 75000000.0,\n",
              " 98000000.0,\n",
              " 85000000.0,\n",
              " 82000000.0,\n",
              " 96000000.0,\n",
              " 87000000.0,\n",
              " 71000000.0,\n",
              " 86000000.0,\n",
              " 91000000.0,\n",
              " 81000000.0,\n",
              " 92000000.0,\n",
              " 83000000.0,\n",
              " 88000000.0,\n",
              " 704000.0,\n",
              " 862000.0,\n",
              " 899000.0,\n",
              " 378000.0,\n",
              " 266000.0,\n",
              " 375000.0,\n",
              " 1300000.0,\n",
              " 975000.0,\n",
              " 980000.0,\n",
              " 4099999.9999999995,\n",
              " 89000000.0,\n",
              " 696000.0,\n",
              " 544000.0,\n",
              " 525000.0,\n",
              " 920000.0,\n",
              " 779000.0,\n",
              " 853000.0,\n",
              " 720000.0,\n",
              " 713000.0,\n",
              " 772000.0,\n",
              " 318000.0,\n",
              " 58000.0,\n",
              " 241000.0,\n",
              " 196000.0,\n",
              " 857000.0,\n",
              " 51000.0,\n",
              " 953000.0,\n",
              " 865000.0,\n",
              " 251000.0,\n",
              " 930000.0,\n",
              " 540000.0,\n",
              " 313000.0,\n",
              " 746000.0,\n",
              " 203000.0,\n",
              " 26000.0,\n",
              " 314000.0,\n",
              " 239000.0,\n",
              " 371000.0,\n",
              " 220000.0,\n",
              " 730000.0,\n",
              " 756000.0,\n",
              " 91000.0,\n",
              " 293000.0,\n",
              " 17000.0,\n",
              " 74000.0,\n",
              " 14000.0,\n",
              " 317000.0,\n",
              " 78000.0,\n",
              " 924000.0,\n",
              " 902000.0,\n",
              " 818000.0,\n",
              " 81000.0,\n",
              " 939000.0,\n",
              " 169000.0,\n",
              " 45000.0,\n",
              " 475000.0,\n",
              " 965000.0,\n",
              " 90000000.0,\n",
              " 545000.0,\n",
              " 61000.0,\n",
              " 283000.0,\n",
              " 655000.0,\n",
              " 714000.0,\n",
              " 93000.0,\n",
              " 872000.0,\n",
              " 121000.0,\n",
              " 322000.0,\n",
              " 1000000.0,\n",
              " 976000.0,\n",
              " 172000.0,\n",
              " 238000.0,\n",
              " 549000.0,\n",
              " 206000.0,\n",
              " 954000.0,\n",
              " 444000.0,\n",
              " 717000.0,\n",
              " 210000.0,\n",
              " 609000.0,\n",
              " 308000.0,\n",
              " 705000.0,\n",
              " 306000.0,\n",
              " 904000.0,\n",
              " 473000.0,\n",
              " 175000.0,\n",
              " 350000.0,\n",
              " 383000.0,\n",
              " 454000.0,\n",
              " 421000.0,\n",
              " 70000.0,\n",
              " 812000.0,\n",
              " 442000.0,\n",
              " 842000.0,\n",
              " 417000.0,\n",
              " 412000.0,\n",
              " 459000.0,\n",
              " 478000.0,\n",
              " 335000.0,\n",
              " 782000.0,\n",
              " 721000.0,\n",
              " 430000.0,\n",
              " 429000.0,\n",
              " 192000.0,\n",
              " 200000.0,\n",
              " 460000.0,\n",
              " 728000.0,\n",
              " 496000.0,\n",
              " 816000.0,\n",
              " 414000.0,\n",
              " 506000.0,\n",
              " 887000.0,\n",
              " 613000.0,\n",
              " 243000.0,\n",
              " 569000.0,\n",
              " 778000.0,\n",
              " 683000.0,\n",
              " 592000.0,\n",
              " 319000.0,\n",
              " 186000.0,\n",
              " 840000.0,\n",
              " 647000.0,\n",
              " 191000.0,\n",
              " 373000.0,\n",
              " 437000.0,\n",
              " 598000.0,\n",
              " 716000.0,\n",
              " 585000.0,\n",
              " 982000.0,\n",
              " 222000.0,\n",
              " 219000.0,\n",
              " 55000.0,\n",
              " 948000.0,\n",
              " 323000.0,\n",
              " 691000.0,\n",
              " 511000.0,\n",
              " 951000.0,\n",
              " 963000.0,\n",
              " 25000.0,\n",
              " 554000.0,\n",
              " 351000.0,\n",
              " 27000.0,\n",
              " 82000.0,\n",
              " 208000.0,\n",
              " 913000.0,\n",
              " 514000.0,\n",
              " 551000.0,\n",
              " 29000.0,\n",
              " 103000.0,\n",
              " 898000.0,\n",
              " 743000.0,\n",
              " 116000.0,\n",
              " 153000.0,\n",
              " 209000.0,\n",
              " 353000.0,\n",
              " 499000.0,\n",
              " 173000.0,\n",
              " 597000.0,\n",
              " 809000.0,\n",
              " 122000.0,\n",
              " 411000.0,\n",
              " 400000.0,\n",
              " 801000.0,\n",
              " 787000.0,\n",
              " 237000.0,\n",
              " 50000.0,\n",
              " 643000.0,\n",
              " 986000.0,\n",
              " 97000.0,\n",
              " 516000.0,\n",
              " 837000.0,\n",
              " 780000.0,\n",
              " 961000.0,\n",
              " 269000.0,\n",
              " 20000.0,\n",
              " 498000.0,\n",
              " 600000.0,\n",
              " 749000.0,\n",
              " 642000.0,\n",
              " 881000.0,\n",
              " 72000.0,\n",
              " 656000.0,\n",
              " 601000.0,\n",
              " 221000.0,\n",
              " 228000.0,\n",
              " 108000.0,\n",
              " 940000.0,\n",
              " 176000.0,\n",
              " 33000.0,\n",
              " 663000.0,\n",
              " 34000.0,\n",
              " 942000.0,\n",
              " 259000.0,\n",
              " 164000.0,\n",
              " 458000.0,\n",
              " 245000.0,\n",
              " 629000.0,\n",
              " 28000.0,\n",
              " 288000.0,\n",
              " 775000.0,\n",
              " 785000.0,\n",
              " 636000.0,\n",
              " 916000.0,\n",
              " 994000.0,\n",
              " 309000.0,\n",
              " 485000.0,\n",
              " 914000.0,\n",
              " 903000.0,\n",
              " 608000.0,\n",
              " 500000.0,\n",
              " 54000.0,\n",
              " 562000.0,\n",
              " 847000.0,\n",
              " 957000.0,\n",
              " 688000.0,\n",
              " 811000.0,\n",
              " 270000.0,\n",
              " 48000.0,\n",
              " 329000.0,\n",
              " 523000.0,\n",
              " 921000.0,\n",
              " 874000.0,\n",
              " 981000.0,\n",
              " 784000.0,\n",
              " 280000.0,\n",
              " 24000.0,\n",
              " 518000.0,\n",
              " 754000.0,\n",
              " 892000.0,\n",
              " 154000.0,\n",
              " 860000.0,\n",
              " 364000.0,\n",
              " 387000.0,\n",
              " 626000.0,\n",
              " 161000.0,\n",
              " 879000.0,\n",
              " 39000.0,\n",
              " 970000.0,\n",
              " 170000.0,\n",
              " 141000.0,\n",
              " 160000.0,\n",
              " 144000.0,\n",
              " 143000.0,\n",
              " 190000.0,\n",
              " 376000.0,\n",
              " 193000.0,\n",
              " 246000.0,\n",
              " 73000.0,\n",
              " 658000.0,\n",
              " 992000.0,\n",
              " 253000.0,\n",
              " 420000.0,\n",
              " 404000.0,\n",
              " '1,000+',\n",
              " 470000.0,\n",
              " 226000.0,\n",
              " 240000.0,\n",
              " 89000.0,\n",
              " 234000.0,\n",
              " 257000.0,\n",
              " 861000.0,\n",
              " 467000.0,\n",
              " 157000.0,\n",
              " 44000.0,\n",
              " 676000.0,\n",
              " 67000.0,\n",
              " 552000.0,\n",
              " 885000.0,\n",
              " 1020000.0,\n",
              " 582000.0,\n",
              " 619000.0]"
            ]
          },
          "execution_count": 1440,
          "metadata": {},
          "output_type": "execute_result"
        }
      ],
      "source": [
        "#badass_value detection:\n",
        "google_play['Size'].unique().tolist()"
      ]
    },
    {
      "cell_type": "code",
      "execution_count": 1441,
      "metadata": {},
      "outputs": [
        {
          "data": {
            "text/html": [
              "<div>\n",
              "<style scoped>\n",
              "    .dataframe tbody tr th:only-of-type {\n",
              "        vertical-align: middle;\n",
              "    }\n",
              "\n",
              "    .dataframe tbody tr th {\n",
              "        vertical-align: top;\n",
              "    }\n",
              "\n",
              "    .dataframe thead th {\n",
              "        text-align: right;\n",
              "    }\n",
              "</style>\n",
              "<table border=\"1\" class=\"dataframe\">\n",
              "  <thead>\n",
              "    <tr style=\"text-align: right;\">\n",
              "      <th></th>\n",
              "      <th>App</th>\n",
              "      <th>Category</th>\n",
              "      <th>Rating</th>\n",
              "      <th>Reviews</th>\n",
              "      <th>Size</th>\n",
              "      <th>Installs</th>\n",
              "      <th>Type</th>\n",
              "      <th>Price</th>\n",
              "      <th>Content Rating</th>\n",
              "      <th>Genres</th>\n",
              "      <th>Last Updated</th>\n",
              "      <th>Current Ver</th>\n",
              "      <th>Android Ver</th>\n",
              "      <th>Reviews_numeric</th>\n",
              "      <th>Reviews_isnull</th>\n",
              "    </tr>\n",
              "  </thead>\n",
              "  <tbody>\n",
              "    <tr>\n",
              "      <th>37</th>\n",
              "      <td>Floor Plan Creator</td>\n",
              "      <td>ART_AND_DESIGN</td>\n",
              "      <td>4.1</td>\n",
              "      <td>36639.0</td>\n",
              "      <td>Varies with device</td>\n",
              "      <td>5,000,000+</td>\n",
              "      <td>Free</td>\n",
              "      <td>0</td>\n",
              "      <td>Everyone</td>\n",
              "      <td>Art &amp; Design</td>\n",
              "      <td>July 14, 2018</td>\n",
              "      <td>Varies with device</td>\n",
              "      <td>2.3.3 and up</td>\n",
              "      <td>36639.0</td>\n",
              "      <td>False</td>\n",
              "    </tr>\n",
              "    <tr>\n",
              "      <th>42</th>\n",
              "      <td>Textgram - write on photos</td>\n",
              "      <td>ART_AND_DESIGN</td>\n",
              "      <td>4.4</td>\n",
              "      <td>295221.0</td>\n",
              "      <td>Varies with device</td>\n",
              "      <td>10,000,000+</td>\n",
              "      <td>Free</td>\n",
              "      <td>0</td>\n",
              "      <td>Everyone</td>\n",
              "      <td>Art &amp; Design</td>\n",
              "      <td>July 30, 2018</td>\n",
              "      <td>Varies with device</td>\n",
              "      <td>Varies with device</td>\n",
              "      <td>295221.0</td>\n",
              "      <td>False</td>\n",
              "    </tr>\n",
              "    <tr>\n",
              "      <th>52</th>\n",
              "      <td>Used Cars and Trucks for Sale</td>\n",
              "      <td>AUTO_AND_VEHICLES</td>\n",
              "      <td>4.6</td>\n",
              "      <td>17057.0</td>\n",
              "      <td>Varies with device</td>\n",
              "      <td>1,000,000+</td>\n",
              "      <td>Free</td>\n",
              "      <td>0</td>\n",
              "      <td>Everyone</td>\n",
              "      <td>Auto &amp; Vehicles</td>\n",
              "      <td>July 30, 2018</td>\n",
              "      <td>Varies with device</td>\n",
              "      <td>Varies with device</td>\n",
              "      <td>17057.0</td>\n",
              "      <td>False</td>\n",
              "    </tr>\n",
              "    <tr>\n",
              "      <th>67</th>\n",
              "      <td>Ulysse Speedometer</td>\n",
              "      <td>AUTO_AND_VEHICLES</td>\n",
              "      <td>4.3</td>\n",
              "      <td>40211.0</td>\n",
              "      <td>Varies with device</td>\n",
              "      <td>5,000,000+</td>\n",
              "      <td>Free</td>\n",
              "      <td>0</td>\n",
              "      <td>Everyone</td>\n",
              "      <td>Auto &amp; Vehicles</td>\n",
              "      <td>July 30, 2018</td>\n",
              "      <td>Varies with device</td>\n",
              "      <td>Varies with device</td>\n",
              "      <td>40211.0</td>\n",
              "      <td>False</td>\n",
              "    </tr>\n",
              "    <tr>\n",
              "      <th>68</th>\n",
              "      <td>REPUVE</td>\n",
              "      <td>AUTO_AND_VEHICLES</td>\n",
              "      <td>3.9</td>\n",
              "      <td>356.0</td>\n",
              "      <td>Varies with device</td>\n",
              "      <td>100,000+</td>\n",
              "      <td>Free</td>\n",
              "      <td>0</td>\n",
              "      <td>Everyone</td>\n",
              "      <td>Auto &amp; Vehicles</td>\n",
              "      <td>May 25, 2018</td>\n",
              "      <td>Varies with device</td>\n",
              "      <td>Varies with device</td>\n",
              "      <td>356.0</td>\n",
              "      <td>False</td>\n",
              "    </tr>\n",
              "    <tr>\n",
              "      <th>...</th>\n",
              "      <td>...</td>\n",
              "      <td>...</td>\n",
              "      <td>...</td>\n",
              "      <td>...</td>\n",
              "      <td>...</td>\n",
              "      <td>...</td>\n",
              "      <td>...</td>\n",
              "      <td>...</td>\n",
              "      <td>...</td>\n",
              "      <td>...</td>\n",
              "      <td>...</td>\n",
              "      <td>...</td>\n",
              "      <td>...</td>\n",
              "      <td>...</td>\n",
              "      <td>...</td>\n",
              "    </tr>\n",
              "    <tr>\n",
              "      <th>10713</th>\n",
              "      <td>My Earthquake Alerts - US &amp; Worldwide Earthquakes</td>\n",
              "      <td>WEATHER</td>\n",
              "      <td>4.4</td>\n",
              "      <td>3471.0</td>\n",
              "      <td>Varies with device</td>\n",
              "      <td>100,000+</td>\n",
              "      <td>Free</td>\n",
              "      <td>0</td>\n",
              "      <td>Everyone</td>\n",
              "      <td>Weather</td>\n",
              "      <td>July 24, 2018</td>\n",
              "      <td>Varies with device</td>\n",
              "      <td>Varies with device</td>\n",
              "      <td>3471.0</td>\n",
              "      <td>False</td>\n",
              "    </tr>\n",
              "    <tr>\n",
              "      <th>10725</th>\n",
              "      <td>Posta App</td>\n",
              "      <td>MAPS_AND_NAVIGATION</td>\n",
              "      <td>3.6</td>\n",
              "      <td>8.0</td>\n",
              "      <td>Varies with device</td>\n",
              "      <td>1,000+</td>\n",
              "      <td>Free</td>\n",
              "      <td>0</td>\n",
              "      <td>Everyone</td>\n",
              "      <td>Maps &amp; Navigation</td>\n",
              "      <td>September 27, 2017</td>\n",
              "      <td>Varies with device</td>\n",
              "      <td>4.4 and up</td>\n",
              "      <td>8.0</td>\n",
              "      <td>False</td>\n",
              "    </tr>\n",
              "    <tr>\n",
              "      <th>10765</th>\n",
              "      <td>Chat For Strangers - Video Chat</td>\n",
              "      <td>SOCIAL</td>\n",
              "      <td>3.4</td>\n",
              "      <td>622.0</td>\n",
              "      <td>Varies with device</td>\n",
              "      <td>100,000+</td>\n",
              "      <td>Free</td>\n",
              "      <td>0</td>\n",
              "      <td>Mature 17+</td>\n",
              "      <td>Social</td>\n",
              "      <td>May 23, 2018</td>\n",
              "      <td>Varies with device</td>\n",
              "      <td>Varies with device</td>\n",
              "      <td>622.0</td>\n",
              "      <td>False</td>\n",
              "    </tr>\n",
              "    <tr>\n",
              "      <th>10826</th>\n",
              "      <td>Frim: get new friends on local chat rooms</td>\n",
              "      <td>SOCIAL</td>\n",
              "      <td>4.0</td>\n",
              "      <td>88486.0</td>\n",
              "      <td>Varies with device</td>\n",
              "      <td>5,000,000+</td>\n",
              "      <td>Free</td>\n",
              "      <td>0</td>\n",
              "      <td>Mature 17+</td>\n",
              "      <td>Social</td>\n",
              "      <td>March 23, 2018</td>\n",
              "      <td>Varies with device</td>\n",
              "      <td>Varies with device</td>\n",
              "      <td>88486.0</td>\n",
              "      <td>False</td>\n",
              "    </tr>\n",
              "    <tr>\n",
              "      <th>10839</th>\n",
              "      <td>The SCP Foundation DB fr nn5n</td>\n",
              "      <td>BOOKS_AND_REFERENCE</td>\n",
              "      <td>4.5</td>\n",
              "      <td>114.0</td>\n",
              "      <td>Varies with device</td>\n",
              "      <td>1,000+</td>\n",
              "      <td>Free</td>\n",
              "      <td>0</td>\n",
              "      <td>Mature 17+</td>\n",
              "      <td>Books &amp; Reference</td>\n",
              "      <td>January 19, 2015</td>\n",
              "      <td>Varies with device</td>\n",
              "      <td>Varies with device</td>\n",
              "      <td>114.0</td>\n",
              "      <td>False</td>\n",
              "    </tr>\n",
              "  </tbody>\n",
              "</table>\n",
              "<p>1695 rows × 15 columns</p>\n",
              "</div>"
            ],
            "text/plain": [
              "                                                     App             Category   \n",
              "37                                    Floor Plan Creator       ART_AND_DESIGN  \\\n",
              "42                            Textgram - write on photos       ART_AND_DESIGN   \n",
              "52                         Used Cars and Trucks for Sale    AUTO_AND_VEHICLES   \n",
              "67                                    Ulysse Speedometer    AUTO_AND_VEHICLES   \n",
              "68                                                REPUVE    AUTO_AND_VEHICLES   \n",
              "...                                                  ...                  ...   \n",
              "10713  My Earthquake Alerts - US & Worldwide Earthquakes              WEATHER   \n",
              "10725                                          Posta App  MAPS_AND_NAVIGATION   \n",
              "10765                    Chat For Strangers - Video Chat               SOCIAL   \n",
              "10826          Frim: get new friends on local chat rooms               SOCIAL   \n",
              "10839                      The SCP Foundation DB fr nn5n  BOOKS_AND_REFERENCE   \n",
              "\n",
              "       Rating   Reviews                Size     Installs  Type Price   \n",
              "37        4.1   36639.0  Varies with device   5,000,000+  Free     0  \\\n",
              "42        4.4  295221.0  Varies with device  10,000,000+  Free     0   \n",
              "52        4.6   17057.0  Varies with device   1,000,000+  Free     0   \n",
              "67        4.3   40211.0  Varies with device   5,000,000+  Free     0   \n",
              "68        3.9     356.0  Varies with device     100,000+  Free     0   \n",
              "...       ...       ...                 ...          ...   ...   ...   \n",
              "10713     4.4    3471.0  Varies with device     100,000+  Free     0   \n",
              "10725     3.6       8.0  Varies with device       1,000+  Free     0   \n",
              "10765     3.4     622.0  Varies with device     100,000+  Free     0   \n",
              "10826     4.0   88486.0  Varies with device   5,000,000+  Free     0   \n",
              "10839     4.5     114.0  Varies with device       1,000+  Free     0   \n",
              "\n",
              "      Content Rating             Genres        Last Updated   \n",
              "37          Everyone       Art & Design       July 14, 2018  \\\n",
              "42          Everyone       Art & Design       July 30, 2018   \n",
              "52          Everyone    Auto & Vehicles       July 30, 2018   \n",
              "67          Everyone    Auto & Vehicles       July 30, 2018   \n",
              "68          Everyone    Auto & Vehicles        May 25, 2018   \n",
              "...              ...                ...                 ...   \n",
              "10713       Everyone            Weather       July 24, 2018   \n",
              "10725       Everyone  Maps & Navigation  September 27, 2017   \n",
              "10765     Mature 17+             Social        May 23, 2018   \n",
              "10826     Mature 17+             Social      March 23, 2018   \n",
              "10839     Mature 17+  Books & Reference    January 19, 2015   \n",
              "\n",
              "              Current Ver         Android Ver  Reviews_numeric  Reviews_isnull  \n",
              "37     Varies with device        2.3.3 and up          36639.0           False  \n",
              "42     Varies with device  Varies with device         295221.0           False  \n",
              "52     Varies with device  Varies with device          17057.0           False  \n",
              "67     Varies with device  Varies with device          40211.0           False  \n",
              "68     Varies with device  Varies with device            356.0           False  \n",
              "...                   ...                 ...              ...             ...  \n",
              "10713  Varies with device  Varies with device           3471.0           False  \n",
              "10725  Varies with device          4.4 and up              8.0           False  \n",
              "10765  Varies with device  Varies with device            622.0           False  \n",
              "10826  Varies with device  Varies with device          88486.0           False  \n",
              "10839  Varies with device  Varies with device            114.0           False  \n",
              "\n",
              "[1695 rows x 15 columns]"
            ]
          },
          "execution_count": 1441,
          "metadata": {},
          "output_type": "execute_result"
        }
      ],
      "source": [
        "google_play[google_play['Size'] == 'Varies with device']"
      ]
    },
    {
      "cell_type": "code",
      "execution_count": 1442,
      "metadata": {},
      "outputs": [
        {
          "data": {
            "text/plain": [
              "0.15635089013928605"
            ]
          },
          "execution_count": 1442,
          "metadata": {},
          "output_type": "execute_result"
        }
      ],
      "source": [
        "# badass is 'Varies with device' and we see it 1695 times which means 15% of the dataset.\n",
        "len(google_play[google_play['Size'] == 'Varies with device'])/len(google_play)"
      ]
    },
    {
      "attachments": {},
      "cell_type": "markdown",
      "metadata": {
        "id": "memkwXoPfhcH"
      },
      "source": [
        "#### While this column may be useful for other types of analysis, we opt to drop it from our dataset. \n",
        "\n",
        "There are two reasons. First, the majority of the data are ordinal but a sizeable proportion are missing because we cannot convert them to numerical values. Ordinal data are both numerical and categorical, and they usually can be ranked (e.g. 82k is smaller than 91M). In contrast, non-ordinal categorical data such as blood type and eye color cannot be ranked. The second reason is as a categorical column, it has too many unique values to produce meaningful insights. Therefore, in our case the simplest strategy would be to drop the column.\n",
        "\n",
        "Drop the column in the cell below (use `inplace=True`)"
      ]
    },
    {
      "cell_type": "code",
      "execution_count": 1443,
      "metadata": {
        "id": "UH5vyr6WfhcH"
      },
      "outputs": [
        {
          "data": {
            "text/html": [
              "<div>\n",
              "<style scoped>\n",
              "    .dataframe tbody tr th:only-of-type {\n",
              "        vertical-align: middle;\n",
              "    }\n",
              "\n",
              "    .dataframe tbody tr th {\n",
              "        vertical-align: top;\n",
              "    }\n",
              "\n",
              "    .dataframe thead th {\n",
              "        text-align: right;\n",
              "    }\n",
              "</style>\n",
              "<table border=\"1\" class=\"dataframe\">\n",
              "  <thead>\n",
              "    <tr style=\"text-align: right;\">\n",
              "      <th></th>\n",
              "      <th>App</th>\n",
              "      <th>Category</th>\n",
              "      <th>Rating</th>\n",
              "      <th>Reviews</th>\n",
              "      <th>Installs</th>\n",
              "      <th>Type</th>\n",
              "      <th>Price</th>\n",
              "      <th>Content Rating</th>\n",
              "      <th>Genres</th>\n",
              "      <th>Last Updated</th>\n",
              "      <th>Current Ver</th>\n",
              "      <th>Android Ver</th>\n",
              "    </tr>\n",
              "  </thead>\n",
              "  <tbody>\n",
              "    <tr>\n",
              "      <th>0</th>\n",
              "      <td>Photo Editor &amp; Candy Camera &amp; Grid &amp; ScrapBook</td>\n",
              "      <td>ART_AND_DESIGN</td>\n",
              "      <td>4.1</td>\n",
              "      <td>159.0</td>\n",
              "      <td>10,000+</td>\n",
              "      <td>Free</td>\n",
              "      <td>0</td>\n",
              "      <td>Everyone</td>\n",
              "      <td>Art &amp; Design</td>\n",
              "      <td>January 7, 2018</td>\n",
              "      <td>1.0.0</td>\n",
              "      <td>4.0.3 and up</td>\n",
              "    </tr>\n",
              "    <tr>\n",
              "      <th>1</th>\n",
              "      <td>Coloring book moana</td>\n",
              "      <td>ART_AND_DESIGN</td>\n",
              "      <td>3.9</td>\n",
              "      <td>967.0</td>\n",
              "      <td>500,000+</td>\n",
              "      <td>Free</td>\n",
              "      <td>0</td>\n",
              "      <td>Everyone</td>\n",
              "      <td>Art &amp; Design;Pretend Play</td>\n",
              "      <td>January 15, 2018</td>\n",
              "      <td>2.0.0</td>\n",
              "      <td>4.0.3 and up</td>\n",
              "    </tr>\n",
              "  </tbody>\n",
              "</table>\n",
              "</div>"
            ],
            "text/plain": [
              "                                              App        Category  Rating   \n",
              "0  Photo Editor & Candy Camera & Grid & ScrapBook  ART_AND_DESIGN     4.1  \\\n",
              "1                             Coloring book moana  ART_AND_DESIGN     3.9   \n",
              "\n",
              "   Reviews  Installs  Type Price Content Rating                     Genres   \n",
              "0    159.0   10,000+  Free     0       Everyone               Art & Design  \\\n",
              "1    967.0  500,000+  Free     0       Everyone  Art & Design;Pretend Play   \n",
              "\n",
              "       Last Updated Current Ver   Android Ver  \n",
              "0   January 7, 2018       1.0.0  4.0.3 and up  \n",
              "1  January 15, 2018       2.0.0  4.0.3 and up  "
            ]
          },
          "execution_count": 1443,
          "metadata": {},
          "output_type": "execute_result"
        }
      ],
      "source": [
        "google_play.drop(columns={'Size', 'Reviews_numeric', 'Reviews_isnull'}, inplace = True)\n",
        "google_play.head(2)\n"
      ]
    },
    {
      "attachments": {},
      "cell_type": "markdown",
      "metadata": {
        "id": "t5SyM4bTfhcH"
      },
      "source": [
        "#### Now let's look at how many missing values are in each column. \n",
        "\n",
        "This will give us an idea of whether we should come up with a missing data strategy or give up on the column all together. In the next column, find the number of missing values in each column: \n",
        "\n",
        "*Hint: use the `isna()` and `sum()` functions.*"
      ]
    },
    {
      "cell_type": "code",
      "execution_count": 1444,
      "metadata": {
        "id": "u-esah2afhcI"
      },
      "outputs": [
        {
          "data": {
            "text/plain": [
              "App                  0\n",
              "Category             0\n",
              "Rating            1474\n",
              "Reviews              0\n",
              "Installs             0\n",
              "Type                 1\n",
              "Price                0\n",
              "Content Rating       1\n",
              "Genres               0\n",
              "Last Updated         0\n",
              "Current Ver          8\n",
              "Android Ver          3\n",
              "dtype: int64"
            ]
          },
          "execution_count": 1444,
          "metadata": {},
          "output_type": "execute_result"
        }
      ],
      "source": [
        "google_play.isna().sum()\n"
      ]
    },
    {
      "attachments": {},
      "cell_type": "markdown",
      "metadata": {
        "id": "SufgsNC1fhcI"
      },
      "source": [
        "You should find the column with the most missing values is now `Rating`.\n",
        "\n",
        "#### What is the proportion of the missing values in `Rating` to the total number of records?\n",
        "\n",
        "Enter your answer in the cell below."
      ]
    },
    {
      "cell_type": "code",
      "execution_count": 1445,
      "metadata": {
        "id": "7xauADUjfhcJ"
      },
      "outputs": [
        {
          "data": {
            "text/plain": [
              "0.13596531685268887"
            ]
          },
          "execution_count": 1445,
          "metadata": {},
          "output_type": "execute_result"
        }
      ],
      "source": [
        "len(google_play[google_play['Rating'].isna() == True])/len(google_play)\n"
      ]
    },
    {
      "attachments": {},
      "cell_type": "markdown",
      "metadata": {
        "id": "6nbSfbWWfhcJ"
      },
      "source": [
        "A sizeable proportion of the `Rating` column is missing. A few other columns also contain several missing values.\n",
        "\n",
        "#### We opt to preserve these columns and remove the rows containing missing data.\n",
        "\n",
        "In particular, we don't want to drop the `Rating` column because:\n",
        "\n",
        "* It is one of the most important columns in our dataset. \n",
        "\n",
        "* Since the dataset is not a time series, the loss of these rows will not have a negative impact on our ability to analyze the data. It will, however, cause us to lose some meaningful observations. But the loss is limited compared to the gain we receive by preserving these columns.\n",
        "\n",
        "In the cell below, remove all rows containing at least one missing value. Use the `dropna()` function ([documentation](https://pandas.pydata.org/pandas-docs/stable/generated/pandas.DataFrame.dropna.html)). Assign the new dataframe to the variable `google_missing_removed`."
      ]
    },
    {
      "cell_type": "code",
      "execution_count": 1446,
      "metadata": {
        "id": "Tlk9qbEhfhcK"
      },
      "outputs": [],
      "source": [
        "google_missing_removed = google_play.dropna(axis=0)\n"
      ]
    },
    {
      "cell_type": "code",
      "execution_count": 1447,
      "metadata": {},
      "outputs": [
        {
          "data": {
            "text/html": [
              "<div>\n",
              "<style scoped>\n",
              "    .dataframe tbody tr th:only-of-type {\n",
              "        vertical-align: middle;\n",
              "    }\n",
              "\n",
              "    .dataframe tbody tr th {\n",
              "        vertical-align: top;\n",
              "    }\n",
              "\n",
              "    .dataframe thead th {\n",
              "        text-align: right;\n",
              "    }\n",
              "</style>\n",
              "<table border=\"1\" class=\"dataframe\">\n",
              "  <thead>\n",
              "    <tr style=\"text-align: right;\">\n",
              "      <th></th>\n",
              "      <th>App</th>\n",
              "      <th>Category</th>\n",
              "      <th>Rating</th>\n",
              "      <th>Reviews</th>\n",
              "      <th>Installs</th>\n",
              "      <th>Type</th>\n",
              "      <th>Price</th>\n",
              "      <th>Content Rating</th>\n",
              "      <th>Genres</th>\n",
              "      <th>Last Updated</th>\n",
              "      <th>Current Ver</th>\n",
              "      <th>Android Ver</th>\n",
              "    </tr>\n",
              "  </thead>\n",
              "  <tbody>\n",
              "    <tr>\n",
              "      <th>0</th>\n",
              "      <td>Photo Editor &amp; Candy Camera &amp; Grid &amp; ScrapBook</td>\n",
              "      <td>ART_AND_DESIGN</td>\n",
              "      <td>4.1</td>\n",
              "      <td>159.0</td>\n",
              "      <td>10,000+</td>\n",
              "      <td>Free</td>\n",
              "      <td>0</td>\n",
              "      <td>Everyone</td>\n",
              "      <td>Art &amp; Design</td>\n",
              "      <td>January 7, 2018</td>\n",
              "      <td>1.0.0</td>\n",
              "      <td>4.0.3 and up</td>\n",
              "    </tr>\n",
              "    <tr>\n",
              "      <th>1</th>\n",
              "      <td>Coloring book moana</td>\n",
              "      <td>ART_AND_DESIGN</td>\n",
              "      <td>3.9</td>\n",
              "      <td>967.0</td>\n",
              "      <td>500,000+</td>\n",
              "      <td>Free</td>\n",
              "      <td>0</td>\n",
              "      <td>Everyone</td>\n",
              "      <td>Art &amp; Design;Pretend Play</td>\n",
              "      <td>January 15, 2018</td>\n",
              "      <td>2.0.0</td>\n",
              "      <td>4.0.3 and up</td>\n",
              "    </tr>\n",
              "  </tbody>\n",
              "</table>\n",
              "</div>"
            ],
            "text/plain": [
              "                                              App        Category  Rating   \n",
              "0  Photo Editor & Candy Camera & Grid & ScrapBook  ART_AND_DESIGN     4.1  \\\n",
              "1                             Coloring book moana  ART_AND_DESIGN     3.9   \n",
              "\n",
              "   Reviews  Installs  Type Price Content Rating                     Genres   \n",
              "0    159.0   10,000+  Free     0       Everyone               Art & Design  \\\n",
              "1    967.0  500,000+  Free     0       Everyone  Art & Design;Pretend Play   \n",
              "\n",
              "       Last Updated Current Ver   Android Ver  \n",
              "0   January 7, 2018       1.0.0  4.0.3 and up  \n",
              "1  January 15, 2018       2.0.0  4.0.3 and up  "
            ]
          },
          "execution_count": 1447,
          "metadata": {},
          "output_type": "execute_result"
        }
      ],
      "source": [
        "google_missing_removed.head(2)"
      ]
    },
    {
      "attachments": {},
      "cell_type": "markdown",
      "metadata": {
        "id": "tbCazUjNfhcK"
      },
      "source": [
        "From now on, we use the `google_missing_removed` variable instead of `google_play`.\n",
        "\n",
        "#### Next, we look at the `Last Updated` column.\n",
        "\n",
        "The `Last Updated` column seems to contain a date, though it is classified as an object type. Let's convert this column using the `pd.to_datetime` function ([documentation](https://pandas.pydata.org/pandas-docs/stable/generated/pandas.to_datetime.html))."
      ]
    },
    {
      "cell_type": "code",
      "execution_count": 1448,
      "metadata": {
        "id": "ZV8lxE2JfhcL"
      },
      "outputs": [
        {
          "data": {
            "text/plain": [
              "0       2018-01-07\n",
              "1       2018-01-15\n",
              "2       2018-08-01\n",
              "3       2018-06-08\n",
              "4       2018-06-20\n",
              "           ...    \n",
              "10834   2017-06-18\n",
              "10836   2017-07-25\n",
              "10837   2018-07-06\n",
              "10839   2015-01-19\n",
              "10840   2018-07-25\n",
              "Name: Last Updated, Length: 9360, dtype: datetime64[ns]"
            ]
          },
          "execution_count": 1448,
          "metadata": {},
          "output_type": "execute_result"
        }
      ],
      "source": [
        "pd.to_datetime(google_missing_removed['Last Updated'])\n"
      ]
    },
    {
      "attachments": {},
      "cell_type": "markdown",
      "metadata": {
        "id": "8ctUrk4DfhcL"
      },
      "source": [
        "#### The last column we will transform is `Price`. \n",
        "\n",
        "We start by looking at the unique values of this column."
      ]
    },
    {
      "cell_type": "code",
      "execution_count": 1449,
      "metadata": {
        "id": "Y1GAvf7sfhcL"
      },
      "outputs": [
        {
          "data": {
            "text/plain": [
              "array(['0', '$4.99', '$3.99', '$6.99', '$7.99', '$5.99', '$2.99', '$3.49',\n",
              "       '$1.99', '$9.99', '$7.49', '$0.99', '$9.00', '$5.49', '$10.00',\n",
              "       '$24.99', '$11.99', '$79.99', '$16.99', '$14.99', '$29.99',\n",
              "       '$12.99', '$2.49', '$10.99', '$1.50', '$19.99', '$15.99', '$33.99',\n",
              "       '$39.99', '$3.95', '$4.49', '$1.70', '$8.99', '$1.49', '$3.88',\n",
              "       '$399.99', '$17.99', '$400.00', '$3.02', '$1.76', '$4.84', '$4.77',\n",
              "       '$1.61', '$2.50', '$1.59', '$6.49', '$1.29', '$299.99', '$379.99',\n",
              "       '$37.99', '$18.99', '$389.99', '$8.49', '$1.75', '$14.00', '$2.00',\n",
              "       '$3.08', '$2.59', '$19.40', '$3.90', '$4.59', '$15.46', '$3.04',\n",
              "       '$13.99', '$4.29', '$3.28', '$4.60', '$1.00', '$2.95', '$2.90',\n",
              "       '$1.97', '$2.56', '$1.20'], dtype=object)"
            ]
          },
          "execution_count": 1449,
          "metadata": {},
          "output_type": "execute_result"
        }
      ],
      "source": [
        "google_missing_removed['Price'].unique()\n"
      ]
    },
    {
      "attachments": {},
      "cell_type": "markdown",
      "metadata": {
        "id": "UfPYpqjHfhcM"
      },
      "source": [
        "Since all prices are ordinal data without exceptions, we can tranform this column by removing the dollar sign and converting to numeric. We can create a new column called `Price Numerical` and drop the original column.\n",
        "\n",
        "We will achieve our goal in three steps. Follow the instructions of each step below.\n",
        "\n",
        "#### First we remove the dollar sign. Do this in the next cell by applying the `str.replace` function to the column to replace `$` with an empty string (`''`)."
      ]
    },
    {
      "cell_type": "code",
      "execution_count": 1450,
      "metadata": {
        "id": "l42htAspfhcM"
      },
      "outputs": [
        {
          "name": "stderr",
          "output_type": "stream",
          "text": [
            "/var/folders/2w/vhfbdjs16ws778lslztc15r00000gn/T/ipykernel_89141/2886726263.py:1: SettingWithCopyWarning: \n",
            "A value is trying to be set on a copy of a slice from a DataFrame.\n",
            "Try using .loc[row_indexer,col_indexer] = value instead\n",
            "\n",
            "See the caveats in the documentation: https://pandas.pydata.org/pandas-docs/stable/user_guide/indexing.html#returning-a-view-versus-a-copy\n",
            "  google_missing_removed['Price Numerical'] = google_missing_removed['Price'].str.replace(r'^\\$', '', regex=True)\n"
          ]
        }
      ],
      "source": [
        "google_missing_removed['Price Numerical'] = google_missing_removed['Price'].str.replace(r'^\\$', '', regex=True)"
      ]
    },
    {
      "attachments": {},
      "cell_type": "markdown",
      "metadata": {
        "id": "oDMV_zHffhcM"
      },
      "source": [
        "#### Second step, coerce the `Price Numerical` column to numeric."
      ]
    },
    {
      "cell_type": "code",
      "execution_count": 1451,
      "metadata": {
        "id": "IXq9POEtfhcN"
      },
      "outputs": [
        {
          "name": "stderr",
          "output_type": "stream",
          "text": [
            "/var/folders/2w/vhfbdjs16ws778lslztc15r00000gn/T/ipykernel_89141/1779872031.py:1: SettingWithCopyWarning: \n",
            "A value is trying to be set on a copy of a slice from a DataFrame.\n",
            "Try using .loc[row_indexer,col_indexer] = value instead\n",
            "\n",
            "See the caveats in the documentation: https://pandas.pydata.org/pandas-docs/stable/user_guide/indexing.html#returning-a-view-versus-a-copy\n",
            "  google_missing_removed['Price Numerical']= pd.to_numeric(google_missing_removed['Price Numerical'], errors='coerce')\n"
          ]
        }
      ],
      "source": [
        "google_missing_removed['Price Numerical']= pd.to_numeric(google_missing_removed['Price Numerical'], errors='coerce')\n"
      ]
    },
    {
      "attachments": {},
      "cell_type": "markdown",
      "metadata": {
        "id": "GjHJN5jIfhcN"
      },
      "source": [
        "**Finally, drop the original `Price` column.**"
      ]
    },
    {
      "cell_type": "code",
      "execution_count": 1452,
      "metadata": {
        "id": "uMHBFe_1fhcN"
      },
      "outputs": [
        {
          "name": "stderr",
          "output_type": "stream",
          "text": [
            "/var/folders/2w/vhfbdjs16ws778lslztc15r00000gn/T/ipykernel_89141/3679503167.py:1: SettingWithCopyWarning: \n",
            "A value is trying to be set on a copy of a slice from a DataFrame\n",
            "\n",
            "See the caveats in the documentation: https://pandas.pydata.org/pandas-docs/stable/user_guide/indexing.html#returning-a-view-versus-a-copy\n",
            "  google_missing_removed.drop(columns='Price', inplace=True)\n"
          ]
        }
      ],
      "source": [
        "google_missing_removed.drop(columns='Price', inplace=True)\n"
      ]
    },
    {
      "attachments": {},
      "cell_type": "markdown",
      "metadata": {
        "id": "VQdgVdxEfhcO"
      },
      "source": [
        "Now check the variable types of `google_missing_removed`. Make sure:\n",
        "\n",
        "* `Size` and `Price` columns have been removed.\n",
        "* `Rating`, `Reviews`, and `Price Numerical` have the type of `float64`.\n",
        "* `Last Updated` has the type of `datetime64`."
      ]
    },
    {
      "cell_type": "code",
      "execution_count": 1453,
      "metadata": {
        "id": "2Z0K5PNZfhcO"
      },
      "outputs": [
        {
          "data": {
            "text/plain": [
              "App                 object\n",
              "Category            object\n",
              "Rating             float64\n",
              "Reviews            float64\n",
              "Installs            object\n",
              "Type                object\n",
              "Content Rating      object\n",
              "Genres              object\n",
              "Last Updated        object\n",
              "Current Ver         object\n",
              "Android Ver         object\n",
              "Price Numerical    float64\n",
              "dtype: object"
            ]
          },
          "execution_count": 1453,
          "metadata": {},
          "output_type": "execute_result"
        }
      ],
      "source": [
        "google_missing_removed.dtypes"
      ]
    },
    {
      "attachments": {},
      "cell_type": "markdown",
      "metadata": {
        "id": "QcYL2Zh7fhcO"
      },
      "source": [
        "# Challenge 2 - Loading and Extracting Features from the Second Dataset"
      ]
    },
    {
      "attachments": {},
      "cell_type": "markdown",
      "metadata": {
        "id": "prHjUxNofhcP"
      },
      "source": [
        "Load the second dataset to the variable `google_reviews`. The data is in the file `googleplaystore_user_reviews.csv`."
      ]
    },
    {
      "cell_type": "code",
      "execution_count": 1454,
      "metadata": {
        "id": "K6Byv70wfhcP"
      },
      "outputs": [],
      "source": [
        "# Your code here:\n",
        "\n",
        "google_review = pd.read_csv('/Users/basakbuluttekin/IronHack_New/ironhack_labs/DAFT_0410/module_3/Lab_5_Feature-Extraction/data/googleplaystore_user_reviews.csv')"
      ]
    },
    {
      "attachments": {},
      "cell_type": "markdown",
      "metadata": {
        "id": "128J08eFfhcP"
      },
      "source": [
        "#### This dataset contains the top 100 reviews for each app. \n",
        "\n",
        "Let's examine this dataset using the `head` function"
      ]
    },
    {
      "cell_type": "code",
      "execution_count": 1455,
      "metadata": {
        "id": "Ler-taRKfhcQ"
      },
      "outputs": [
        {
          "data": {
            "text/html": [
              "<div>\n",
              "<style scoped>\n",
              "    .dataframe tbody tr th:only-of-type {\n",
              "        vertical-align: middle;\n",
              "    }\n",
              "\n",
              "    .dataframe tbody tr th {\n",
              "        vertical-align: top;\n",
              "    }\n",
              "\n",
              "    .dataframe thead th {\n",
              "        text-align: right;\n",
              "    }\n",
              "</style>\n",
              "<table border=\"1\" class=\"dataframe\">\n",
              "  <thead>\n",
              "    <tr style=\"text-align: right;\">\n",
              "      <th></th>\n",
              "      <th>App</th>\n",
              "      <th>Translated_Review</th>\n",
              "      <th>Sentiment</th>\n",
              "      <th>Sentiment_Polarity</th>\n",
              "      <th>Sentiment_Subjectivity</th>\n",
              "    </tr>\n",
              "  </thead>\n",
              "  <tbody>\n",
              "    <tr>\n",
              "      <th>0</th>\n",
              "      <td>10 Best Foods for You</td>\n",
              "      <td>I like eat delicious food. That's I'm cooking ...</td>\n",
              "      <td>Positive</td>\n",
              "      <td>1.00</td>\n",
              "      <td>0.533333</td>\n",
              "    </tr>\n",
              "    <tr>\n",
              "      <th>1</th>\n",
              "      <td>10 Best Foods for You</td>\n",
              "      <td>This help eating healthy exercise regular basis</td>\n",
              "      <td>Positive</td>\n",
              "      <td>0.25</td>\n",
              "      <td>0.288462</td>\n",
              "    </tr>\n",
              "    <tr>\n",
              "      <th>2</th>\n",
              "      <td>10 Best Foods for You</td>\n",
              "      <td>NaN</td>\n",
              "      <td>NaN</td>\n",
              "      <td>NaN</td>\n",
              "      <td>NaN</td>\n",
              "    </tr>\n",
              "    <tr>\n",
              "      <th>3</th>\n",
              "      <td>10 Best Foods for You</td>\n",
              "      <td>Works great especially going grocery store</td>\n",
              "      <td>Positive</td>\n",
              "      <td>0.40</td>\n",
              "      <td>0.875000</td>\n",
              "    </tr>\n",
              "    <tr>\n",
              "      <th>4</th>\n",
              "      <td>10 Best Foods for You</td>\n",
              "      <td>Best idea us</td>\n",
              "      <td>Positive</td>\n",
              "      <td>1.00</td>\n",
              "      <td>0.300000</td>\n",
              "    </tr>\n",
              "  </tbody>\n",
              "</table>\n",
              "</div>"
            ],
            "text/plain": [
              "                     App                                  Translated_Review   \n",
              "0  10 Best Foods for You  I like eat delicious food. That's I'm cooking ...  \\\n",
              "1  10 Best Foods for You    This help eating healthy exercise regular basis   \n",
              "2  10 Best Foods for You                                                NaN   \n",
              "3  10 Best Foods for You         Works great especially going grocery store   \n",
              "4  10 Best Foods for You                                       Best idea us   \n",
              "\n",
              "  Sentiment  Sentiment_Polarity  Sentiment_Subjectivity  \n",
              "0  Positive                1.00                0.533333  \n",
              "1  Positive                0.25                0.288462  \n",
              "2       NaN                 NaN                     NaN  \n",
              "3  Positive                0.40                0.875000  \n",
              "4  Positive                1.00                0.300000  "
            ]
          },
          "execution_count": 1455,
          "metadata": {},
          "output_type": "execute_result"
        }
      ],
      "source": [
        "google_review.head()\n"
      ]
    },
    {
      "attachments": {},
      "cell_type": "markdown",
      "metadata": {
        "id": "auNRd2TjfhcQ"
      },
      "source": [
        "#### The main piece of information we would like to extract from this dataset is the proportion of positive reviews of each app. \n",
        "\n",
        "Columns like `Sentiment_Polarity` and `Sentiment_Subjectivity` are not to our interests because we have no clue how to use them. We do not care about `Translated_Review` because natural language processing is too complex for us at present (in fact the `Sentiment`, `Sentiment_Polarity`, and `Sentiment_Subjectivity` columns are derived from `Translated_Review` the data scientists). \n",
        "\n",
        "What we care about in this challenge is `Sentiment`. To be more precise, we care about **what is the proportion of *Positive* sentiment of each app**. This will require us to aggregate the `Sentiment` data by `App` in order to calculate the proportions.\n",
        "\n",
        "Now that you are clear about what we are trying to achieve, follow the steps below that will walk you through towards our goal."
      ]
    },
    {
      "attachments": {},
      "cell_type": "markdown",
      "metadata": {
        "id": "x6NQcl_vfhcR"
      },
      "source": [
        "#### Our first step will be to remove all rows with missing sentiment. \n",
        "\n",
        "In the next cell, drop all rows with missing data using the `dropna()` function and assign this new dataframe to `review_missing_removed`."
      ]
    },
    {
      "cell_type": "code",
      "execution_count": 1456,
      "metadata": {
        "id": "vECNpngxfhcR"
      },
      "outputs": [],
      "source": [
        "review_missing_removed = google_review.dropna(axis=0)\n"
      ]
    },
    {
      "cell_type": "code",
      "execution_count": 1457,
      "metadata": {},
      "outputs": [
        {
          "data": {
            "text/html": [
              "<div>\n",
              "<style scoped>\n",
              "    .dataframe tbody tr th:only-of-type {\n",
              "        vertical-align: middle;\n",
              "    }\n",
              "\n",
              "    .dataframe tbody tr th {\n",
              "        vertical-align: top;\n",
              "    }\n",
              "\n",
              "    .dataframe thead th {\n",
              "        text-align: right;\n",
              "    }\n",
              "</style>\n",
              "<table border=\"1\" class=\"dataframe\">\n",
              "  <thead>\n",
              "    <tr style=\"text-align: right;\">\n",
              "      <th></th>\n",
              "      <th>App</th>\n",
              "      <th>Translated_Review</th>\n",
              "      <th>Sentiment</th>\n",
              "      <th>Sentiment_Polarity</th>\n",
              "      <th>Sentiment_Subjectivity</th>\n",
              "    </tr>\n",
              "  </thead>\n",
              "  <tbody>\n",
              "    <tr>\n",
              "      <th>0</th>\n",
              "      <td>10 Best Foods for You</td>\n",
              "      <td>I like eat delicious food. That's I'm cooking ...</td>\n",
              "      <td>Positive</td>\n",
              "      <td>1.000000</td>\n",
              "      <td>0.533333</td>\n",
              "    </tr>\n",
              "    <tr>\n",
              "      <th>1</th>\n",
              "      <td>10 Best Foods for You</td>\n",
              "      <td>This help eating healthy exercise regular basis</td>\n",
              "      <td>Positive</td>\n",
              "      <td>0.250000</td>\n",
              "      <td>0.288462</td>\n",
              "    </tr>\n",
              "    <tr>\n",
              "      <th>3</th>\n",
              "      <td>10 Best Foods for You</td>\n",
              "      <td>Works great especially going grocery store</td>\n",
              "      <td>Positive</td>\n",
              "      <td>0.400000</td>\n",
              "      <td>0.875000</td>\n",
              "    </tr>\n",
              "    <tr>\n",
              "      <th>4</th>\n",
              "      <td>10 Best Foods for You</td>\n",
              "      <td>Best idea us</td>\n",
              "      <td>Positive</td>\n",
              "      <td>1.000000</td>\n",
              "      <td>0.300000</td>\n",
              "    </tr>\n",
              "    <tr>\n",
              "      <th>5</th>\n",
              "      <td>10 Best Foods for You</td>\n",
              "      <td>Best way</td>\n",
              "      <td>Positive</td>\n",
              "      <td>1.000000</td>\n",
              "      <td>0.300000</td>\n",
              "    </tr>\n",
              "    <tr>\n",
              "      <th>...</th>\n",
              "      <td>...</td>\n",
              "      <td>...</td>\n",
              "      <td>...</td>\n",
              "      <td>...</td>\n",
              "      <td>...</td>\n",
              "    </tr>\n",
              "    <tr>\n",
              "      <th>64222</th>\n",
              "      <td>Housing-Real Estate &amp; Property</td>\n",
              "      <td>Most ads older many agents ..not much owner po...</td>\n",
              "      <td>Positive</td>\n",
              "      <td>0.173333</td>\n",
              "      <td>0.486667</td>\n",
              "    </tr>\n",
              "    <tr>\n",
              "      <th>64223</th>\n",
              "      <td>Housing-Real Estate &amp; Property</td>\n",
              "      <td>If photos posted portal load, fit purpose. I'm...</td>\n",
              "      <td>Positive</td>\n",
              "      <td>0.225000</td>\n",
              "      <td>0.447222</td>\n",
              "    </tr>\n",
              "    <tr>\n",
              "      <th>64226</th>\n",
              "      <td>Housing-Real Estate &amp; Property</td>\n",
              "      <td>Dumb app, I wanted post property rent give opt...</td>\n",
              "      <td>Negative</td>\n",
              "      <td>-0.287500</td>\n",
              "      <td>0.250000</td>\n",
              "    </tr>\n",
              "    <tr>\n",
              "      <th>64227</th>\n",
              "      <td>Housing-Real Estate &amp; Property</td>\n",
              "      <td>I property business got link SMS happy perform...</td>\n",
              "      <td>Positive</td>\n",
              "      <td>0.800000</td>\n",
              "      <td>1.000000</td>\n",
              "    </tr>\n",
              "    <tr>\n",
              "      <th>64230</th>\n",
              "      <td>Housing-Real Estate &amp; Property</td>\n",
              "      <td>Useless app, I searched flats kondapur, Hydera...</td>\n",
              "      <td>Negative</td>\n",
              "      <td>-0.316667</td>\n",
              "      <td>0.400000</td>\n",
              "    </tr>\n",
              "  </tbody>\n",
              "</table>\n",
              "<p>37427 rows × 5 columns</p>\n",
              "</div>"
            ],
            "text/plain": [
              "                                  App   \n",
              "0               10 Best Foods for You  \\\n",
              "1               10 Best Foods for You   \n",
              "3               10 Best Foods for You   \n",
              "4               10 Best Foods for You   \n",
              "5               10 Best Foods for You   \n",
              "...                               ...   \n",
              "64222  Housing-Real Estate & Property   \n",
              "64223  Housing-Real Estate & Property   \n",
              "64226  Housing-Real Estate & Property   \n",
              "64227  Housing-Real Estate & Property   \n",
              "64230  Housing-Real Estate & Property   \n",
              "\n",
              "                                       Translated_Review Sentiment   \n",
              "0      I like eat delicious food. That's I'm cooking ...  Positive  \\\n",
              "1        This help eating healthy exercise regular basis  Positive   \n",
              "3             Works great especially going grocery store  Positive   \n",
              "4                                           Best idea us  Positive   \n",
              "5                                               Best way  Positive   \n",
              "...                                                  ...       ...   \n",
              "64222  Most ads older many agents ..not much owner po...  Positive   \n",
              "64223  If photos posted portal load, fit purpose. I'm...  Positive   \n",
              "64226  Dumb app, I wanted post property rent give opt...  Negative   \n",
              "64227  I property business got link SMS happy perform...  Positive   \n",
              "64230  Useless app, I searched flats kondapur, Hydera...  Negative   \n",
              "\n",
              "       Sentiment_Polarity  Sentiment_Subjectivity  \n",
              "0                1.000000                0.533333  \n",
              "1                0.250000                0.288462  \n",
              "3                0.400000                0.875000  \n",
              "4                1.000000                0.300000  \n",
              "5                1.000000                0.300000  \n",
              "...                   ...                     ...  \n",
              "64222            0.173333                0.486667  \n",
              "64223            0.225000                0.447222  \n",
              "64226           -0.287500                0.250000  \n",
              "64227            0.800000                1.000000  \n",
              "64230           -0.316667                0.400000  \n",
              "\n",
              "[37427 rows x 5 columns]"
            ]
          },
          "execution_count": 1457,
          "metadata": {},
          "output_type": "execute_result"
        }
      ],
      "source": [
        "review_missing_removed"
      ]
    },
    {
      "attachments": {},
      "cell_type": "markdown",
      "metadata": {
        "id": "m1cfmFmWfhcS"
      },
      "source": [
        "#### Now, use the `value_counts()` function ([documentation](https://pandas.pydata.org/pandas-docs/stable/generated/pandas.Series.value_counts.html)) to get a sense on how many apps are in this dataset and their review counts."
      ]
    },
    {
      "cell_type": "code",
      "execution_count": 1458,
      "metadata": {
        "id": "ihd2E23NfhcS"
      },
      "outputs": [
        {
          "data": {
            "text/plain": [
              "App\n",
              "Bowmasters                        312\n",
              "Helix Jump                        273\n",
              "Angry Birds Classic               273\n",
              "Calorie Counter - MyFitnessPal    254\n",
              "Duolingo: Learn Languages Free    240\n",
              "                                 ... \n",
              "Draw a Stickman: EPIC 2             1\n",
              "HD Camera                           1\n",
              "Draw In                             1\n",
              "Draw A Stickman                     1\n",
              "Best Fiends - Free Puzzle Game      1\n",
              "Name: count, Length: 865, dtype: int64"
            ]
          },
          "execution_count": 1458,
          "metadata": {},
          "output_type": "execute_result"
        }
      ],
      "source": [
        "review_missing_removed['App'].value_counts()\n",
        "#review_missing_removed.groupby('App')['Translated_Review']\n"
      ]
    },
    {
      "attachments": {},
      "cell_type": "markdown",
      "metadata": {
        "id": "eNxu-scifhcT"
      },
      "source": [
        "#### Now the tough part comes. Let's plan how we will achieve our goal:\n",
        "\n",
        "1. We will count the number of reviews that contain *Positive* in the `Sentiment` column.\n",
        "\n",
        "1. We will create a new dataframe to contain the `App` name, the number of positive reviews, and the total number of reviews of each app.\n",
        "\n",
        "1. We will then loop the new dataframe to calculate the postivie review portion of each app."
      ]
    },
    {
      "attachments": {},
      "cell_type": "markdown",
      "metadata": {
        "id": "o0Llo0cNfhcT"
      },
      "source": [
        "#### Step 1: Count the number of positive reviews.\n",
        "\n",
        "In the following cell, write a function that takes a column and returns the number of times *Positive* appears in the column. \n",
        "\n",
        "*Hint: One option is to use the `np.where()` function ([documentation](https://docs.scipy.org/doc/numpy-1.13.0/reference/generated/numpy.where.html)).*"
      ]
    },
    {
      "cell_type": "code",
      "execution_count": 1459,
      "metadata": {
        "id": "_sFFkhM1fhcT"
      },
      "outputs": [],
      "source": [
        "# Your code below\n",
        "\n",
        "def positive_function(x):\n",
        "    \"\"\"\n",
        "    Count how many times the string `Positive` appears in a column (exact string match).\n",
        "    \n",
        "    Args:\n",
        "        x: data column\n",
        "    \n",
        "    Returns:\n",
        "        The number of occurrences of `Positive` in the column data.\n",
        "    \"\"\"\n",
        "    return np.where(x == \"Positive\")[0].size"
      ]
    },
    {
      "attachments": {},
      "cell_type": "markdown",
      "metadata": {
        "id": "Aj0qu-_1fhcU"
      },
      "source": [
        "#### Step 2: Create a new dataframe to contain the `App` name, the number of positive reviews, and the total number of reviews of each app\n",
        "\n",
        "We will group `review_missing_removed` by the `App` column, then aggregate the grouped dataframe on the number of positive reviews and the total review counts of each app. The result will be assigned to a new variable `google_agg`. Here is the ([documentation on how to achieve it](https://pandas.pydata.org/pandas-docs/stable/generated/pandas.core.groupby.DataFrameGroupBy.agg.html)). Take a moment or two to read the documentation and google examples because it is pretty complex.\n",
        "\n",
        "When you obtain `google_agg`, check its values to make sure it has an `App` column as its index as well as a `Positive` column and a `Total` column. Your output should look like:\n",
        "\n",
        "![Positive Reviews Agg](positive-review-agg.png)\n",
        "\n",
        "*Hint: Use `positive_function` you created earlier as part of the param passed to the `agg()` function in order to aggregate the number of positive reviews.*\n",
        "\n",
        "#### Bonus:\n",
        "\n",
        "As of Pandas v0.23.4, you may opt to supply an array or an object to `agg()`. If you use the array param, you'll need to rename the columns so that their names are `Positive` and `Total`. Using the object param will allow you to create the aggregated columns with the desirable names without renaming them. However, you will probably encounter a warning indicating supplying an object to `agg()` will become outdated. It's up to you which way you will use. Try both ways out. Any way is fine as long as it works."
      ]
    },
    {
      "cell_type": "code",
      "execution_count": 1460,
      "metadata": {},
      "outputs": [
        {
          "data": {
            "text/html": [
              "<div>\n",
              "<style scoped>\n",
              "    .dataframe tbody tr th:only-of-type {\n",
              "        vertical-align: middle;\n",
              "    }\n",
              "\n",
              "    .dataframe tbody tr th {\n",
              "        vertical-align: top;\n",
              "    }\n",
              "\n",
              "    .dataframe thead th {\n",
              "        text-align: right;\n",
              "    }\n",
              "</style>\n",
              "<table border=\"1\" class=\"dataframe\">\n",
              "  <thead>\n",
              "    <tr style=\"text-align: right;\">\n",
              "      <th></th>\n",
              "      <th>Positive</th>\n",
              "      <th>Total</th>\n",
              "    </tr>\n",
              "    <tr>\n",
              "      <th>App</th>\n",
              "      <th></th>\n",
              "      <th></th>\n",
              "    </tr>\n",
              "  </thead>\n",
              "  <tbody>\n",
              "    <tr>\n",
              "      <th>10 Best Foods for You</th>\n",
              "      <td>162</td>\n",
              "      <td>194</td>\n",
              "    </tr>\n",
              "    <tr>\n",
              "      <th>104 找工作 - 找工作 找打工 找兼職 履歷健檢 履歷診療室</th>\n",
              "      <td>31</td>\n",
              "      <td>40</td>\n",
              "    </tr>\n",
              "    <tr>\n",
              "      <th>11st</th>\n",
              "      <td>23</td>\n",
              "      <td>39</td>\n",
              "    </tr>\n",
              "    <tr>\n",
              "      <th>1800 Contacts - Lens Store</th>\n",
              "      <td>64</td>\n",
              "      <td>80</td>\n",
              "    </tr>\n",
              "    <tr>\n",
              "      <th>1LINE – One Line with One Touch</th>\n",
              "      <td>27</td>\n",
              "      <td>38</td>\n",
              "    </tr>\n",
              "    <tr>\n",
              "      <th>...</th>\n",
              "      <td>...</td>\n",
              "      <td>...</td>\n",
              "    </tr>\n",
              "    <tr>\n",
              "      <th>Hotels.com: Book Hotel Rooms &amp; Find Vacation Deals</th>\n",
              "      <td>39</td>\n",
              "      <td>68</td>\n",
              "    </tr>\n",
              "    <tr>\n",
              "      <th>Hotspot Shield Free VPN Proxy &amp; Wi-Fi Security</th>\n",
              "      <td>17</td>\n",
              "      <td>34</td>\n",
              "    </tr>\n",
              "    <tr>\n",
              "      <th>Hotstar</th>\n",
              "      <td>14</td>\n",
              "      <td>32</td>\n",
              "    </tr>\n",
              "    <tr>\n",
              "      <th>Hotwire Hotel &amp; Car Rental App</th>\n",
              "      <td>16</td>\n",
              "      <td>33</td>\n",
              "    </tr>\n",
              "    <tr>\n",
              "      <th>Housing-Real Estate &amp; Property</th>\n",
              "      <td>8</td>\n",
              "      <td>21</td>\n",
              "    </tr>\n",
              "  </tbody>\n",
              "</table>\n",
              "<p>865 rows × 2 columns</p>\n",
              "</div>"
            ],
            "text/plain": [
              "                                                    Positive  Total\n",
              "App                                                                \n",
              "10 Best Foods for You                                    162    194\n",
              "104 找工作 - 找工作 找打工 找兼職 履歷健檢 履歷診療室                          31     40\n",
              "11st                                                      23     39\n",
              "1800 Contacts - Lens Store                                64     80\n",
              "1LINE – One Line with One Touch                           27     38\n",
              "...                                                      ...    ...\n",
              "Hotels.com: Book Hotel Rooms & Find Vacation Deals        39     68\n",
              "Hotspot Shield Free VPN Proxy & Wi-Fi Security            17     34\n",
              "Hotstar                                                   14     32\n",
              "Hotwire Hotel & Car Rental App                            16     33\n",
              "Housing-Real Estate & Property                             8     21\n",
              "\n",
              "[865 rows x 2 columns]"
            ]
          },
          "execution_count": 1460,
          "metadata": {},
          "output_type": "execute_result"
        }
      ],
      "source": [
        "df1 = review_missing_removed.groupby('App')['Sentiment'].agg(lambda x: (positive_function(x), len(x)))\n",
        "google_agg = pd.DataFrame(df1.values.tolist(), columns=['Positive', 'Total'], index = df1.index)\n",
        "google_agg"
      ]
    },
    {
      "attachments": {},
      "cell_type": "markdown",
      "metadata": {
        "id": "r_MhV5N7fhcW"
      },
      "source": [
        "Print the first 5 rows of `google_agg` to check it."
      ]
    },
    {
      "cell_type": "code",
      "execution_count": 1461,
      "metadata": {
        "id": "_eNSsiRVfhcW"
      },
      "outputs": [
        {
          "data": {
            "text/html": [
              "<div>\n",
              "<style scoped>\n",
              "    .dataframe tbody tr th:only-of-type {\n",
              "        vertical-align: middle;\n",
              "    }\n",
              "\n",
              "    .dataframe tbody tr th {\n",
              "        vertical-align: top;\n",
              "    }\n",
              "\n",
              "    .dataframe thead th {\n",
              "        text-align: right;\n",
              "    }\n",
              "</style>\n",
              "<table border=\"1\" class=\"dataframe\">\n",
              "  <thead>\n",
              "    <tr style=\"text-align: right;\">\n",
              "      <th></th>\n",
              "      <th>Positive</th>\n",
              "      <th>Total</th>\n",
              "    </tr>\n",
              "    <tr>\n",
              "      <th>App</th>\n",
              "      <th></th>\n",
              "      <th></th>\n",
              "    </tr>\n",
              "  </thead>\n",
              "  <tbody>\n",
              "    <tr>\n",
              "      <th>10 Best Foods for You</th>\n",
              "      <td>162</td>\n",
              "      <td>194</td>\n",
              "    </tr>\n",
              "    <tr>\n",
              "      <th>104 找工作 - 找工作 找打工 找兼職 履歷健檢 履歷診療室</th>\n",
              "      <td>31</td>\n",
              "      <td>40</td>\n",
              "    </tr>\n",
              "    <tr>\n",
              "      <th>11st</th>\n",
              "      <td>23</td>\n",
              "      <td>39</td>\n",
              "    </tr>\n",
              "    <tr>\n",
              "      <th>1800 Contacts - Lens Store</th>\n",
              "      <td>64</td>\n",
              "      <td>80</td>\n",
              "    </tr>\n",
              "    <tr>\n",
              "      <th>1LINE – One Line with One Touch</th>\n",
              "      <td>27</td>\n",
              "      <td>38</td>\n",
              "    </tr>\n",
              "  </tbody>\n",
              "</table>\n",
              "</div>"
            ],
            "text/plain": [
              "                                  Positive  Total\n",
              "App                                              \n",
              "10 Best Foods for You                  162    194\n",
              "104 找工作 - 找工作 找打工 找兼職 履歷健檢 履歷診療室        31     40\n",
              "11st                                    23     39\n",
              "1800 Contacts - Lens Store              64     80\n",
              "1LINE – One Line with One Touch         27     38"
            ]
          },
          "execution_count": 1461,
          "metadata": {},
          "output_type": "execute_result"
        }
      ],
      "source": [
        "google_agg.head(5)\n"
      ]
    },
    {
      "attachments": {},
      "cell_type": "markdown",
      "metadata": {
        "id": "aNZMlA9RfhcX"
      },
      "source": [
        "#### Add a derived column to `google_agg` that is the ratio of the `Positive` and the `Total` columns. Call this column `Positive Ratio`. \n",
        "\n",
        "Make sure to account for the case where the denominator is zero using the `np.where()` function."
      ]
    },
    {
      "cell_type": "code",
      "execution_count": 1462,
      "metadata": {
        "id": "ATzCD8egfhcY"
      },
      "outputs": [],
      "source": [
        "np.where(google_agg['Total'] == 0)\n",
        "\n",
        "google_agg['Positive Ratio'] = google_agg['Positive']/google_agg['Total']"
      ]
    },
    {
      "attachments": {},
      "cell_type": "markdown",
      "metadata": {
        "id": "LTOHBfanfhcY"
      },
      "source": [
        "#### Now drop the `Positive` and `Total` columns. Do this with `inplace=True`."
      ]
    },
    {
      "cell_type": "code",
      "execution_count": 1463,
      "metadata": {
        "id": "d4cPgxl0fhcZ"
      },
      "outputs": [],
      "source": [
        "google_agg.drop(columns={'Positive', 'Total'}, inplace=True)"
      ]
    },
    {
      "attachments": {},
      "cell_type": "markdown",
      "metadata": {
        "id": "dxlD7394fhcZ"
      },
      "source": [
        "Print the first 5 rows of `google_agg`. Your output should look like:\n",
        "\n",
        "![Positive Reviews Agg](positive-review-ratio.png)"
      ]
    },
    {
      "cell_type": "code",
      "execution_count": 1464,
      "metadata": {
        "id": "xMpEUPm9fhca"
      },
      "outputs": [
        {
          "data": {
            "text/html": [
              "<div>\n",
              "<style scoped>\n",
              "    .dataframe tbody tr th:only-of-type {\n",
              "        vertical-align: middle;\n",
              "    }\n",
              "\n",
              "    .dataframe tbody tr th {\n",
              "        vertical-align: top;\n",
              "    }\n",
              "\n",
              "    .dataframe thead th {\n",
              "        text-align: right;\n",
              "    }\n",
              "</style>\n",
              "<table border=\"1\" class=\"dataframe\">\n",
              "  <thead>\n",
              "    <tr style=\"text-align: right;\">\n",
              "      <th></th>\n",
              "      <th>Positive Ratio</th>\n",
              "    </tr>\n",
              "    <tr>\n",
              "      <th>App</th>\n",
              "      <th></th>\n",
              "    </tr>\n",
              "  </thead>\n",
              "  <tbody>\n",
              "    <tr>\n",
              "      <th>10 Best Foods for You</th>\n",
              "      <td>0.835052</td>\n",
              "    </tr>\n",
              "    <tr>\n",
              "      <th>104 找工作 - 找工作 找打工 找兼職 履歷健檢 履歷診療室</th>\n",
              "      <td>0.775000</td>\n",
              "    </tr>\n",
              "    <tr>\n",
              "      <th>11st</th>\n",
              "      <td>0.589744</td>\n",
              "    </tr>\n",
              "    <tr>\n",
              "      <th>1800 Contacts - Lens Store</th>\n",
              "      <td>0.800000</td>\n",
              "    </tr>\n",
              "    <tr>\n",
              "      <th>1LINE – One Line with One Touch</th>\n",
              "      <td>0.710526</td>\n",
              "    </tr>\n",
              "  </tbody>\n",
              "</table>\n",
              "</div>"
            ],
            "text/plain": [
              "                                  Positive Ratio\n",
              "App                                             \n",
              "10 Best Foods for You                   0.835052\n",
              "104 找工作 - 找工作 找打工 找兼職 履歷健檢 履歷診療室        0.775000\n",
              "11st                                    0.589744\n",
              "1800 Contacts - Lens Store              0.800000\n",
              "1LINE – One Line with One Touch         0.710526"
            ]
          },
          "execution_count": 1464,
          "metadata": {},
          "output_type": "execute_result"
        }
      ],
      "source": [
        "google_agg.head(5)\n"
      ]
    },
    {
      "attachments": {},
      "cell_type": "markdown",
      "metadata": {
        "id": "ERLWPV5efhca"
      },
      "source": [
        "# Challenge 3 - Join the Dataframes\n",
        "\n",
        "In this part of the lab, we will join the two dataframes and obtain a dataframe that contains features we can use in our ML algorithm.\n",
        "\n",
        "In the next cell, join the `google_missing_removed` dataframe with the `google_agg` dataframe on the `App` column. Assign this dataframe to the variable `google`."
      ]
    },
    {
      "cell_type": "code",
      "execution_count": 1465,
      "metadata": {
        "id": "7srN0WIzfhca"
      },
      "outputs": [],
      "source": [
        "google = google_missing_removed.join(google_agg, on='App')\n"
      ]
    },
    {
      "attachments": {},
      "cell_type": "markdown",
      "metadata": {
        "id": "EXhmXFJifhcb"
      },
      "source": [
        "#### Let's look at the final result using the `head()` function. Your final product should look like:\n",
        "\n",
        "![Final Product](google-final-head.png)"
      ]
    },
    {
      "cell_type": "code",
      "execution_count": 1466,
      "metadata": {
        "id": "-jgqbQsnfhcb"
      },
      "outputs": [
        {
          "data": {
            "text/html": [
              "<div>\n",
              "<style scoped>\n",
              "    .dataframe tbody tr th:only-of-type {\n",
              "        vertical-align: middle;\n",
              "    }\n",
              "\n",
              "    .dataframe tbody tr th {\n",
              "        vertical-align: top;\n",
              "    }\n",
              "\n",
              "    .dataframe thead th {\n",
              "        text-align: right;\n",
              "    }\n",
              "</style>\n",
              "<table border=\"1\" class=\"dataframe\">\n",
              "  <thead>\n",
              "    <tr style=\"text-align: right;\">\n",
              "      <th></th>\n",
              "      <th>App</th>\n",
              "      <th>Category</th>\n",
              "      <th>Rating</th>\n",
              "      <th>Reviews</th>\n",
              "      <th>Installs</th>\n",
              "      <th>Type</th>\n",
              "      <th>Content Rating</th>\n",
              "      <th>Genres</th>\n",
              "      <th>Last Updated</th>\n",
              "      <th>Current Ver</th>\n",
              "      <th>Android Ver</th>\n",
              "      <th>Price Numerical</th>\n",
              "      <th>Positive Ratio</th>\n",
              "    </tr>\n",
              "  </thead>\n",
              "  <tbody>\n",
              "    <tr>\n",
              "      <th>0</th>\n",
              "      <td>Photo Editor &amp; Candy Camera &amp; Grid &amp; ScrapBook</td>\n",
              "      <td>ART_AND_DESIGN</td>\n",
              "      <td>4.1</td>\n",
              "      <td>159.0</td>\n",
              "      <td>10,000+</td>\n",
              "      <td>Free</td>\n",
              "      <td>Everyone</td>\n",
              "      <td>Art &amp; Design</td>\n",
              "      <td>January 7, 2018</td>\n",
              "      <td>1.0.0</td>\n",
              "      <td>4.0.3 and up</td>\n",
              "      <td>0.0</td>\n",
              "      <td>NaN</td>\n",
              "    </tr>\n",
              "    <tr>\n",
              "      <th>1</th>\n",
              "      <td>Coloring book moana</td>\n",
              "      <td>ART_AND_DESIGN</td>\n",
              "      <td>3.9</td>\n",
              "      <td>967.0</td>\n",
              "      <td>500,000+</td>\n",
              "      <td>Free</td>\n",
              "      <td>Everyone</td>\n",
              "      <td>Art &amp; Design;Pretend Play</td>\n",
              "      <td>January 15, 2018</td>\n",
              "      <td>2.0.0</td>\n",
              "      <td>4.0.3 and up</td>\n",
              "      <td>0.0</td>\n",
              "      <td>0.590909</td>\n",
              "    </tr>\n",
              "    <tr>\n",
              "      <th>2</th>\n",
              "      <td>U Launcher Lite – FREE Live Cool Themes, Hide ...</td>\n",
              "      <td>ART_AND_DESIGN</td>\n",
              "      <td>4.7</td>\n",
              "      <td>87510.0</td>\n",
              "      <td>5,000,000+</td>\n",
              "      <td>Free</td>\n",
              "      <td>Everyone</td>\n",
              "      <td>Art &amp; Design</td>\n",
              "      <td>August 1, 2018</td>\n",
              "      <td>1.2.4</td>\n",
              "      <td>4.0.3 and up</td>\n",
              "      <td>0.0</td>\n",
              "      <td>NaN</td>\n",
              "    </tr>\n",
              "    <tr>\n",
              "      <th>3</th>\n",
              "      <td>Sketch - Draw &amp; Paint</td>\n",
              "      <td>ART_AND_DESIGN</td>\n",
              "      <td>4.5</td>\n",
              "      <td>215644.0</td>\n",
              "      <td>50,000,000+</td>\n",
              "      <td>Free</td>\n",
              "      <td>Teen</td>\n",
              "      <td>Art &amp; Design</td>\n",
              "      <td>June 8, 2018</td>\n",
              "      <td>Varies with device</td>\n",
              "      <td>4.2 and up</td>\n",
              "      <td>0.0</td>\n",
              "      <td>NaN</td>\n",
              "    </tr>\n",
              "    <tr>\n",
              "      <th>4</th>\n",
              "      <td>Pixel Draw - Number Art Coloring Book</td>\n",
              "      <td>ART_AND_DESIGN</td>\n",
              "      <td>4.3</td>\n",
              "      <td>967.0</td>\n",
              "      <td>100,000+</td>\n",
              "      <td>Free</td>\n",
              "      <td>Everyone</td>\n",
              "      <td>Art &amp; Design;Creativity</td>\n",
              "      <td>June 20, 2018</td>\n",
              "      <td>1.1</td>\n",
              "      <td>4.4 and up</td>\n",
              "      <td>0.0</td>\n",
              "      <td>NaN</td>\n",
              "    </tr>\n",
              "  </tbody>\n",
              "</table>\n",
              "</div>"
            ],
            "text/plain": [
              "                                                 App        Category  Rating   \n",
              "0     Photo Editor & Candy Camera & Grid & ScrapBook  ART_AND_DESIGN     4.1  \\\n",
              "1                                Coloring book moana  ART_AND_DESIGN     3.9   \n",
              "2  U Launcher Lite – FREE Live Cool Themes, Hide ...  ART_AND_DESIGN     4.7   \n",
              "3                              Sketch - Draw & Paint  ART_AND_DESIGN     4.5   \n",
              "4              Pixel Draw - Number Art Coloring Book  ART_AND_DESIGN     4.3   \n",
              "\n",
              "    Reviews     Installs  Type Content Rating                     Genres   \n",
              "0     159.0      10,000+  Free       Everyone               Art & Design  \\\n",
              "1     967.0     500,000+  Free       Everyone  Art & Design;Pretend Play   \n",
              "2   87510.0   5,000,000+  Free       Everyone               Art & Design   \n",
              "3  215644.0  50,000,000+  Free           Teen               Art & Design   \n",
              "4     967.0     100,000+  Free       Everyone    Art & Design;Creativity   \n",
              "\n",
              "       Last Updated         Current Ver   Android Ver  Price Numerical   \n",
              "0   January 7, 2018               1.0.0  4.0.3 and up              0.0  \\\n",
              "1  January 15, 2018               2.0.0  4.0.3 and up              0.0   \n",
              "2    August 1, 2018               1.2.4  4.0.3 and up              0.0   \n",
              "3      June 8, 2018  Varies with device    4.2 and up              0.0   \n",
              "4     June 20, 2018                 1.1    4.4 and up              0.0   \n",
              "\n",
              "   Positive Ratio  \n",
              "0             NaN  \n",
              "1        0.590909  \n",
              "2             NaN  \n",
              "3             NaN  \n",
              "4             NaN  "
            ]
          },
          "execution_count": 1466,
          "metadata": {},
          "output_type": "execute_result"
        }
      ],
      "source": [
        "google.head(5)\n"
      ]
    },
    {
      "cell_type": "code",
      "execution_count": null,
      "metadata": {
        "id": "MQngLJu_fyTb"
      },
      "outputs": [],
      "source": []
    },
    {
      "attachments": {},
      "cell_type": "markdown",
      "metadata": {
        "id": "gsmZvpwXf3tk"
      },
      "source": [
        " # Challenge 4- Feature selection and modelling"
      ]
    },
    {
      "attachments": {},
      "cell_type": "markdown",
      "metadata": {
        "id": "8b860R3Mxv6Y"
      },
      "source": [
        "Let's work with data about bank marketing.  You can find the dataset and description in the data folder\n",
        "Please use RFE, RFECV and SelectFomModel  for selecting the features from your dataset."
      ]
    },
    {
      "attachments": {},
      "cell_type": "markdown",
      "metadata": {
        "id": "gQ9wFo2LyFlz"
      },
      "source": [
        "Step 1. Check your data. Clean and encode them if necessary"
      ]
    },
    {
      "cell_type": "code",
      "execution_count": 1467,
      "metadata": {
        "id": "cXlgWMx-yeid"
      },
      "outputs": [],
      "source": [
        "bank_data = pd.read_excel('/Users/basakbuluttekin/IronHack_New/ironhack_labs/DAFT_0410/module_3/Lab_5_Feature-Extraction/data/bank_marketing.xlsx')"
      ]
    },
    {
      "cell_type": "code",
      "execution_count": 1468,
      "metadata": {},
      "outputs": [
        {
          "data": {
            "text/html": [
              "<div>\n",
              "<style scoped>\n",
              "    .dataframe tbody tr th:only-of-type {\n",
              "        vertical-align: middle;\n",
              "    }\n",
              "\n",
              "    .dataframe tbody tr th {\n",
              "        vertical-align: top;\n",
              "    }\n",
              "\n",
              "    .dataframe thead th {\n",
              "        text-align: right;\n",
              "    }\n",
              "</style>\n",
              "<table border=\"1\" class=\"dataframe\">\n",
              "  <thead>\n",
              "    <tr style=\"text-align: right;\">\n",
              "      <th></th>\n",
              "      <th>age</th>\n",
              "      <th>job</th>\n",
              "      <th>marital</th>\n",
              "      <th>education</th>\n",
              "      <th>default</th>\n",
              "      <th>housing</th>\n",
              "      <th>loan</th>\n",
              "      <th>contact</th>\n",
              "      <th>month</th>\n",
              "      <th>day_of_week</th>\n",
              "      <th>...</th>\n",
              "      <th>campaign</th>\n",
              "      <th>pdays</th>\n",
              "      <th>previous</th>\n",
              "      <th>poutcome</th>\n",
              "      <th>emp.var.rate</th>\n",
              "      <th>cons.price.idx</th>\n",
              "      <th>cons.conf.idx</th>\n",
              "      <th>euribor3m</th>\n",
              "      <th>nr.employed</th>\n",
              "      <th>y</th>\n",
              "    </tr>\n",
              "  </thead>\n",
              "  <tbody>\n",
              "    <tr>\n",
              "      <th>0</th>\n",
              "      <td>56</td>\n",
              "      <td>housemaid</td>\n",
              "      <td>married</td>\n",
              "      <td>basic.4y</td>\n",
              "      <td>no</td>\n",
              "      <td>no</td>\n",
              "      <td>no</td>\n",
              "      <td>telephone</td>\n",
              "      <td>may</td>\n",
              "      <td>mon</td>\n",
              "      <td>...</td>\n",
              "      <td>1</td>\n",
              "      <td>999</td>\n",
              "      <td>0</td>\n",
              "      <td>nonexistent</td>\n",
              "      <td>2022-01-01</td>\n",
              "      <td>93.994</td>\n",
              "      <td>-36.4</td>\n",
              "      <td>4.857</td>\n",
              "      <td>5191.0</td>\n",
              "      <td>no</td>\n",
              "    </tr>\n",
              "    <tr>\n",
              "      <th>1</th>\n",
              "      <td>57</td>\n",
              "      <td>services</td>\n",
              "      <td>married</td>\n",
              "      <td>high.school</td>\n",
              "      <td>unknown</td>\n",
              "      <td>no</td>\n",
              "      <td>no</td>\n",
              "      <td>telephone</td>\n",
              "      <td>may</td>\n",
              "      <td>mon</td>\n",
              "      <td>...</td>\n",
              "      <td>1</td>\n",
              "      <td>999</td>\n",
              "      <td>0</td>\n",
              "      <td>nonexistent</td>\n",
              "      <td>2022-01-01</td>\n",
              "      <td>93.994</td>\n",
              "      <td>-36.4</td>\n",
              "      <td>4.857</td>\n",
              "      <td>5191.0</td>\n",
              "      <td>no</td>\n",
              "    </tr>\n",
              "    <tr>\n",
              "      <th>2</th>\n",
              "      <td>37</td>\n",
              "      <td>services</td>\n",
              "      <td>married</td>\n",
              "      <td>high.school</td>\n",
              "      <td>no</td>\n",
              "      <td>yes</td>\n",
              "      <td>no</td>\n",
              "      <td>telephone</td>\n",
              "      <td>may</td>\n",
              "      <td>mon</td>\n",
              "      <td>...</td>\n",
              "      <td>1</td>\n",
              "      <td>999</td>\n",
              "      <td>0</td>\n",
              "      <td>nonexistent</td>\n",
              "      <td>2022-01-01</td>\n",
              "      <td>93.994</td>\n",
              "      <td>-36.4</td>\n",
              "      <td>4.857</td>\n",
              "      <td>5191.0</td>\n",
              "      <td>no</td>\n",
              "    </tr>\n",
              "    <tr>\n",
              "      <th>3</th>\n",
              "      <td>40</td>\n",
              "      <td>admin.</td>\n",
              "      <td>married</td>\n",
              "      <td>basic.6y</td>\n",
              "      <td>no</td>\n",
              "      <td>no</td>\n",
              "      <td>no</td>\n",
              "      <td>telephone</td>\n",
              "      <td>may</td>\n",
              "      <td>mon</td>\n",
              "      <td>...</td>\n",
              "      <td>1</td>\n",
              "      <td>999</td>\n",
              "      <td>0</td>\n",
              "      <td>nonexistent</td>\n",
              "      <td>2022-01-01</td>\n",
              "      <td>93.994</td>\n",
              "      <td>-36.4</td>\n",
              "      <td>4.857</td>\n",
              "      <td>5191.0</td>\n",
              "      <td>no</td>\n",
              "    </tr>\n",
              "    <tr>\n",
              "      <th>4</th>\n",
              "      <td>56</td>\n",
              "      <td>services</td>\n",
              "      <td>married</td>\n",
              "      <td>high.school</td>\n",
              "      <td>no</td>\n",
              "      <td>no</td>\n",
              "      <td>yes</td>\n",
              "      <td>telephone</td>\n",
              "      <td>may</td>\n",
              "      <td>mon</td>\n",
              "      <td>...</td>\n",
              "      <td>1</td>\n",
              "      <td>999</td>\n",
              "      <td>0</td>\n",
              "      <td>nonexistent</td>\n",
              "      <td>2022-01-01</td>\n",
              "      <td>93.994</td>\n",
              "      <td>-36.4</td>\n",
              "      <td>4.857</td>\n",
              "      <td>5191.0</td>\n",
              "      <td>no</td>\n",
              "    </tr>\n",
              "    <tr>\n",
              "      <th>...</th>\n",
              "      <td>...</td>\n",
              "      <td>...</td>\n",
              "      <td>...</td>\n",
              "      <td>...</td>\n",
              "      <td>...</td>\n",
              "      <td>...</td>\n",
              "      <td>...</td>\n",
              "      <td>...</td>\n",
              "      <td>...</td>\n",
              "      <td>...</td>\n",
              "      <td>...</td>\n",
              "      <td>...</td>\n",
              "      <td>...</td>\n",
              "      <td>...</td>\n",
              "      <td>...</td>\n",
              "      <td>...</td>\n",
              "      <td>...</td>\n",
              "      <td>...</td>\n",
              "      <td>...</td>\n",
              "      <td>...</td>\n",
              "      <td>...</td>\n",
              "    </tr>\n",
              "    <tr>\n",
              "      <th>41183</th>\n",
              "      <td>73</td>\n",
              "      <td>retired</td>\n",
              "      <td>married</td>\n",
              "      <td>professional.course</td>\n",
              "      <td>no</td>\n",
              "      <td>yes</td>\n",
              "      <td>no</td>\n",
              "      <td>cellular</td>\n",
              "      <td>nov</td>\n",
              "      <td>fri</td>\n",
              "      <td>...</td>\n",
              "      <td>1</td>\n",
              "      <td>999</td>\n",
              "      <td>0</td>\n",
              "      <td>nonexistent</td>\n",
              "      <td>NaT</td>\n",
              "      <td>94.767</td>\n",
              "      <td>-50.8</td>\n",
              "      <td>1.028</td>\n",
              "      <td>NaN</td>\n",
              "      <td>yes</td>\n",
              "    </tr>\n",
              "    <tr>\n",
              "      <th>41184</th>\n",
              "      <td>46</td>\n",
              "      <td>blue-collar</td>\n",
              "      <td>married</td>\n",
              "      <td>professional.course</td>\n",
              "      <td>no</td>\n",
              "      <td>no</td>\n",
              "      <td>no</td>\n",
              "      <td>cellular</td>\n",
              "      <td>nov</td>\n",
              "      <td>fri</td>\n",
              "      <td>...</td>\n",
              "      <td>1</td>\n",
              "      <td>999</td>\n",
              "      <td>0</td>\n",
              "      <td>nonexistent</td>\n",
              "      <td>NaT</td>\n",
              "      <td>94.767</td>\n",
              "      <td>-50.8</td>\n",
              "      <td>1.028</td>\n",
              "      <td>NaN</td>\n",
              "      <td>no</td>\n",
              "    </tr>\n",
              "    <tr>\n",
              "      <th>41185</th>\n",
              "      <td>56</td>\n",
              "      <td>retired</td>\n",
              "      <td>married</td>\n",
              "      <td>university.degree</td>\n",
              "      <td>no</td>\n",
              "      <td>yes</td>\n",
              "      <td>no</td>\n",
              "      <td>cellular</td>\n",
              "      <td>nov</td>\n",
              "      <td>fri</td>\n",
              "      <td>...</td>\n",
              "      <td>2</td>\n",
              "      <td>999</td>\n",
              "      <td>0</td>\n",
              "      <td>nonexistent</td>\n",
              "      <td>NaT</td>\n",
              "      <td>94.767</td>\n",
              "      <td>-50.8</td>\n",
              "      <td>1.028</td>\n",
              "      <td>NaN</td>\n",
              "      <td>no</td>\n",
              "    </tr>\n",
              "    <tr>\n",
              "      <th>41186</th>\n",
              "      <td>44</td>\n",
              "      <td>technician</td>\n",
              "      <td>married</td>\n",
              "      <td>professional.course</td>\n",
              "      <td>no</td>\n",
              "      <td>no</td>\n",
              "      <td>no</td>\n",
              "      <td>cellular</td>\n",
              "      <td>nov</td>\n",
              "      <td>fri</td>\n",
              "      <td>...</td>\n",
              "      <td>1</td>\n",
              "      <td>999</td>\n",
              "      <td>0</td>\n",
              "      <td>nonexistent</td>\n",
              "      <td>NaT</td>\n",
              "      <td>94.767</td>\n",
              "      <td>-50.8</td>\n",
              "      <td>1.028</td>\n",
              "      <td>NaN</td>\n",
              "      <td>yes</td>\n",
              "    </tr>\n",
              "    <tr>\n",
              "      <th>41187</th>\n",
              "      <td>74</td>\n",
              "      <td>retired</td>\n",
              "      <td>married</td>\n",
              "      <td>professional.course</td>\n",
              "      <td>no</td>\n",
              "      <td>yes</td>\n",
              "      <td>no</td>\n",
              "      <td>cellular</td>\n",
              "      <td>nov</td>\n",
              "      <td>fri</td>\n",
              "      <td>...</td>\n",
              "      <td>3</td>\n",
              "      <td>999</td>\n",
              "      <td>1</td>\n",
              "      <td>failure</td>\n",
              "      <td>NaT</td>\n",
              "      <td>94.767</td>\n",
              "      <td>-50.8</td>\n",
              "      <td>1.028</td>\n",
              "      <td>NaN</td>\n",
              "      <td>no</td>\n",
              "    </tr>\n",
              "  </tbody>\n",
              "</table>\n",
              "<p>41188 rows × 21 columns</p>\n",
              "</div>"
            ],
            "text/plain": [
              "       age          job  marital            education  default housing loan   \n",
              "0       56    housemaid  married             basic.4y       no      no   no  \\\n",
              "1       57     services  married          high.school  unknown      no   no   \n",
              "2       37     services  married          high.school       no     yes   no   \n",
              "3       40       admin.  married             basic.6y       no      no   no   \n",
              "4       56     services  married          high.school       no      no  yes   \n",
              "...    ...          ...      ...                  ...      ...     ...  ...   \n",
              "41183   73      retired  married  professional.course       no     yes   no   \n",
              "41184   46  blue-collar  married  professional.course       no      no   no   \n",
              "41185   56      retired  married    university.degree       no     yes   no   \n",
              "41186   44   technician  married  professional.course       no      no   no   \n",
              "41187   74      retired  married  professional.course       no     yes   no   \n",
              "\n",
              "         contact month day_of_week  ...  campaign  pdays  previous   \n",
              "0      telephone   may         mon  ...         1    999         0  \\\n",
              "1      telephone   may         mon  ...         1    999         0   \n",
              "2      telephone   may         mon  ...         1    999         0   \n",
              "3      telephone   may         mon  ...         1    999         0   \n",
              "4      telephone   may         mon  ...         1    999         0   \n",
              "...          ...   ...         ...  ...       ...    ...       ...   \n",
              "41183   cellular   nov         fri  ...         1    999         0   \n",
              "41184   cellular   nov         fri  ...         1    999         0   \n",
              "41185   cellular   nov         fri  ...         2    999         0   \n",
              "41186   cellular   nov         fri  ...         1    999         0   \n",
              "41187   cellular   nov         fri  ...         3    999         1   \n",
              "\n",
              "          poutcome emp.var.rate cons.price.idx  cons.conf.idx  euribor3m   \n",
              "0      nonexistent   2022-01-01         93.994          -36.4      4.857  \\\n",
              "1      nonexistent   2022-01-01         93.994          -36.4      4.857   \n",
              "2      nonexistent   2022-01-01         93.994          -36.4      4.857   \n",
              "3      nonexistent   2022-01-01         93.994          -36.4      4.857   \n",
              "4      nonexistent   2022-01-01         93.994          -36.4      4.857   \n",
              "...            ...          ...            ...            ...        ...   \n",
              "41183  nonexistent          NaT         94.767          -50.8      1.028   \n",
              "41184  nonexistent          NaT         94.767          -50.8      1.028   \n",
              "41185  nonexistent          NaT         94.767          -50.8      1.028   \n",
              "41186  nonexistent          NaT         94.767          -50.8      1.028   \n",
              "41187      failure          NaT         94.767          -50.8      1.028   \n",
              "\n",
              "       nr.employed    y  \n",
              "0           5191.0   no  \n",
              "1           5191.0   no  \n",
              "2           5191.0   no  \n",
              "3           5191.0   no  \n",
              "4           5191.0   no  \n",
              "...            ...  ...  \n",
              "41183          NaN  yes  \n",
              "41184          NaN   no  \n",
              "41185          NaN   no  \n",
              "41186          NaN  yes  \n",
              "41187          NaN   no  \n",
              "\n",
              "[41188 rows x 21 columns]"
            ]
          },
          "execution_count": 1468,
          "metadata": {},
          "output_type": "execute_result"
        }
      ],
      "source": [
        "bank_data"
      ]
    },
    {
      "cell_type": "code",
      "execution_count": 1469,
      "metadata": {},
      "outputs": [
        {
          "data": {
            "text/plain": [
              "age                        int64\n",
              "job                       object\n",
              "marital                   object\n",
              "education                 object\n",
              "default                   object\n",
              "housing                   object\n",
              "loan                      object\n",
              "contact                   object\n",
              "month                     object\n",
              "day_of_week               object\n",
              "duration                   int64\n",
              "campaign                   int64\n",
              "pdays                      int64\n",
              "previous                   int64\n",
              "poutcome                  object\n",
              "emp.var.rate      datetime64[ns]\n",
              "cons.price.idx           float64\n",
              "cons.conf.idx            float64\n",
              "euribor3m                float64\n",
              "nr.employed              float64\n",
              "y                         object\n",
              "dtype: object"
            ]
          },
          "execution_count": 1469,
          "metadata": {},
          "output_type": "execute_result"
        }
      ],
      "source": [
        "bank_data.dtypes"
      ]
    },
    {
      "cell_type": "code",
      "execution_count": 1470,
      "metadata": {},
      "outputs": [
        {
          "data": {
            "text/plain": [
              "age                   0\n",
              "job                   0\n",
              "marital               0\n",
              "education             0\n",
              "default               0\n",
              "housing               0\n",
              "loan                  0\n",
              "contact               0\n",
              "month                 0\n",
              "day_of_week           0\n",
              "duration              0\n",
              "campaign              0\n",
              "pdays                 0\n",
              "previous              0\n",
              "poutcome              0\n",
              "emp.var.rate      17191\n",
              "cons.price.idx        0\n",
              "cons.conf.idx         0\n",
              "euribor3m             0\n",
              "nr.employed       33425\n",
              "y                     0\n",
              "dtype: int64"
            ]
          },
          "execution_count": 1470,
          "metadata": {},
          "output_type": "execute_result"
        }
      ],
      "source": [
        "bank_data.isna().sum()"
      ]
    },
    {
      "cell_type": "code",
      "execution_count": 1471,
      "metadata": {},
      "outputs": [
        {
          "data": {
            "text/html": [
              "<div>\n",
              "<style scoped>\n",
              "    .dataframe tbody tr th:only-of-type {\n",
              "        vertical-align: middle;\n",
              "    }\n",
              "\n",
              "    .dataframe tbody tr th {\n",
              "        vertical-align: top;\n",
              "    }\n",
              "\n",
              "    .dataframe thead th {\n",
              "        text-align: right;\n",
              "    }\n",
              "</style>\n",
              "<table border=\"1\" class=\"dataframe\">\n",
              "  <thead>\n",
              "    <tr style=\"text-align: right;\">\n",
              "      <th></th>\n",
              "      <th>age</th>\n",
              "      <th>job</th>\n",
              "      <th>marital</th>\n",
              "      <th>education</th>\n",
              "      <th>default</th>\n",
              "      <th>housing</th>\n",
              "      <th>loan</th>\n",
              "      <th>contact</th>\n",
              "      <th>month</th>\n",
              "      <th>day_of_week</th>\n",
              "      <th>...</th>\n",
              "      <th>campaign</th>\n",
              "      <th>pdays</th>\n",
              "      <th>previous</th>\n",
              "      <th>poutcome</th>\n",
              "      <th>emp.var.rate</th>\n",
              "      <th>cons.price.idx</th>\n",
              "      <th>cons.conf.idx</th>\n",
              "      <th>euribor3m</th>\n",
              "      <th>nr.employed</th>\n",
              "      <th>y</th>\n",
              "    </tr>\n",
              "  </thead>\n",
              "  <tbody>\n",
              "    <tr>\n",
              "      <th>0</th>\n",
              "      <td>56</td>\n",
              "      <td>housemaid</td>\n",
              "      <td>married</td>\n",
              "      <td>basic.4y</td>\n",
              "      <td>no</td>\n",
              "      <td>no</td>\n",
              "      <td>no</td>\n",
              "      <td>telephone</td>\n",
              "      <td>may</td>\n",
              "      <td>mon</td>\n",
              "      <td>...</td>\n",
              "      <td>1</td>\n",
              "      <td>999</td>\n",
              "      <td>0</td>\n",
              "      <td>nonexistent</td>\n",
              "      <td>2022-01-01</td>\n",
              "      <td>93.994</td>\n",
              "      <td>-36.4</td>\n",
              "      <td>4.857</td>\n",
              "      <td>5191.0</td>\n",
              "      <td>no</td>\n",
              "    </tr>\n",
              "    <tr>\n",
              "      <th>1</th>\n",
              "      <td>57</td>\n",
              "      <td>services</td>\n",
              "      <td>married</td>\n",
              "      <td>high.school</td>\n",
              "      <td>unknown</td>\n",
              "      <td>no</td>\n",
              "      <td>no</td>\n",
              "      <td>telephone</td>\n",
              "      <td>may</td>\n",
              "      <td>mon</td>\n",
              "      <td>...</td>\n",
              "      <td>1</td>\n",
              "      <td>999</td>\n",
              "      <td>0</td>\n",
              "      <td>nonexistent</td>\n",
              "      <td>2022-01-01</td>\n",
              "      <td>93.994</td>\n",
              "      <td>-36.4</td>\n",
              "      <td>4.857</td>\n",
              "      <td>5191.0</td>\n",
              "      <td>no</td>\n",
              "    </tr>\n",
              "    <tr>\n",
              "      <th>2</th>\n",
              "      <td>37</td>\n",
              "      <td>services</td>\n",
              "      <td>married</td>\n",
              "      <td>high.school</td>\n",
              "      <td>no</td>\n",
              "      <td>yes</td>\n",
              "      <td>no</td>\n",
              "      <td>telephone</td>\n",
              "      <td>may</td>\n",
              "      <td>mon</td>\n",
              "      <td>...</td>\n",
              "      <td>1</td>\n",
              "      <td>999</td>\n",
              "      <td>0</td>\n",
              "      <td>nonexistent</td>\n",
              "      <td>2022-01-01</td>\n",
              "      <td>93.994</td>\n",
              "      <td>-36.4</td>\n",
              "      <td>4.857</td>\n",
              "      <td>5191.0</td>\n",
              "      <td>no</td>\n",
              "    </tr>\n",
              "  </tbody>\n",
              "</table>\n",
              "<p>3 rows × 21 columns</p>\n",
              "</div>"
            ],
            "text/plain": [
              "   age        job  marital    education  default housing loan    contact   \n",
              "0   56  housemaid  married     basic.4y       no      no   no  telephone  \\\n",
              "1   57   services  married  high.school  unknown      no   no  telephone   \n",
              "2   37   services  married  high.school       no     yes   no  telephone   \n",
              "\n",
              "  month day_of_week  ...  campaign  pdays  previous     poutcome emp.var.rate   \n",
              "0   may         mon  ...         1    999         0  nonexistent   2022-01-01  \\\n",
              "1   may         mon  ...         1    999         0  nonexistent   2022-01-01   \n",
              "2   may         mon  ...         1    999         0  nonexistent   2022-01-01   \n",
              "\n",
              "  cons.price.idx  cons.conf.idx  euribor3m  nr.employed   y  \n",
              "0         93.994          -36.4      4.857       5191.0  no  \n",
              "1         93.994          -36.4      4.857       5191.0  no  \n",
              "2         93.994          -36.4      4.857       5191.0  no  \n",
              "\n",
              "[3 rows x 21 columns]"
            ]
          },
          "execution_count": 1471,
          "metadata": {},
          "output_type": "execute_result"
        }
      ],
      "source": [
        "bank_data.head(3)"
      ]
    },
    {
      "cell_type": "code",
      "execution_count": 1472,
      "metadata": {},
      "outputs": [],
      "source": [
        "bank_data.drop(columns = {'nr.employed','emp.var.rate'}, inplace =True)"
      ]
    },
    {
      "cell_type": "code",
      "execution_count": 1473,
      "metadata": {},
      "outputs": [
        {
          "data": {
            "text/plain": [
              "y\n",
              "no     36548\n",
              "yes     4640\n",
              "Name: count, dtype: int64"
            ]
          },
          "execution_count": 1473,
          "metadata": {},
          "output_type": "execute_result"
        }
      ],
      "source": [
        "bank_data['y'].value_counts()"
      ]
    },
    {
      "cell_type": "code",
      "execution_count": 1474,
      "metadata": {},
      "outputs": [
        {
          "data": {
            "text/plain": [
              "housing\n",
              "yes        21576\n",
              "no         18622\n",
              "unknown      990\n",
              "Name: count, dtype: int64"
            ]
          },
          "execution_count": 1474,
          "metadata": {},
          "output_type": "execute_result"
        }
      ],
      "source": [
        "bank_data['housing'].value_counts()"
      ]
    },
    {
      "cell_type": "code",
      "execution_count": 1475,
      "metadata": {},
      "outputs": [
        {
          "data": {
            "text/plain": [
              "contact\n",
              "cellular     26144\n",
              "telephone    15044\n",
              "Name: count, dtype: int64"
            ]
          },
          "execution_count": 1475,
          "metadata": {},
          "output_type": "execute_result"
        }
      ],
      "source": [
        "bank_data['contact'].value_counts()"
      ]
    },
    {
      "cell_type": "code",
      "execution_count": 1476,
      "metadata": {},
      "outputs": [
        {
          "data": {
            "text/plain": [
              "loan\n",
              "no         33950\n",
              "yes         6248\n",
              "unknown      990\n",
              "Name: count, dtype: int64"
            ]
          },
          "execution_count": 1476,
          "metadata": {},
          "output_type": "execute_result"
        }
      ],
      "source": [
        "bank_data['loan'].value_counts()"
      ]
    },
    {
      "cell_type": "code",
      "execution_count": 1477,
      "metadata": {},
      "outputs": [
        {
          "data": {
            "text/plain": [
              "job\n",
              "admin.           10422\n",
              "blue-collar       9254\n",
              "technician        6743\n",
              "services          3969\n",
              "management        2924\n",
              "retired           1720\n",
              "entrepreneur      1456\n",
              "self-employed     1421\n",
              "housemaid         1060\n",
              "unemployed        1014\n",
              "student            875\n",
              "unknown            330\n",
              "Name: count, dtype: int64"
            ]
          },
          "execution_count": 1477,
          "metadata": {},
          "output_type": "execute_result"
        }
      ],
      "source": [
        "bank_data['job'].value_counts()"
      ]
    },
    {
      "cell_type": "code",
      "execution_count": 1478,
      "metadata": {},
      "outputs": [],
      "source": [
        "columns_to_encode = ['job', 'loan', 'contact', 'housing', 'marital', 'education', 'default', 'poutcome', 'month', 'day_of_week' ]\n",
        "bank_data_new = pd.get_dummies(bank_data, columns = columns_to_encode)"
      ]
    },
    {
      "cell_type": "code",
      "execution_count": 1479,
      "metadata": {},
      "outputs": [],
      "source": [
        "from sklearn.preprocessing import LabelEncoder\n",
        "label_encoder = LabelEncoder()\n",
        "bank_data_new['y'] = label_encoder.fit_transform(bank_data_new['y'])"
      ]
    },
    {
      "cell_type": "code",
      "execution_count": 1480,
      "metadata": {},
      "outputs": [
        {
          "data": {
            "text/plain": [
              "y\n",
              "0    36548\n",
              "1     4640\n",
              "Name: count, dtype: int64"
            ]
          },
          "execution_count": 1480,
          "metadata": {},
          "output_type": "execute_result"
        }
      ],
      "source": [
        "bank_data_new['y'].value_counts()"
      ]
    },
    {
      "attachments": {},
      "cell_type": "markdown",
      "metadata": {
        "id": "MPrB6mNSyHg5"
      },
      "source": [
        "Step 2. List your features"
      ]
    },
    {
      "cell_type": "code",
      "execution_count": 1481,
      "metadata": {
        "id": "178yrku5yfYc"
      },
      "outputs": [
        {
          "name": "stdout",
          "output_type": "stream",
          "text": [
            "Index(['age', 'duration', 'campaign', 'pdays', 'previous', 'cons.price.idx',\n",
            "       'cons.conf.idx', 'euribor3m', 'y', 'job_admin.', 'job_blue-collar',\n",
            "       'job_entrepreneur', 'job_housemaid', 'job_management', 'job_retired',\n",
            "       'job_self-employed', 'job_services', 'job_student', 'job_technician',\n",
            "       'job_unemployed', 'job_unknown', 'loan_no', 'loan_unknown', 'loan_yes',\n",
            "       'contact_cellular', 'contact_telephone', 'housing_no',\n",
            "       'housing_unknown', 'housing_yes', 'marital_divorced', 'marital_married',\n",
            "       'marital_single', 'marital_unknown', 'education_basic.4y',\n",
            "       'education_basic.6y', 'education_basic.9y', 'education_high.school',\n",
            "       'education_illiterate', 'education_professional.course',\n",
            "       'education_university.degree', 'education_unknown', 'default_no',\n",
            "       'default_unknown', 'default_yes', 'poutcome_failure',\n",
            "       'poutcome_nonexistent', 'poutcome_success', 'month_apr', 'month_aug',\n",
            "       'month_dec', 'month_jul', 'month_jun', 'month_mar', 'month_may',\n",
            "       'month_nov', 'month_oct', 'month_sep', 'day_of_week_fri',\n",
            "       'day_of_week_mon', 'day_of_week_thu', 'day_of_week_tue',\n",
            "       'day_of_week_wed'],\n",
            "      dtype='object')\n"
          ]
        }
      ],
      "source": [
        "print(bank_data_new.columns)"
      ]
    },
    {
      "cell_type": "code",
      "execution_count": 1482,
      "metadata": {},
      "outputs": [
        {
          "data": {
            "text/html": [
              "<div>\n",
              "<style scoped>\n",
              "    .dataframe tbody tr th:only-of-type {\n",
              "        vertical-align: middle;\n",
              "    }\n",
              "\n",
              "    .dataframe tbody tr th {\n",
              "        vertical-align: top;\n",
              "    }\n",
              "\n",
              "    .dataframe thead th {\n",
              "        text-align: right;\n",
              "    }\n",
              "</style>\n",
              "<table border=\"1\" class=\"dataframe\">\n",
              "  <thead>\n",
              "    <tr style=\"text-align: right;\">\n",
              "      <th></th>\n",
              "      <th>y</th>\n",
              "    </tr>\n",
              "  </thead>\n",
              "  <tbody>\n",
              "    <tr>\n",
              "      <th>0</th>\n",
              "      <td>0</td>\n",
              "    </tr>\n",
              "    <tr>\n",
              "      <th>1</th>\n",
              "      <td>0</td>\n",
              "    </tr>\n",
              "    <tr>\n",
              "      <th>2</th>\n",
              "      <td>0</td>\n",
              "    </tr>\n",
              "    <tr>\n",
              "      <th>3</th>\n",
              "      <td>0</td>\n",
              "    </tr>\n",
              "    <tr>\n",
              "      <th>4</th>\n",
              "      <td>0</td>\n",
              "    </tr>\n",
              "    <tr>\n",
              "      <th>...</th>\n",
              "      <td>...</td>\n",
              "    </tr>\n",
              "    <tr>\n",
              "      <th>41183</th>\n",
              "      <td>1</td>\n",
              "    </tr>\n",
              "    <tr>\n",
              "      <th>41184</th>\n",
              "      <td>0</td>\n",
              "    </tr>\n",
              "    <tr>\n",
              "      <th>41185</th>\n",
              "      <td>0</td>\n",
              "    </tr>\n",
              "    <tr>\n",
              "      <th>41186</th>\n",
              "      <td>1</td>\n",
              "    </tr>\n",
              "    <tr>\n",
              "      <th>41187</th>\n",
              "      <td>0</td>\n",
              "    </tr>\n",
              "  </tbody>\n",
              "</table>\n",
              "<p>41188 rows × 1 columns</p>\n",
              "</div>"
            ],
            "text/plain": [
              "       y\n",
              "0      0\n",
              "1      0\n",
              "2      0\n",
              "3      0\n",
              "4      0\n",
              "...   ..\n",
              "41183  1\n",
              "41184  0\n",
              "41185  0\n",
              "41186  1\n",
              "41187  0\n",
              "\n",
              "[41188 rows x 1 columns]"
            ]
          },
          "execution_count": 1482,
          "metadata": {},
          "output_type": "execute_result"
        }
      ],
      "source": [
        "bank_data_new[['y']]"
      ]
    },
    {
      "cell_type": "code",
      "execution_count": 1483,
      "metadata": {},
      "outputs": [],
      "source": [
        "import sklearn\n",
        "from sklearn.neighbors import KNeighborsClassifier\n",
        "from sklearn.preprocessing import StandardScaler\n",
        "from sklearn.linear_model import LinearRegression, LogisticRegression\n",
        "from sklearn.model_selection import train_test_split, cross_val_score, GridSearchCV\n",
        "from sklearn.metrics import (\n",
        "    accuracy_score, precision_score, recall_score,\n",
        "    precision_recall_curve, roc_curve, roc_auc_score, f1_score, confusion_matrix\n",
        "    \n",
        ")\n",
        "from sklearn.feature_selection import SelectKBest, chi2\n",
        "from sklearn.ensemble import RandomForestClassifier\n",
        "from sklearn.feature_selection import SelectFromModel\n",
        "from numpy import array"
      ]
    },
    {
      "cell_type": "code",
      "execution_count": 1484,
      "metadata": {},
      "outputs": [],
      "source": [
        "def evaluate_model(note,Mparam, model, X_test, y_test, results):\n",
        "    pred = model.predict(X_test)\n",
        "    score = model.score(X_test, y_test)\n",
        "    precision = precision_score(y_test,pred)\n",
        "    recall = recall_score(y_test, pred)\n",
        "    f1 = f1_score(y_test, pred)\n",
        "    conf_matrix = confusion_matrix(y_test, pred)\n",
        "    true_positives = conf_matrix[0][0]\n",
        "    false_positives = conf_matrix[0][1]\n",
        "    false_negatives = conf_matrix[1][0]\n",
        "    true_negatives = conf_matrix[1][1]\n",
        "    new_result = pd.DataFrame({'note':note,'param': Mparam,'accuracy':score,'precision':precision,'recall':recall,'f1_score':f1,'true_positives':true_positives,'false_positives':false_positives,'false_negatives':false_negatives,'true_negatives':true_negatives},index=[0])\n",
        "    print(confusion_matrix(y_test, pred))\n",
        "    return pd.concat([results,new_result],axis=0)\n",
        "results = pd.DataFrame(columns=['note','param','accuracy','precision','recall','f1_score', 'true_positives','false_positives','false_negatives','true_negatives'])"
      ]
    },
    {
      "attachments": {},
      "cell_type": "markdown",
      "metadata": {
        "id": "XoUOhvuiyNsc"
      },
      "source": [
        "Step 3. Apply the RandomForestClassifier and LogisticRegression model with default parameters to your data \n",
        "What is the accuracy for your models?"
      ]
    },
    {
      "cell_type": "code",
      "execution_count": 1485,
      "metadata": {
        "id": "9lQmeMMNyf9i"
      },
      "outputs": [
        {
          "name": "stdout",
          "output_type": "stream",
          "text": [
            "model_accuracy_score:  0.9111391667475964\n",
            "[[8906  233]\n",
            " [ 682  476]]\n"
          ]
        },
        {
          "name": "stderr",
          "output_type": "stream",
          "text": [
            "/Users/basakbuluttekin/Library/Python/3.9/lib/python/site-packages/sklearn/linear_model/_logistic.py:458: ConvergenceWarning: lbfgs failed to converge (status=1):\n",
            "STOP: TOTAL NO. of ITERATIONS REACHED LIMIT.\n",
            "\n",
            "Increase the number of iterations (max_iter) or scale the data as shown in:\n",
            "    https://scikit-learn.org/stable/modules/preprocessing.html\n",
            "Please also refer to the documentation for alternative solver options:\n",
            "    https://scikit-learn.org/stable/modules/linear_model.html#logistic-regression\n",
            "  n_iter_i = _check_optimize_result(\n"
          ]
        }
      ],
      "source": [
        "Y = bank_data_new['y'].copy()\n",
        "X = bank_data_new.drop(columns= 'y').copy()\n",
        "\n",
        "X_train, X_test, Y_train, Y_test = train_test_split(X, Y, random_state=0)\n",
        "model = LogisticRegression()\n",
        "model.fit(X_train, Y_train)\n",
        "score = model.score(X_test, Y_test)\n",
        "print(\"model_accuracy_score: \",score)\n",
        "pred = model.predict(X_test)\n",
        "\n",
        "results = evaluate_model('Before Feature Selection_Logistic','Default', model, X_test, Y_test, results)\n",
        "\n"
      ]
    },
    {
      "cell_type": "code",
      "execution_count": 1486,
      "metadata": {},
      "outputs": [
        {
          "data": {
            "text/html": [
              "<div>\n",
              "<style scoped>\n",
              "    .dataframe tbody tr th:only-of-type {\n",
              "        vertical-align: middle;\n",
              "    }\n",
              "\n",
              "    .dataframe tbody tr th {\n",
              "        vertical-align: top;\n",
              "    }\n",
              "\n",
              "    .dataframe thead th {\n",
              "        text-align: right;\n",
              "    }\n",
              "</style>\n",
              "<table border=\"1\" class=\"dataframe\">\n",
              "  <thead>\n",
              "    <tr style=\"text-align: right;\">\n",
              "      <th></th>\n",
              "      <th>note</th>\n",
              "      <th>param</th>\n",
              "      <th>accuracy</th>\n",
              "      <th>precision</th>\n",
              "      <th>recall</th>\n",
              "      <th>f1_score</th>\n",
              "      <th>true_positives</th>\n",
              "      <th>false_positives</th>\n",
              "      <th>false_negatives</th>\n",
              "      <th>true_negatives</th>\n",
              "    </tr>\n",
              "  </thead>\n",
              "  <tbody>\n",
              "    <tr>\n",
              "      <th>0</th>\n",
              "      <td>Before Feature Selection_Logistic</td>\n",
              "      <td>Default</td>\n",
              "      <td>0.911139</td>\n",
              "      <td>0.671368</td>\n",
              "      <td>0.411054</td>\n",
              "      <td>0.509909</td>\n",
              "      <td>8906</td>\n",
              "      <td>233</td>\n",
              "      <td>682</td>\n",
              "      <td>476</td>\n",
              "    </tr>\n",
              "  </tbody>\n",
              "</table>\n",
              "</div>"
            ],
            "text/plain": [
              "                                note    param  accuracy  precision    recall   \n",
              "0  Before Feature Selection_Logistic  Default  0.911139   0.671368  0.411054  \\\n",
              "\n",
              "   f1_score true_positives false_positives false_negatives true_negatives  \n",
              "0  0.509909           8906             233             682            476  "
            ]
          },
          "execution_count": 1486,
          "metadata": {},
          "output_type": "execute_result"
        }
      ],
      "source": [
        "results"
      ]
    },
    {
      "cell_type": "code",
      "execution_count": 1487,
      "metadata": {},
      "outputs": [
        {
          "name": "stdout",
          "output_type": "stream",
          "text": [
            "model1_accuracy_score:  0.9138584053607847\n",
            "[[8890  249]\n",
            " [ 638  520]]\n"
          ]
        }
      ],
      "source": [
        "Y = bank_data_new['y'].copy()\n",
        "X = bank_data_new.drop(columns= 'y').copy()\n",
        "\n",
        "X_train, X_test, Y_train, Y_test = train_test_split(X, Y, random_state=0)\n",
        "model1 = RandomForestClassifier()\n",
        "model1.fit(X_train, Y_train)\n",
        "score1 = model1.score(X_test, Y_test)\n",
        "print(\"model1_accuracy_score: \",score1)\n",
        "\n",
        "pred = model1.predict(X_test)\n",
        "\n",
        "results = evaluate_model('Before Feature Selection_RandomForest','Default', model1, X_test, Y_test, results)"
      ]
    },
    {
      "cell_type": "code",
      "execution_count": 1488,
      "metadata": {},
      "outputs": [
        {
          "data": {
            "text/html": [
              "<div>\n",
              "<style scoped>\n",
              "    .dataframe tbody tr th:only-of-type {\n",
              "        vertical-align: middle;\n",
              "    }\n",
              "\n",
              "    .dataframe tbody tr th {\n",
              "        vertical-align: top;\n",
              "    }\n",
              "\n",
              "    .dataframe thead th {\n",
              "        text-align: right;\n",
              "    }\n",
              "</style>\n",
              "<table border=\"1\" class=\"dataframe\">\n",
              "  <thead>\n",
              "    <tr style=\"text-align: right;\">\n",
              "      <th></th>\n",
              "      <th>note</th>\n",
              "      <th>param</th>\n",
              "      <th>accuracy</th>\n",
              "      <th>precision</th>\n",
              "      <th>recall</th>\n",
              "      <th>f1_score</th>\n",
              "      <th>true_positives</th>\n",
              "      <th>false_positives</th>\n",
              "      <th>false_negatives</th>\n",
              "      <th>true_negatives</th>\n",
              "    </tr>\n",
              "  </thead>\n",
              "  <tbody>\n",
              "    <tr>\n",
              "      <th>0</th>\n",
              "      <td>Before Feature Selection_Logistic</td>\n",
              "      <td>Default</td>\n",
              "      <td>0.911139</td>\n",
              "      <td>0.671368</td>\n",
              "      <td>0.411054</td>\n",
              "      <td>0.509909</td>\n",
              "      <td>8906</td>\n",
              "      <td>233</td>\n",
              "      <td>682</td>\n",
              "      <td>476</td>\n",
              "    </tr>\n",
              "    <tr>\n",
              "      <th>0</th>\n",
              "      <td>Before Feature Selection_RandomForest</td>\n",
              "      <td>Default</td>\n",
              "      <td>0.913858</td>\n",
              "      <td>0.676203</td>\n",
              "      <td>0.449050</td>\n",
              "      <td>0.539699</td>\n",
              "      <td>8890</td>\n",
              "      <td>249</td>\n",
              "      <td>638</td>\n",
              "      <td>520</td>\n",
              "    </tr>\n",
              "  </tbody>\n",
              "</table>\n",
              "</div>"
            ],
            "text/plain": [
              "                                    note    param  accuracy  precision   \n",
              "0      Before Feature Selection_Logistic  Default  0.911139   0.671368  \\\n",
              "0  Before Feature Selection_RandomForest  Default  0.913858   0.676203   \n",
              "\n",
              "     recall  f1_score true_positives false_positives false_negatives   \n",
              "0  0.411054  0.509909           8906             233             682  \\\n",
              "0  0.449050  0.539699           8890             249             638   \n",
              "\n",
              "  true_negatives  \n",
              "0            476  \n",
              "0            520  "
            ]
          },
          "execution_count": 1488,
          "metadata": {},
          "output_type": "execute_result"
        }
      ],
      "source": [
        "results"
      ]
    },
    {
      "attachments": {},
      "cell_type": "markdown",
      "metadata": {
        "id": "qIG-oSLKyR7v"
      },
      "source": [
        "\n",
        "Step 4. Select features using SelectFromModel method. Explain, how you define the optimal number of features\n"
      ]
    },
    {
      "cell_type": "code",
      "execution_count": 1489,
      "metadata": {
        "id": "1gu17-s3ygub"
      },
      "outputs": [
        {
          "name": "stdout",
          "output_type": "stream",
          "text": [
            "Selection status:  [False False False False False False  True  True False  True False False\n",
            " False  True False False False False False False False False False  True\n",
            "  True False False False False  True  True False False False  True False\n",
            " False False  True False  True  True False False False False False False\n",
            " False False  True  True  True False False False False False False False\n",
            " False]\n",
            "All features:\n",
            "['age' 'duration' 'campaign' 'pdays' 'previous' 'cons.price.idx'\n",
            " 'cons.conf.idx' 'euribor3m' 'job_admin.' 'job_blue-collar'\n",
            " 'job_entrepreneur' 'job_housemaid' 'job_management' 'job_retired'\n",
            " 'job_self-employed' 'job_services' 'job_student' 'job_technician'\n",
            " 'job_unemployed' 'job_unknown' 'loan_no' 'loan_unknown' 'loan_yes'\n",
            " 'contact_cellular' 'contact_telephone' 'housing_no' 'housing_unknown'\n",
            " 'housing_yes' 'marital_divorced' 'marital_married' 'marital_single'\n",
            " 'marital_unknown' 'education_basic.4y' 'education_basic.6y'\n",
            " 'education_basic.9y' 'education_high.school' 'education_illiterate'\n",
            " 'education_professional.course' 'education_university.degree'\n",
            " 'education_unknown' 'default_no' 'default_unknown' 'default_yes'\n",
            " 'poutcome_failure' 'poutcome_nonexistent' 'poutcome_success' 'month_apr'\n",
            " 'month_aug' 'month_dec' 'month_jul' 'month_jun' 'month_mar' 'month_may'\n",
            " 'month_nov' 'month_oct' 'month_sep' 'day_of_week_fri' 'day_of_week_mon'\n",
            " 'day_of_week_thu' 'day_of_week_tue' 'day_of_week_wed']\n"
          ]
        },
        {
          "name": "stderr",
          "output_type": "stream",
          "text": [
            "/Users/basakbuluttekin/Library/Python/3.9/lib/python/site-packages/sklearn/linear_model/_logistic.py:458: ConvergenceWarning: lbfgs failed to converge (status=1):\n",
            "STOP: TOTAL NO. of ITERATIONS REACHED LIMIT.\n",
            "\n",
            "Increase the number of iterations (max_iter) or scale the data as shown in:\n",
            "    https://scikit-learn.org/stable/modules/preprocessing.html\n",
            "Please also refer to the documentation for alternative solver options:\n",
            "    https://scikit-learn.org/stable/modules/linear_model.html#logistic-regression\n",
            "  n_iter_i = _check_optimize_result(\n"
          ]
        }
      ],
      "source": [
        "feature_selection = SelectFromModel(model, threshold=None)\n",
        "feature_selection.fit(X_train, Y_train)\n",
        "hey = pd.DataFrame(feature_selection.estimator_.coef_).T\n",
        "\n",
        "status = feature_selection.get_support()\n",
        "print(\"Selection status: \", status) \n",
        " \n",
        "features = array(X.columns)\n",
        "print(\"All features:\")\n",
        "print(features) "
      ]
    },
    {
      "cell_type": "code",
      "execution_count": 1490,
      "metadata": {},
      "outputs": [
        {
          "data": {
            "text/plain": [
              "0.03953717188043171"
            ]
          },
          "execution_count": 1490,
          "metadata": {},
          "output_type": "execute_result"
        }
      ],
      "source": [
        "feature_selection.threshold_"
      ]
    },
    {
      "cell_type": "code",
      "execution_count": 1491,
      "metadata": {},
      "outputs": [
        {
          "data": {
            "text/plain": [
              "array(['cons.conf.idx', 'euribor3m', 'job_blue-collar', 'job_retired',\n",
              "       'contact_cellular', 'contact_telephone', 'marital_married',\n",
              "       'marital_single', 'education_basic.9y',\n",
              "       'education_university.degree', 'default_no', 'default_unknown',\n",
              "       'month_jun', 'month_mar', 'month_may'], dtype=object)"
            ]
          },
          "execution_count": 1491,
          "metadata": {},
          "output_type": "execute_result"
        }
      ],
      "source": [
        "feature_selection.get_feature_names_out()"
      ]
    },
    {
      "attachments": {},
      "cell_type": "markdown",
      "metadata": {
        "id": "-bV-demNyVBQ"
      },
      "source": [
        "\n",
        "Step 5. Apply the RandomForestClassifier and LogisticRegression model with default parameters to your data (only selected features). What is the accuracy for your models?"
      ]
    },
    {
      "cell_type": "code",
      "execution_count": 1492,
      "metadata": {
        "id": "19_2unWgyhgi"
      },
      "outputs": [],
      "source": [
        "data_final = bank_data_new[['cons.conf.idx', 'euribor3m', 'job_blue-collar', 'job_retired',\n",
        "       'contact_cellular', 'contact_telephone', 'marital_married',\n",
        "       'marital_single', 'education_basic.9y',\n",
        "       'education_university.degree', 'default_no', 'default_unknown',\n",
        "       'month_jun', 'month_mar', 'month_may', 'y']]"
      ]
    },
    {
      "cell_type": "code",
      "execution_count": 1493,
      "metadata": {},
      "outputs": [
        {
          "data": {
            "text/html": [
              "<div>\n",
              "<style scoped>\n",
              "    .dataframe tbody tr th:only-of-type {\n",
              "        vertical-align: middle;\n",
              "    }\n",
              "\n",
              "    .dataframe tbody tr th {\n",
              "        vertical-align: top;\n",
              "    }\n",
              "\n",
              "    .dataframe thead th {\n",
              "        text-align: right;\n",
              "    }\n",
              "</style>\n",
              "<table border=\"1\" class=\"dataframe\">\n",
              "  <thead>\n",
              "    <tr style=\"text-align: right;\">\n",
              "      <th></th>\n",
              "      <th>cons.conf.idx</th>\n",
              "      <th>euribor3m</th>\n",
              "      <th>job_blue-collar</th>\n",
              "      <th>job_retired</th>\n",
              "      <th>contact_cellular</th>\n",
              "      <th>contact_telephone</th>\n",
              "      <th>marital_married</th>\n",
              "      <th>marital_single</th>\n",
              "      <th>education_basic.9y</th>\n",
              "      <th>education_university.degree</th>\n",
              "      <th>default_no</th>\n",
              "      <th>default_unknown</th>\n",
              "      <th>month_jun</th>\n",
              "      <th>month_mar</th>\n",
              "      <th>month_may</th>\n",
              "      <th>y</th>\n",
              "    </tr>\n",
              "  </thead>\n",
              "  <tbody>\n",
              "    <tr>\n",
              "      <th>0</th>\n",
              "      <td>-36.4</td>\n",
              "      <td>4.857</td>\n",
              "      <td>False</td>\n",
              "      <td>False</td>\n",
              "      <td>False</td>\n",
              "      <td>True</td>\n",
              "      <td>True</td>\n",
              "      <td>False</td>\n",
              "      <td>False</td>\n",
              "      <td>False</td>\n",
              "      <td>True</td>\n",
              "      <td>False</td>\n",
              "      <td>False</td>\n",
              "      <td>False</td>\n",
              "      <td>True</td>\n",
              "      <td>0</td>\n",
              "    </tr>\n",
              "    <tr>\n",
              "      <th>1</th>\n",
              "      <td>-36.4</td>\n",
              "      <td>4.857</td>\n",
              "      <td>False</td>\n",
              "      <td>False</td>\n",
              "      <td>False</td>\n",
              "      <td>True</td>\n",
              "      <td>True</td>\n",
              "      <td>False</td>\n",
              "      <td>False</td>\n",
              "      <td>False</td>\n",
              "      <td>False</td>\n",
              "      <td>True</td>\n",
              "      <td>False</td>\n",
              "      <td>False</td>\n",
              "      <td>True</td>\n",
              "      <td>0</td>\n",
              "    </tr>\n",
              "    <tr>\n",
              "      <th>2</th>\n",
              "      <td>-36.4</td>\n",
              "      <td>4.857</td>\n",
              "      <td>False</td>\n",
              "      <td>False</td>\n",
              "      <td>False</td>\n",
              "      <td>True</td>\n",
              "      <td>True</td>\n",
              "      <td>False</td>\n",
              "      <td>False</td>\n",
              "      <td>False</td>\n",
              "      <td>True</td>\n",
              "      <td>False</td>\n",
              "      <td>False</td>\n",
              "      <td>False</td>\n",
              "      <td>True</td>\n",
              "      <td>0</td>\n",
              "    </tr>\n",
              "    <tr>\n",
              "      <th>3</th>\n",
              "      <td>-36.4</td>\n",
              "      <td>4.857</td>\n",
              "      <td>False</td>\n",
              "      <td>False</td>\n",
              "      <td>False</td>\n",
              "      <td>True</td>\n",
              "      <td>True</td>\n",
              "      <td>False</td>\n",
              "      <td>False</td>\n",
              "      <td>False</td>\n",
              "      <td>True</td>\n",
              "      <td>False</td>\n",
              "      <td>False</td>\n",
              "      <td>False</td>\n",
              "      <td>True</td>\n",
              "      <td>0</td>\n",
              "    </tr>\n",
              "    <tr>\n",
              "      <th>4</th>\n",
              "      <td>-36.4</td>\n",
              "      <td>4.857</td>\n",
              "      <td>False</td>\n",
              "      <td>False</td>\n",
              "      <td>False</td>\n",
              "      <td>True</td>\n",
              "      <td>True</td>\n",
              "      <td>False</td>\n",
              "      <td>False</td>\n",
              "      <td>False</td>\n",
              "      <td>True</td>\n",
              "      <td>False</td>\n",
              "      <td>False</td>\n",
              "      <td>False</td>\n",
              "      <td>True</td>\n",
              "      <td>0</td>\n",
              "    </tr>\n",
              "    <tr>\n",
              "      <th>...</th>\n",
              "      <td>...</td>\n",
              "      <td>...</td>\n",
              "      <td>...</td>\n",
              "      <td>...</td>\n",
              "      <td>...</td>\n",
              "      <td>...</td>\n",
              "      <td>...</td>\n",
              "      <td>...</td>\n",
              "      <td>...</td>\n",
              "      <td>...</td>\n",
              "      <td>...</td>\n",
              "      <td>...</td>\n",
              "      <td>...</td>\n",
              "      <td>...</td>\n",
              "      <td>...</td>\n",
              "      <td>...</td>\n",
              "    </tr>\n",
              "    <tr>\n",
              "      <th>41183</th>\n",
              "      <td>-50.8</td>\n",
              "      <td>1.028</td>\n",
              "      <td>False</td>\n",
              "      <td>True</td>\n",
              "      <td>True</td>\n",
              "      <td>False</td>\n",
              "      <td>True</td>\n",
              "      <td>False</td>\n",
              "      <td>False</td>\n",
              "      <td>False</td>\n",
              "      <td>True</td>\n",
              "      <td>False</td>\n",
              "      <td>False</td>\n",
              "      <td>False</td>\n",
              "      <td>False</td>\n",
              "      <td>1</td>\n",
              "    </tr>\n",
              "    <tr>\n",
              "      <th>41184</th>\n",
              "      <td>-50.8</td>\n",
              "      <td>1.028</td>\n",
              "      <td>True</td>\n",
              "      <td>False</td>\n",
              "      <td>True</td>\n",
              "      <td>False</td>\n",
              "      <td>True</td>\n",
              "      <td>False</td>\n",
              "      <td>False</td>\n",
              "      <td>False</td>\n",
              "      <td>True</td>\n",
              "      <td>False</td>\n",
              "      <td>False</td>\n",
              "      <td>False</td>\n",
              "      <td>False</td>\n",
              "      <td>0</td>\n",
              "    </tr>\n",
              "    <tr>\n",
              "      <th>41185</th>\n",
              "      <td>-50.8</td>\n",
              "      <td>1.028</td>\n",
              "      <td>False</td>\n",
              "      <td>True</td>\n",
              "      <td>True</td>\n",
              "      <td>False</td>\n",
              "      <td>True</td>\n",
              "      <td>False</td>\n",
              "      <td>False</td>\n",
              "      <td>True</td>\n",
              "      <td>True</td>\n",
              "      <td>False</td>\n",
              "      <td>False</td>\n",
              "      <td>False</td>\n",
              "      <td>False</td>\n",
              "      <td>0</td>\n",
              "    </tr>\n",
              "    <tr>\n",
              "      <th>41186</th>\n",
              "      <td>-50.8</td>\n",
              "      <td>1.028</td>\n",
              "      <td>False</td>\n",
              "      <td>False</td>\n",
              "      <td>True</td>\n",
              "      <td>False</td>\n",
              "      <td>True</td>\n",
              "      <td>False</td>\n",
              "      <td>False</td>\n",
              "      <td>False</td>\n",
              "      <td>True</td>\n",
              "      <td>False</td>\n",
              "      <td>False</td>\n",
              "      <td>False</td>\n",
              "      <td>False</td>\n",
              "      <td>1</td>\n",
              "    </tr>\n",
              "    <tr>\n",
              "      <th>41187</th>\n",
              "      <td>-50.8</td>\n",
              "      <td>1.028</td>\n",
              "      <td>False</td>\n",
              "      <td>True</td>\n",
              "      <td>True</td>\n",
              "      <td>False</td>\n",
              "      <td>True</td>\n",
              "      <td>False</td>\n",
              "      <td>False</td>\n",
              "      <td>False</td>\n",
              "      <td>True</td>\n",
              "      <td>False</td>\n",
              "      <td>False</td>\n",
              "      <td>False</td>\n",
              "      <td>False</td>\n",
              "      <td>0</td>\n",
              "    </tr>\n",
              "  </tbody>\n",
              "</table>\n",
              "<p>41188 rows × 16 columns</p>\n",
              "</div>"
            ],
            "text/plain": [
              "       cons.conf.idx  euribor3m  job_blue-collar  job_retired   \n",
              "0              -36.4      4.857            False        False  \\\n",
              "1              -36.4      4.857            False        False   \n",
              "2              -36.4      4.857            False        False   \n",
              "3              -36.4      4.857            False        False   \n",
              "4              -36.4      4.857            False        False   \n",
              "...              ...        ...              ...          ...   \n",
              "41183          -50.8      1.028            False         True   \n",
              "41184          -50.8      1.028             True        False   \n",
              "41185          -50.8      1.028            False         True   \n",
              "41186          -50.8      1.028            False        False   \n",
              "41187          -50.8      1.028            False         True   \n",
              "\n",
              "       contact_cellular  contact_telephone  marital_married  marital_single   \n",
              "0                 False               True             True           False  \\\n",
              "1                 False               True             True           False   \n",
              "2                 False               True             True           False   \n",
              "3                 False               True             True           False   \n",
              "4                 False               True             True           False   \n",
              "...                 ...                ...              ...             ...   \n",
              "41183              True              False             True           False   \n",
              "41184              True              False             True           False   \n",
              "41185              True              False             True           False   \n",
              "41186              True              False             True           False   \n",
              "41187              True              False             True           False   \n",
              "\n",
              "       education_basic.9y  education_university.degree  default_no   \n",
              "0                   False                        False        True  \\\n",
              "1                   False                        False       False   \n",
              "2                   False                        False        True   \n",
              "3                   False                        False        True   \n",
              "4                   False                        False        True   \n",
              "...                   ...                          ...         ...   \n",
              "41183               False                        False        True   \n",
              "41184               False                        False        True   \n",
              "41185               False                         True        True   \n",
              "41186               False                        False        True   \n",
              "41187               False                        False        True   \n",
              "\n",
              "       default_unknown  month_jun  month_mar  month_may  y  \n",
              "0                False      False      False       True  0  \n",
              "1                 True      False      False       True  0  \n",
              "2                False      False      False       True  0  \n",
              "3                False      False      False       True  0  \n",
              "4                False      False      False       True  0  \n",
              "...                ...        ...        ...        ... ..  \n",
              "41183            False      False      False      False  1  \n",
              "41184            False      False      False      False  0  \n",
              "41185            False      False      False      False  0  \n",
              "41186            False      False      False      False  1  \n",
              "41187            False      False      False      False  0  \n",
              "\n",
              "[41188 rows x 16 columns]"
            ]
          },
          "execution_count": 1493,
          "metadata": {},
          "output_type": "execute_result"
        }
      ],
      "source": [
        "data_final"
      ]
    },
    {
      "cell_type": "code",
      "execution_count": 1503,
      "metadata": {},
      "outputs": [
        {
          "name": "stdout",
          "output_type": "stream",
          "text": [
            "model1_accuracy_score:  0.8884141011945227\n",
            "[[9084   55]\n",
            " [1094   64]]\n"
          ]
        },
        {
          "name": "stderr",
          "output_type": "stream",
          "text": [
            "/Users/basakbuluttekin/Library/Python/3.9/lib/python/site-packages/sklearn/linear_model/_logistic.py:458: ConvergenceWarning: lbfgs failed to converge (status=1):\n",
            "STOP: TOTAL NO. of ITERATIONS REACHED LIMIT.\n",
            "\n",
            "Increase the number of iterations (max_iter) or scale the data as shown in:\n",
            "    https://scikit-learn.org/stable/modules/preprocessing.html\n",
            "Please also refer to the documentation for alternative solver options:\n",
            "    https://scikit-learn.org/stable/modules/linear_model.html#logistic-regression\n",
            "  n_iter_i = _check_optimize_result(\n"
          ]
        }
      ],
      "source": [
        "Y = data_final['y'].copy()\n",
        "X = data_final.drop(columns= 'y').copy()\n",
        "\n",
        "X_train, X_test, Y_train, Y_test = train_test_split(X, Y, random_state=0)\n",
        "model2 = LogisticRegression()\n",
        "model2.fit(X_train, Y_train)\n",
        "score = model2.score(X_test, Y_test)\n",
        "print(\"model1_accuracy_score: \",score)\n",
        "\n",
        "pred = model2.predict(X_test)\n",
        "\n",
        "results = evaluate_model('After Feature Selection_Logistic','Default', model2, X_test, Y_test, results)"
      ]
    },
    {
      "cell_type": "code",
      "execution_count": 1504,
      "metadata": {},
      "outputs": [
        {
          "name": "stdout",
          "output_type": "stream",
          "text": [
            "model1_accuracy_score:  0.8897737205011168\n",
            "[[8864  275]\n",
            " [ 860  298]]\n"
          ]
        }
      ],
      "source": [
        "Y = data_final['y'].copy()\n",
        "X = data_final.drop(columns= 'y').copy()\n",
        "\n",
        "X_train, X_test, Y_train, Y_test = train_test_split(X, Y, random_state=0)\n",
        "model3 = RandomForestClassifier()\n",
        "model3.fit(X_train, Y_train)\n",
        "score1 = model3.score(X_test, Y_test)\n",
        "print(\"model1_accuracy_score: \",score1)\n",
        "\n",
        "pred = model3.predict(X_test)\n",
        "\n",
        "results = evaluate_model('After Feature Selection_RansomForest','Default', model3, X_test, Y_test, results)"
      ]
    },
    {
      "cell_type": "code",
      "execution_count": 1505,
      "metadata": {},
      "outputs": [
        {
          "data": {
            "text/html": [
              "<div>\n",
              "<style scoped>\n",
              "    .dataframe tbody tr th:only-of-type {\n",
              "        vertical-align: middle;\n",
              "    }\n",
              "\n",
              "    .dataframe tbody tr th {\n",
              "        vertical-align: top;\n",
              "    }\n",
              "\n",
              "    .dataframe thead th {\n",
              "        text-align: right;\n",
              "    }\n",
              "</style>\n",
              "<table border=\"1\" class=\"dataframe\">\n",
              "  <thead>\n",
              "    <tr style=\"text-align: right;\">\n",
              "      <th></th>\n",
              "      <th>note</th>\n",
              "      <th>param</th>\n",
              "      <th>accuracy</th>\n",
              "      <th>precision</th>\n",
              "      <th>recall</th>\n",
              "      <th>f1_score</th>\n",
              "      <th>true_positives</th>\n",
              "      <th>false_positives</th>\n",
              "      <th>false_negatives</th>\n",
              "      <th>true_negatives</th>\n",
              "    </tr>\n",
              "  </thead>\n",
              "  <tbody>\n",
              "    <tr>\n",
              "      <th>0</th>\n",
              "      <td>Before Feature Selection_Logistic</td>\n",
              "      <td>Default</td>\n",
              "      <td>0.911139</td>\n",
              "      <td>0.671368</td>\n",
              "      <td>0.411054</td>\n",
              "      <td>0.509909</td>\n",
              "      <td>8906</td>\n",
              "      <td>233</td>\n",
              "      <td>682</td>\n",
              "      <td>476</td>\n",
              "    </tr>\n",
              "    <tr>\n",
              "      <th>0</th>\n",
              "      <td>Before Feature Selection_RandomForest</td>\n",
              "      <td>Default</td>\n",
              "      <td>0.913858</td>\n",
              "      <td>0.676203</td>\n",
              "      <td>0.449050</td>\n",
              "      <td>0.539699</td>\n",
              "      <td>8890</td>\n",
              "      <td>249</td>\n",
              "      <td>638</td>\n",
              "      <td>520</td>\n",
              "    </tr>\n",
              "    <tr>\n",
              "      <th>0</th>\n",
              "      <td>After Feature Selection_Logistic</td>\n",
              "      <td>Default</td>\n",
              "      <td>0.888414</td>\n",
              "      <td>0.537815</td>\n",
              "      <td>0.055268</td>\n",
              "      <td>0.100235</td>\n",
              "      <td>9084</td>\n",
              "      <td>55</td>\n",
              "      <td>1094</td>\n",
              "      <td>64</td>\n",
              "    </tr>\n",
              "    <tr>\n",
              "      <th>0</th>\n",
              "      <td>After Feature Selection_RansomForest</td>\n",
              "      <td>Default</td>\n",
              "      <td>0.889774</td>\n",
              "      <td>0.520070</td>\n",
              "      <td>0.257340</td>\n",
              "      <td>0.344310</td>\n",
              "      <td>8864</td>\n",
              "      <td>275</td>\n",
              "      <td>860</td>\n",
              "      <td>298</td>\n",
              "    </tr>\n",
              "  </tbody>\n",
              "</table>\n",
              "</div>"
            ],
            "text/plain": [
              "                                    note    param  accuracy  precision   \n",
              "0      Before Feature Selection_Logistic  Default  0.911139   0.671368  \\\n",
              "0  Before Feature Selection_RandomForest  Default  0.913858   0.676203   \n",
              "0       After Feature Selection_Logistic  Default  0.888414   0.537815   \n",
              "0   After Feature Selection_RansomForest  Default  0.889774   0.520070   \n",
              "\n",
              "     recall  f1_score true_positives false_positives false_negatives   \n",
              "0  0.411054  0.509909           8906             233             682  \\\n",
              "0  0.449050  0.539699           8890             249             638   \n",
              "0  0.055268  0.100235           9084              55            1094   \n",
              "0  0.257340  0.344310           8864             275             860   \n",
              "\n",
              "  true_negatives  \n",
              "0            476  \n",
              "0            520  \n",
              "0             64  \n",
              "0            298  "
            ]
          },
          "execution_count": 1505,
          "metadata": {},
          "output_type": "execute_result"
        }
      ],
      "source": [
        "results"
      ]
    },
    {
      "attachments": {},
      "cell_type": "markdown",
      "metadata": {
        "id": "s_EcvHZEyYAj"
      },
      "source": [
        "\n",
        "Step 6. Select features using RFE and RFECV methods. Explain, how you define the optimal number of features for each of the cases."
      ]
    },
    {
      "cell_type": "code",
      "execution_count": 1496,
      "metadata": {},
      "outputs": [],
      "source": [
        "# RFE feature selection:\n",
        "Y = bank_data_new['y'].copy()\n",
        "X = bank_data_new.drop(columns = 'y').copy()"
      ]
    },
    {
      "cell_type": "code",
      "execution_count": 1497,
      "metadata": {
        "id": "O3s1Abx9yiH0"
      },
      "outputs": [
        {
          "data": {
            "text/html": [
              "<style>#sk-container-id-6 {color: black;background-color: white;}#sk-container-id-6 pre{padding: 0;}#sk-container-id-6 div.sk-toggleable {background-color: white;}#sk-container-id-6 label.sk-toggleable__label {cursor: pointer;display: block;width: 100%;margin-bottom: 0;padding: 0.3em;box-sizing: border-box;text-align: center;}#sk-container-id-6 label.sk-toggleable__label-arrow:before {content: \"▸\";float: left;margin-right: 0.25em;color: #696969;}#sk-container-id-6 label.sk-toggleable__label-arrow:hover:before {color: black;}#sk-container-id-6 div.sk-estimator:hover label.sk-toggleable__label-arrow:before {color: black;}#sk-container-id-6 div.sk-toggleable__content {max-height: 0;max-width: 0;overflow: hidden;text-align: left;background-color: #f0f8ff;}#sk-container-id-6 div.sk-toggleable__content pre {margin: 0.2em;color: black;border-radius: 0.25em;background-color: #f0f8ff;}#sk-container-id-6 input.sk-toggleable__control:checked~div.sk-toggleable__content {max-height: 200px;max-width: 100%;overflow: auto;}#sk-container-id-6 input.sk-toggleable__control:checked~label.sk-toggleable__label-arrow:before {content: \"▾\";}#sk-container-id-6 div.sk-estimator input.sk-toggleable__control:checked~label.sk-toggleable__label {background-color: #d4ebff;}#sk-container-id-6 div.sk-label input.sk-toggleable__control:checked~label.sk-toggleable__label {background-color: #d4ebff;}#sk-container-id-6 input.sk-hidden--visually {border: 0;clip: rect(1px 1px 1px 1px);clip: rect(1px, 1px, 1px, 1px);height: 1px;margin: -1px;overflow: hidden;padding: 0;position: absolute;width: 1px;}#sk-container-id-6 div.sk-estimator {font-family: monospace;background-color: #f0f8ff;border: 1px dotted black;border-radius: 0.25em;box-sizing: border-box;margin-bottom: 0.5em;}#sk-container-id-6 div.sk-estimator:hover {background-color: #d4ebff;}#sk-container-id-6 div.sk-parallel-item::after {content: \"\";width: 100%;border-bottom: 1px solid gray;flex-grow: 1;}#sk-container-id-6 div.sk-label:hover label.sk-toggleable__label {background-color: #d4ebff;}#sk-container-id-6 div.sk-serial::before {content: \"\";position: absolute;border-left: 1px solid gray;box-sizing: border-box;top: 0;bottom: 0;left: 50%;z-index: 0;}#sk-container-id-6 div.sk-serial {display: flex;flex-direction: column;align-items: center;background-color: white;padding-right: 0.2em;padding-left: 0.2em;position: relative;}#sk-container-id-6 div.sk-item {position: relative;z-index: 1;}#sk-container-id-6 div.sk-parallel {display: flex;align-items: stretch;justify-content: center;background-color: white;position: relative;}#sk-container-id-6 div.sk-item::before, #sk-container-id-6 div.sk-parallel-item::before {content: \"\";position: absolute;border-left: 1px solid gray;box-sizing: border-box;top: 0;bottom: 0;left: 50%;z-index: -1;}#sk-container-id-6 div.sk-parallel-item {display: flex;flex-direction: column;z-index: 1;position: relative;background-color: white;}#sk-container-id-6 div.sk-parallel-item:first-child::after {align-self: flex-end;width: 50%;}#sk-container-id-6 div.sk-parallel-item:last-child::after {align-self: flex-start;width: 50%;}#sk-container-id-6 div.sk-parallel-item:only-child::after {width: 0;}#sk-container-id-6 div.sk-dashed-wrapped {border: 1px dashed gray;margin: 0 0.4em 0.5em 0.4em;box-sizing: border-box;padding-bottom: 0.4em;background-color: white;}#sk-container-id-6 div.sk-label label {font-family: monospace;font-weight: bold;display: inline-block;line-height: 1.2em;}#sk-container-id-6 div.sk-label-container {text-align: center;}#sk-container-id-6 div.sk-container {/* jupyter's `normalize.less` sets `[hidden] { display: none; }` but bootstrap.min.css set `[hidden] { display: none !important; }` so we also need the `!important` here to be able to override the default hidden behavior on the sphinx rendered scikit-learn.org. See: https://github.com/scikit-learn/scikit-learn/issues/21755 */display: inline-block !important;position: relative;}#sk-container-id-6 div.sk-text-repr-fallback {display: none;}</style><div id=\"sk-container-id-6\" class=\"sk-top-container\"><div class=\"sk-text-repr-fallback\"><pre>RFE(estimator=LinearRegression(), n_features_to_select=20, verbose=False)</pre><b>In a Jupyter environment, please rerun this cell to show the HTML representation or trust the notebook. <br />On GitHub, the HTML representation is unable to render, please try loading this page with nbviewer.org.</b></div><div class=\"sk-container\" hidden><div class=\"sk-item sk-dashed-wrapped\"><div class=\"sk-label-container\"><div class=\"sk-label sk-toggleable\"><input class=\"sk-toggleable__control sk-hidden--visually\" id=\"sk-estimator-id-16\" type=\"checkbox\" ><label for=\"sk-estimator-id-16\" class=\"sk-toggleable__label sk-toggleable__label-arrow\">RFE</label><div class=\"sk-toggleable__content\"><pre>RFE(estimator=LinearRegression(), n_features_to_select=20, verbose=False)</pre></div></div></div><div class=\"sk-parallel\"><div class=\"sk-parallel-item\"><div class=\"sk-item\"><div class=\"sk-label-container\"><div class=\"sk-label sk-toggleable\"><input class=\"sk-toggleable__control sk-hidden--visually\" id=\"sk-estimator-id-17\" type=\"checkbox\" ><label for=\"sk-estimator-id-17\" class=\"sk-toggleable__label sk-toggleable__label-arrow\">estimator: LinearRegression</label><div class=\"sk-toggleable__content\"><pre>LinearRegression()</pre></div></div></div><div class=\"sk-serial\"><div class=\"sk-item\"><div class=\"sk-estimator sk-toggleable\"><input class=\"sk-toggleable__control sk-hidden--visually\" id=\"sk-estimator-id-18\" type=\"checkbox\" ><label for=\"sk-estimator-id-18\" class=\"sk-toggleable__label sk-toggleable__label-arrow\">LinearRegression</label><div class=\"sk-toggleable__content\"><pre>LinearRegression()</pre></div></div></div></div></div></div></div></div></div></div>"
            ],
            "text/plain": [
              "RFE(estimator=LinearRegression(), n_features_to_select=20, verbose=False)"
            ]
          },
          "execution_count": 1497,
          "metadata": {},
          "output_type": "execute_result"
        }
      ],
      "source": [
        "from sklearn.feature_selection import RFE\n",
        "model =LinearRegression()\n",
        "rfe = RFE(model, n_features_to_select=20, verbose=False)\n",
        "rfe.fit(X, Y)\n"
      ]
    },
    {
      "cell_type": "code",
      "execution_count": 1498,
      "metadata": {},
      "outputs": [
        {
          "name": "stdout",
          "output_type": "stream",
          "text": [
            "Selection status:  [False False False False False False False False False False False False\n",
            " False False False False False False False False  True False  True  True\n",
            "  True False  True False False False False False False False False False\n",
            " False False False False False  True  True  True  True  True  True  True\n",
            "  True  True  True  True  True  True  True  True False False False False\n",
            " False]\n"
          ]
        },
        {
          "data": {
            "text/plain": [
              "array(['loan_no', 'loan_yes', 'contact_cellular', 'contact_telephone',\n",
              "       'housing_unknown', 'default_unknown', 'default_yes',\n",
              "       'poutcome_failure', 'poutcome_nonexistent', 'poutcome_success',\n",
              "       'month_apr', 'month_aug', 'month_dec', 'month_jul', 'month_jun',\n",
              "       'month_mar', 'month_may', 'month_nov', 'month_oct', 'month_sep'],\n",
              "      dtype=object)"
            ]
          },
          "execution_count": 1498,
          "metadata": {},
          "output_type": "execute_result"
        }
      ],
      "source": [
        "status = rfe.get_support()\n",
        "print(\"Selection status: \", status) \n",
        "rfe.get_feature_names_out()"
      ]
    },
    {
      "cell_type": "code",
      "execution_count": 1499,
      "metadata": {},
      "outputs": [],
      "source": [
        "data_final2 = bank_data_new[['loan_no', 'loan_yes', 'contact_cellular', 'contact_telephone',\n",
        "       'housing_unknown', 'default_unknown', 'default_yes',\n",
        "       'poutcome_failure', 'poutcome_nonexistent', 'poutcome_success',\n",
        "       'month_apr', 'month_aug', 'month_dec', 'month_jul', 'month_jun',\n",
        "       'month_mar', 'month_may', 'month_nov', 'month_oct', 'month_sep','y']]"
      ]
    },
    {
      "cell_type": "code",
      "execution_count": 1500,
      "metadata": {},
      "outputs": [],
      "source": [
        "# RFE feature selection:\n",
        "Y = bank_data_new['y'].copy()\n",
        "X = bank_data_new.drop(columns = 'y').copy()"
      ]
    },
    {
      "cell_type": "code",
      "execution_count": 1501,
      "metadata": {},
      "outputs": [],
      "source": [
        "from sklearn.feature_selection import RFECV\n",
        "model =LinearRegression()\n",
        "rfecv = RFECV(model, step=1, cv=5)\n",
        "rfecv = rfecv.fit(X, Y)"
      ]
    },
    {
      "cell_type": "code",
      "execution_count": 1502,
      "metadata": {},
      "outputs": [
        {
          "name": "stdout",
          "output_type": "stream",
          "text": [
            "Selection status:  [False  True  True  True  True  True  True  True  True  True  True  True\n",
            "  True  True  True  True  True  True  True  True  True  True  True  True\n",
            "  True  True  True  True  True  True  True  True  True  True  True  True\n",
            "  True  True  True  True  True  True  True  True  True  True  True  True\n",
            "  True  True  True  True  True  True  True  True  True  True  True  True\n",
            "  True]\n"
          ]
        },
        {
          "data": {
            "text/plain": [
              "array(['duration', 'campaign', 'pdays', 'previous', 'cons.price.idx',\n",
              "       'cons.conf.idx', 'euribor3m', 'job_admin.', 'job_blue-collar',\n",
              "       'job_entrepreneur', 'job_housemaid', 'job_management',\n",
              "       'job_retired', 'job_self-employed', 'job_services', 'job_student',\n",
              "       'job_technician', 'job_unemployed', 'job_unknown', 'loan_no',\n",
              "       'loan_unknown', 'loan_yes', 'contact_cellular',\n",
              "       'contact_telephone', 'housing_no', 'housing_unknown',\n",
              "       'housing_yes', 'marital_divorced', 'marital_married',\n",
              "       'marital_single', 'marital_unknown', 'education_basic.4y',\n",
              "       'education_basic.6y', 'education_basic.9y',\n",
              "       'education_high.school', 'education_illiterate',\n",
              "       'education_professional.course', 'education_university.degree',\n",
              "       'education_unknown', 'default_no', 'default_unknown',\n",
              "       'default_yes', 'poutcome_failure', 'poutcome_nonexistent',\n",
              "       'poutcome_success', 'month_apr', 'month_aug', 'month_dec',\n",
              "       'month_jul', 'month_jun', 'month_mar', 'month_may', 'month_nov',\n",
              "       'month_oct', 'month_sep', 'day_of_week_fri', 'day_of_week_mon',\n",
              "       'day_of_week_thu', 'day_of_week_tue', 'day_of_week_wed'],\n",
              "      dtype=object)"
            ]
          },
          "execution_count": 1502,
          "metadata": {},
          "output_type": "execute_result"
        }
      ],
      "source": [
        "status = rfecv.get_support()\n",
        "print(\"Selection status: \", status) \n",
        "rfecv.get_feature_names_out()"
      ]
    },
    {
      "cell_type": "code",
      "execution_count": 1506,
      "metadata": {},
      "outputs": [],
      "source": [
        "data_final3 = bank_data_new[['duration', 'campaign', 'pdays', 'previous', 'cons.price.idx',\n",
        "       'cons.conf.idx', 'euribor3m', 'job_admin.', 'job_blue-collar',\n",
        "       'job_entrepreneur', 'job_housemaid', 'job_management',\n",
        "       'job_retired', 'job_self-employed', 'job_services', 'job_student',\n",
        "       'job_technician', 'job_unemployed', 'job_unknown', 'loan_no',\n",
        "       'loan_unknown', 'loan_yes', 'contact_cellular',\n",
        "       'contact_telephone', 'housing_no', 'housing_unknown',\n",
        "       'housing_yes', 'marital_divorced', 'marital_married',\n",
        "       'marital_single', 'marital_unknown', 'education_basic.4y',\n",
        "       'education_basic.6y', 'education_basic.9y',\n",
        "       'education_high.school', 'education_illiterate',\n",
        "       'education_professional.course', 'education_university.degree',\n",
        "       'education_unknown', 'default_no', 'default_unknown',\n",
        "       'default_yes', 'poutcome_failure', 'poutcome_nonexistent',\n",
        "       'poutcome_success', 'month_apr', 'month_aug', 'month_dec',\n",
        "       'month_jul', 'month_jun', 'month_mar', 'month_may', 'month_nov',\n",
        "       'month_oct', 'month_sep', 'day_of_week_fri', 'day_of_week_mon',\n",
        "       'day_of_week_thu', 'day_of_week_tue', 'day_of_week_wed','y']]"
      ]
    },
    {
      "attachments": {},
      "cell_type": "markdown",
      "metadata": {
        "id": "m9OmWQP5ybBw"
      },
      "source": [
        "Step 7. Apply the RandomForestClassifier and LogisticRegression model with default parameters to your data (you will have 4 models, taking into account two sets of features that you got). What is the accuracy for your models?\n"
      ]
    },
    {
      "cell_type": "code",
      "execution_count": 1507,
      "metadata": {
        "id": "HU4cha-ryiqR"
      },
      "outputs": [
        {
          "name": "stdout",
          "output_type": "stream",
          "text": [
            "model1_accuracy_score:  0.8955035447217636\n",
            "[[9023  116]\n",
            " [ 960  198]]\n"
          ]
        }
      ],
      "source": [
        "Y = data_final2['y'].copy()\n",
        "X = data_final2.drop(columns= 'y').copy()\n",
        "\n",
        "X_train, X_test, Y_train, Y_test = train_test_split(X, Y, random_state=0)\n",
        "model4 = LogisticRegression()\n",
        "model4.fit(X_train, Y_train)\n",
        "score = model4.score(X_test, Y_test)\n",
        "print(\"model1_accuracy_score: \",score)\n",
        "\n",
        "pred = model4.predict(X_test)\n",
        "\n",
        "results = evaluate_model('After RFE_Logistic','Default', model4, X_test, Y_test, results)"
      ]
    },
    {
      "cell_type": "code",
      "execution_count": 1508,
      "metadata": {},
      "outputs": [
        {
          "name": "stdout",
          "output_type": "stream",
          "text": [
            "model1_accuracy_score:  0.8969602796931145\n",
            "[[9004  135]\n",
            " [ 926  232]]\n"
          ]
        }
      ],
      "source": [
        "Y = data_final2['y'].copy()\n",
        "X = data_final2.drop(columns= 'y').copy()\n",
        "\n",
        "X_train, X_test, Y_train, Y_test = train_test_split(X, Y, random_state=0)\n",
        "model5 = RandomForestClassifier()\n",
        "model5.fit(X_train, Y_train)\n",
        "score = model5.score(X_test, Y_test)\n",
        "print(\"model1_accuracy_score: \",score)\n",
        "\n",
        "pred = model5.predict(X_test)\n",
        "\n",
        "results = evaluate_model('After RFE_RandomForest','Default', model5, X_test, Y_test, results)"
      ]
    },
    {
      "cell_type": "code",
      "execution_count": 1509,
      "metadata": {},
      "outputs": [
        {
          "name": "stdout",
          "output_type": "stream",
          "text": [
            "model1_accuracy_score:  0.9110420510828396\n",
            "[[8902  237]\n",
            " [ 679  479]]\n"
          ]
        },
        {
          "name": "stderr",
          "output_type": "stream",
          "text": [
            "/Users/basakbuluttekin/Library/Python/3.9/lib/python/site-packages/sklearn/linear_model/_logistic.py:458: ConvergenceWarning: lbfgs failed to converge (status=1):\n",
            "STOP: TOTAL NO. of ITERATIONS REACHED LIMIT.\n",
            "\n",
            "Increase the number of iterations (max_iter) or scale the data as shown in:\n",
            "    https://scikit-learn.org/stable/modules/preprocessing.html\n",
            "Please also refer to the documentation for alternative solver options:\n",
            "    https://scikit-learn.org/stable/modules/linear_model.html#logistic-regression\n",
            "  n_iter_i = _check_optimize_result(\n"
          ]
        }
      ],
      "source": [
        "Y = data_final3['y'].copy()\n",
        "X = data_final3.drop(columns= 'y').copy()\n",
        "\n",
        "X_train, X_test, Y_train, Y_test = train_test_split(X, Y, random_state=0)\n",
        "model6 = LogisticRegression()\n",
        "model6.fit(X_train, Y_train)\n",
        "score = model6.score(X_test, Y_test)\n",
        "print(\"model1_accuracy_score: \",score)\n",
        "\n",
        "pred = model6.predict(X_test)\n",
        "\n",
        "results = evaluate_model('After RFECV_Logistic','Default', model6, X_test, Y_test, results)"
      ]
    },
    {
      "cell_type": "code",
      "execution_count": 1510,
      "metadata": {},
      "outputs": [
        {
          "name": "stdout",
          "output_type": "stream",
          "text": [
            "model1_accuracy_score:  0.9142468680198116\n",
            "[[8879  260]\n",
            " [ 623  535]]\n"
          ]
        }
      ],
      "source": [
        "Y = data_final3['y'].copy()\n",
        "X = data_final3.drop(columns= 'y').copy()\n",
        "\n",
        "X_train, X_test, Y_train, Y_test = train_test_split(X, Y, random_state=0)\n",
        "model7 = RandomForestClassifier()\n",
        "model7.fit(X_train, Y_train)\n",
        "score = model7.score(X_test, Y_test)\n",
        "print(\"model1_accuracy_score: \",score)\n",
        "\n",
        "pred = model7.predict(X_test)\n",
        "\n",
        "results = evaluate_model('After RFE_RandomForest','Default', model7, X_test, Y_test, results)"
      ]
    },
    {
      "cell_type": "code",
      "execution_count": 1511,
      "metadata": {},
      "outputs": [
        {
          "data": {
            "text/html": [
              "<div>\n",
              "<style scoped>\n",
              "    .dataframe tbody tr th:only-of-type {\n",
              "        vertical-align: middle;\n",
              "    }\n",
              "\n",
              "    .dataframe tbody tr th {\n",
              "        vertical-align: top;\n",
              "    }\n",
              "\n",
              "    .dataframe thead th {\n",
              "        text-align: right;\n",
              "    }\n",
              "</style>\n",
              "<table border=\"1\" class=\"dataframe\">\n",
              "  <thead>\n",
              "    <tr style=\"text-align: right;\">\n",
              "      <th></th>\n",
              "      <th>note</th>\n",
              "      <th>param</th>\n",
              "      <th>accuracy</th>\n",
              "      <th>precision</th>\n",
              "      <th>recall</th>\n",
              "      <th>f1_score</th>\n",
              "      <th>true_positives</th>\n",
              "      <th>false_positives</th>\n",
              "      <th>false_negatives</th>\n",
              "      <th>true_negatives</th>\n",
              "    </tr>\n",
              "  </thead>\n",
              "  <tbody>\n",
              "    <tr>\n",
              "      <th>0</th>\n",
              "      <td>Before Feature Selection_Logistic</td>\n",
              "      <td>Default</td>\n",
              "      <td>0.911139</td>\n",
              "      <td>0.671368</td>\n",
              "      <td>0.411054</td>\n",
              "      <td>0.509909</td>\n",
              "      <td>8906</td>\n",
              "      <td>233</td>\n",
              "      <td>682</td>\n",
              "      <td>476</td>\n",
              "    </tr>\n",
              "    <tr>\n",
              "      <th>0</th>\n",
              "      <td>Before Feature Selection_RandomForest</td>\n",
              "      <td>Default</td>\n",
              "      <td>0.913858</td>\n",
              "      <td>0.676203</td>\n",
              "      <td>0.449050</td>\n",
              "      <td>0.539699</td>\n",
              "      <td>8890</td>\n",
              "      <td>249</td>\n",
              "      <td>638</td>\n",
              "      <td>520</td>\n",
              "    </tr>\n",
              "    <tr>\n",
              "      <th>0</th>\n",
              "      <td>After Feature Selection_Logistic</td>\n",
              "      <td>Default</td>\n",
              "      <td>0.888414</td>\n",
              "      <td>0.537815</td>\n",
              "      <td>0.055268</td>\n",
              "      <td>0.100235</td>\n",
              "      <td>9084</td>\n",
              "      <td>55</td>\n",
              "      <td>1094</td>\n",
              "      <td>64</td>\n",
              "    </tr>\n",
              "    <tr>\n",
              "      <th>0</th>\n",
              "      <td>After Feature Selection_RansomForest</td>\n",
              "      <td>Default</td>\n",
              "      <td>0.889774</td>\n",
              "      <td>0.520070</td>\n",
              "      <td>0.257340</td>\n",
              "      <td>0.344310</td>\n",
              "      <td>8864</td>\n",
              "      <td>275</td>\n",
              "      <td>860</td>\n",
              "      <td>298</td>\n",
              "    </tr>\n",
              "    <tr>\n",
              "      <th>0</th>\n",
              "      <td>After RFE_Logistic</td>\n",
              "      <td>Default</td>\n",
              "      <td>0.895504</td>\n",
              "      <td>0.630573</td>\n",
              "      <td>0.170984</td>\n",
              "      <td>0.269022</td>\n",
              "      <td>9023</td>\n",
              "      <td>116</td>\n",
              "      <td>960</td>\n",
              "      <td>198</td>\n",
              "    </tr>\n",
              "    <tr>\n",
              "      <th>0</th>\n",
              "      <td>After RFE_RandomForest</td>\n",
              "      <td>Default</td>\n",
              "      <td>0.896960</td>\n",
              "      <td>0.632153</td>\n",
              "      <td>0.200345</td>\n",
              "      <td>0.304262</td>\n",
              "      <td>9004</td>\n",
              "      <td>135</td>\n",
              "      <td>926</td>\n",
              "      <td>232</td>\n",
              "    </tr>\n",
              "    <tr>\n",
              "      <th>0</th>\n",
              "      <td>After RFECV_Logistic</td>\n",
              "      <td>Default</td>\n",
              "      <td>0.911042</td>\n",
              "      <td>0.668994</td>\n",
              "      <td>0.413644</td>\n",
              "      <td>0.511206</td>\n",
              "      <td>8902</td>\n",
              "      <td>237</td>\n",
              "      <td>679</td>\n",
              "      <td>479</td>\n",
              "    </tr>\n",
              "    <tr>\n",
              "      <th>0</th>\n",
              "      <td>After RFE_RandomForest</td>\n",
              "      <td>Default</td>\n",
              "      <td>0.914247</td>\n",
              "      <td>0.672956</td>\n",
              "      <td>0.462003</td>\n",
              "      <td>0.547875</td>\n",
              "      <td>8879</td>\n",
              "      <td>260</td>\n",
              "      <td>623</td>\n",
              "      <td>535</td>\n",
              "    </tr>\n",
              "  </tbody>\n",
              "</table>\n",
              "</div>"
            ],
            "text/plain": [
              "                                    note    param  accuracy  precision   \n",
              "0      Before Feature Selection_Logistic  Default  0.911139   0.671368  \\\n",
              "0  Before Feature Selection_RandomForest  Default  0.913858   0.676203   \n",
              "0       After Feature Selection_Logistic  Default  0.888414   0.537815   \n",
              "0   After Feature Selection_RansomForest  Default  0.889774   0.520070   \n",
              "0                     After RFE_Logistic  Default  0.895504   0.630573   \n",
              "0                 After RFE_RandomForest  Default  0.896960   0.632153   \n",
              "0                   After RFECV_Logistic  Default  0.911042   0.668994   \n",
              "0                 After RFE_RandomForest  Default  0.914247   0.672956   \n",
              "\n",
              "     recall  f1_score true_positives false_positives false_negatives   \n",
              "0  0.411054  0.509909           8906             233             682  \\\n",
              "0  0.449050  0.539699           8890             249             638   \n",
              "0  0.055268  0.100235           9084              55            1094   \n",
              "0  0.257340  0.344310           8864             275             860   \n",
              "0  0.170984  0.269022           9023             116             960   \n",
              "0  0.200345  0.304262           9004             135             926   \n",
              "0  0.413644  0.511206           8902             237             679   \n",
              "0  0.462003  0.547875           8879             260             623   \n",
              "\n",
              "  true_negatives  \n",
              "0            476  \n",
              "0            520  \n",
              "0             64  \n",
              "0            298  \n",
              "0            198  \n",
              "0            232  \n",
              "0            479  \n",
              "0            535  "
            ]
          },
          "execution_count": 1511,
          "metadata": {},
          "output_type": "execute_result"
        }
      ],
      "source": [
        "results"
      ]
    },
    {
      "attachments": {},
      "cell_type": "markdown",
      "metadata": {
        "id": "37SCDzF0yBZC"
      },
      "source": [
        "\n",
        "\n",
        "\n",
        "\n",
        "\n",
        "\n",
        "\n",
        "\n",
        "\n",
        "Step 8. Please make the conclusion about the utility of the feature selection"
      ]
    },
    {
      "cell_type": "code",
      "execution_count": null,
      "metadata": {
        "id": "35gKrW65f9Ym"
      },
      "outputs": [],
      "source": [
        "# Feature selection has high importance to get the highest accuracy score for the training models.\n",
        "# RFECV selection with RandomForestClassifier gave the highest accuracy score but at the same time it took\n",
        "# the longest time to run so when we have big datasets, it will be computationaly expensive but \n",
        "# results will be better. "
      ]
    },
    {
      "cell_type": "code",
      "execution_count": null,
      "metadata": {
        "id": "xMG7-WLtx_kz"
      },
      "outputs": [],
      "source": []
    }
  ],
  "metadata": {
    "colab": {
      "collapsed_sections": [
        "gDkJXhN9fhcA",
        "49TTLiq7fhcF",
        "TciEBCyXfhcG",
        "memkwXoPfhcH",
        "t5SyM4bTfhcH",
        "SufgsNC1fhcI",
        "6nbSfbWWfhcJ",
        "tbCazUjNfhcK",
        "8ctUrk4DfhcL",
        "UfPYpqjHfhcM",
        "oDMV_zHffhcM",
        "128J08eFfhcP",
        "auNRd2TjfhcQ",
        "x6NQcl_vfhcR",
        "m1cfmFmWfhcS",
        "eNxu-scifhcT",
        "o0Llo0cNfhcT",
        "Aj0qu-_1fhcU",
        "aNZMlA9RfhcX",
        "LTOHBfanfhcY",
        "EXhmXFJifhcb"
      ],
      "name": "main.ipynb",
      "provenance": []
    },
    "kernelspec": {
      "display_name": "Python 3",
      "language": "python",
      "name": "python3"
    },
    "language_info": {
      "codemirror_mode": {
        "name": "ipython",
        "version": 3
      },
      "file_extension": ".py",
      "mimetype": "text/x-python",
      "name": "python",
      "nbconvert_exporter": "python",
      "pygments_lexer": "ipython3",
      "version": "3.9.6"
    }
  },
  "nbformat": 4,
  "nbformat_minor": 0
}
