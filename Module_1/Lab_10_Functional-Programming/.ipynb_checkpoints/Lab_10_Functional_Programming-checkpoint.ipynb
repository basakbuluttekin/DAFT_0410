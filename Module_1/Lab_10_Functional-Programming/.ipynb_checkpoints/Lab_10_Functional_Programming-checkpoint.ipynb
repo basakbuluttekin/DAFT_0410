{
 "cells": [
  {
   "cell_type": "code",
   "execution_count": 16,
   "id": "49ffdad7",
   "metadata": {},
   "outputs": [],
   "source": [
    "#1 - Consider an array/list of sheep where some sheep may be missing from their place. \n",
    "#We need a function that counts the number of sheep present in the array (true means present).\n",
    "\n",
    "def count_sheeps(sheep):\n",
    "    presency = sum(x for x in sheep)\n",
    "    return presency"
   ]
  },
  {
   "cell_type": "code",
   "execution_count": 17,
   "id": "6bca03b3",
   "metadata": {},
   "outputs": [
    {
     "data": {
      "text/plain": [
       "17"
      ]
     },
     "execution_count": 17,
     "metadata": {},
     "output_type": "execute_result"
    }
   ],
   "source": [
    "sheep = [True,  True,  True,  False, True,  True,  True,  True ,True,  False, True,  False,True,  \n",
    "            False, False, True , True,  True,  True,  True , False, False, True,  True]\n",
    "count_sheeps(sheep)"
   ]
  },
  {
   "cell_type": "code",
   "execution_count": null,
   "id": "ca6841ce",
   "metadata": {},
   "outputs": [],
   "source": [
    "#2 - def remove_every_other(my_list):\n",
    "    A = [1, 2, 3, 4, 5, 6]\n",
    "    \n",
    "    pass"
   ]
  },
  {
   "cell_type": "code",
   "execution_count": 36,
   "id": "85827aa2",
   "metadata": {},
   "outputs": [
    {
     "name": "stdout",
     "output_type": "stream",
     "text": [
      "[8, 7, 6, 5, 4, 3, 2]\n"
     ]
    }
   ],
   "source": [
    "#3 - Given a random non-negative number, you have to return the digits of this number within an array \n",
    "#in reverse order.\n",
    "\n",
    "def digitize(n):\n",
    "    number_list = [int(i) for i in str(n)]\n",
    "    return ((number_list)[::-1])\n",
    "\n",
    "print(digitize(\"2345678\"))"
   ]
  },
  {
   "cell_type": "code",
   "execution_count": 46,
   "id": "91131398",
   "metadata": {},
   "outputs": [
    {
     "name": "stdout",
     "output_type": "stream",
     "text": [
      "925\n"
     ]
    }
   ],
   "source": [
    "#4 - You are asked to square every digit of a number and concatenate them.\n",
    "\n",
    "def square_digits(num):\n",
    "    number_list = [int(i) for i in str(num)]\n",
    "    list_square = [i ** 2 for i in number_list]     \n",
    "    #print(list_square)\n",
    "    concatenate = \"\"\n",
    "    for num in list_square:\n",
    "        concatenate+= str(num)\n",
    "    print(concatenate)\n",
    "\n",
    "square_digits(35)   "
   ]
  },
  {
   "cell_type": "code",
   "execution_count": 20,
   "id": "629ecfaf",
   "metadata": {},
   "outputs": [
    {
     "data": {
      "text/plain": [
       "[(1, 2), (5, 2), (4, 2)]"
      ]
     },
     "execution_count": 20,
     "metadata": {},
     "output_type": "execute_result"
    }
   ],
   "source": [
    "#5 - need a method in the List Class that may count specific digits from a given list of integers. \n",
    "# This marked digits will be given in a second list. \n",
    "\n",
    "\n",
    "def count_specific_digits(integers_list, digits_list):\n",
    "    count = [0] * len(digits_list)\n",
    "    for i in integers_list:\n",
    "        while i > 0:\n",
    "            digit = i %10\n",
    "            if digit in digits_list:\n",
    "                count[digits_list.index(digit)] += 1\n",
    "            i //= 10\n",
    "    return list(zip(digits_list, count))\n",
    "\n",
    "\n",
    "\n",
    "    \n",
    "integers_list = [124, 45, 5, 17]\n",
    "digits_list = [1, 5, 4]\n",
    "count_specific_digits(integers_list, digits_list)   \n",
    "    \n",
    "    \n",
    "    \n",
    "    \n",
    "    "
   ]
  }
 ],
 "metadata": {
  "kernelspec": {
   "display_name": "Python 3 (ipykernel)",
   "language": "python",
   "name": "python3"
  },
  "language_info": {
   "codemirror_mode": {
    "name": "ipython",
    "version": 3
   },
   "file_extension": ".py",
   "mimetype": "text/x-python",
   "name": "python",
   "nbconvert_exporter": "python",
   "pygments_lexer": "ipython3",
   "version": "3.9.13"
  }
 },
 "nbformat": 4,
 "nbformat_minor": 5
}
